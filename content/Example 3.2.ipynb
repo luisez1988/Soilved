{
 "cells": [
  {
   "attachments": {},
   "cell_type": "markdown",
   "metadata": {},
   "source": [
    "# Example 3.2\n",
    "\n",
    "Find the compaction effort of the standard Proctor test knowing $h_d=45.7$ cm, $m_h=4.54$ kg, $N_b=25$, $N_l=3$. Compute the result in lb-ft/ft^3 and kJ/m^3.\n"
   ]
  },
  {
   "attachments": {},
   "cell_type": "markdown",
   "metadata": {},
   "source": [
    "## Data:\n",
    "\n",
    "$h_d=45.7$ cm\n",
    "\n",
    "$m_h= 4.54$ kg\n",
    "\n",
    "$N_b=25$\n",
    "\n",
    "$N_l=3$\n",
    "\n",
    "$V=0.001$ m^3"
   ]
  },
  {
   "attachments": {},
   "cell_type": "markdown",
   "metadata": {},
   "source": [
    "## Principles:\n",
    "\n",
    "$E_c=m_h g \\cfrac{h_d N_b N_l}{V}$"
   ]
  },
  {
   "cell_type": "code",
   "execution_count": 2,
   "metadata": {},
   "outputs": [
    {
     "name": "stdout",
     "output_type": "stream",
     "text": [
      "Ec= 1526.52 kJ/m^3\n"
     ]
    }
   ],
   "source": [
    "# inputs\n",
    "V=0.001 # volume in m^3\n",
    "m=4.54 # mass in kg\n",
    "h=45.7/100 # height in meters\n",
    "Nl=3 # number of layers\n",
    "Nb=25 #number of blows per layer\n",
    "\n",
    "Ec=m*9.81*h*Nb*Nl/(V*1000) #Compaction effort in kJ/m^3\n",
    "print(\"Ec= %1.2f kJ/m^3\" %Ec)\n"
   ]
  },
  {
   "cell_type": "code",
   "execution_count": 5,
   "metadata": {},
   "outputs": [
    {
     "name": "stdout",
     "output_type": "stream",
     "text": [
      "Ec= 7721.21 lb-ft/ft^3\n"
     ]
    }
   ],
   "source": [
    "# inputs\n",
    "V=0.03 # volume in ft^3\n",
    "m=4.54/2.204 # mass in lb\n",
    "h=(45.7/2.54)/12 # height in ft\n",
    "Nl=3 # number of layers\n",
    "Nb=25 #number of blows per layer\n",
    "\n",
    "Ec=m*h*Nb*Nl/(V) #Compaction effort in lb-ft/ft^3\n",
    "print(\"Ec= %1.2f lb-ft/ft^3\" %Ec)"
   ]
  },
  {
   "cell_type": "code",
   "execution_count": null,
   "metadata": {},
   "outputs": [],
   "source": []
  }
 ],
 "metadata": {
  "kernelspec": {
   "display_name": "base",
   "language": "python",
   "name": "python3"
  },
  "language_info": {
   "codemirror_mode": {
    "name": "ipython",
    "version": 3
   },
   "file_extension": ".py",
   "mimetype": "text/x-python",
   "name": "python",
   "nbconvert_exporter": "python",
   "pygments_lexer": "ipython3",
   "version": "3.9.7"
  },
  "orig_nbformat": 4,
  "vscode": {
   "interpreter": {
    "hash": "ad2bdc8ecc057115af97d19610ffacc2b4e99fae6737bb82f5d7fb13d2f2c186"
   }
  }
 },
 "nbformat": 4,
 "nbformat_minor": 2
}
