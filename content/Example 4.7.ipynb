{
 "cells": [
  {
   "attachments": {
    "image.png": {
     "image/png": "[encoded data removed]"
    }
   },
   "cell_type": "markdown",
   "metadata": {},
   "source": [
    "# Example 4.7\n",
    "\n",
    "For the points in the figure below determine the total head, the pressure head, and the location of the piezometric line.\n",
    "\n",
    "![image.png](attachment:image.png)"
   ]
  },
  {
   "attachments": {},
   "cell_type": "markdown",
   "metadata": {},
   "source": [
    "## Data:\n",
    "\n",
    "Elevation of figures"
   ]
  },
  {
   "attachments": {},
   "cell_type": "markdown",
   "metadata": {},
   "source": [
    "## Principles:\n",
    "\n",
    "$h=z+u/\\gamma_w$"
   ]
  },
  {
   "cell_type": "code",
   "execution_count": 3,
   "metadata": {},
   "outputs": [],
   "source": [
    "import numpy as np"
   ]
  },
  {
   "cell_type": "code",
   "execution_count": 4,
   "metadata": {},
   "outputs": [
    {
     "name": "stdout",
     "output_type": "stream",
     "text": [
      "h @ #1= 1490 ft\n",
      "h @ #2= 1490 ft\n",
      "h @ #3= 1490 ft\n",
      "h @ #4= 1490 ft\n"
     ]
    }
   ],
   "source": [
    "\n",
    "# we set up the datum when the elevation is 0 \n",
    "# I'm going to define the list of elevations\n",
    "z=np.array([1450, 1450, 1470, 1490])\n",
    "\n",
    "#Now I will define the water head over the points (elevation of water table - elevation of soil)\n",
    "\n",
    "hw=np.array([40, 40, 20, 0]) # recall hw=u/gamma_w\n",
    "\n",
    "#finally use the head equation\n",
    "\n",
    "h=z+hw #total head for all points\n",
    "\n",
    "# now I will print the values\n",
    "i=0\n",
    "for hi in h:\n",
    "    i += 1\n",
    "    print('h @ #%s= %1.0f ft' %(i, hi))\n"
   ]
  },
  {
   "cell_type": "markdown",
   "metadata": {},
   "source": []
  }
 ],
 "metadata": {
  "kernelspec": {
   "display_name": "base",
   "language": "python",
   "name": "python3"
  },
  "language_info": {
   "codemirror_mode": {
    "name": "ipython",
    "version": 3
   },
   "file_extension": ".py",
   "mimetype": "text/x-python",
   "name": "python",
   "nbconvert_exporter": "python",
   "pygments_lexer": "ipython3",
   "version": "3.9.7"
  },
  "orig_nbformat": 4,
  "vscode": {
   "interpreter": {
    "hash": "ad2bdc8ecc057115af97d19610ffacc2b4e99fae6737bb82f5d7fb13d2f2c186"
   }
  }
 },
 "nbformat": 4,
 "nbformat_minor": 2
}
