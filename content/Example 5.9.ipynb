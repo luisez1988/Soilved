{
 "cells": [
  {
   "attachments": {},
   "cell_type": "markdown",
   "metadata": {},
   "source": [
    "# Example 5.9\n",
    "\n",
    "Calculate the value of $T_v$ for degrees of consolidation equal to 50%, 90%, and 95% using:\n",
    "\n",
    "* The analytical equation\n",
    "* The solution's curve\n",
    "* The approximate solution\n"
   ]
  },
  {
   "attachments": {},
   "cell_type": "markdown",
   "metadata": {},
   "source": [
    "# Data:\n",
    "\n",
    "$U=50$ %, 90% and 95 %"
   ]
  },
  {
   "attachments": {},
   "cell_type": "markdown",
   "metadata": {},
   "source": [
    "## Principles part 1:\n",
    "\n",
    "$U=1-\\sum_{n=0}^\\infty \\cfrac{8}{\\pi^2(2n+1)^2} \\exp \\left[- \\cfrac{(2n+1)^2 \\pi^2}{4} T_v\\right]$"
   ]
  },
  {
   "cell_type": "code",
   "execution_count": 1,
   "metadata": {},
   "outputs": [],
   "source": [
    "import numpy as np\n",
    "import matplotlib.pyplot as plt"
   ]
  },
  {
   "cell_type": "code",
   "execution_count": 2,
   "metadata": {},
   "outputs": [],
   "source": [
    "def consol_degree(n, Tv):\n",
    "    U=1\n",
    "    for i in range(n):\n",
    "        U=U-(8/(np.pi*(2*i+1))**2)*np.exp(-0.25*((2*i+1)*np.pi)**2*Tv)\n",
    "    return U*100"
   ]
  },
  {
   "cell_type": "code",
   "execution_count": 8,
   "metadata": {},
   "outputs": [
    {
     "data": {
      "text/plain": [
       "Text(0, 0.5, 'Degree of Consolidation $U$ [%]')"
      ]
     },
     "execution_count": 8,
     "metadata": {},
     "output_type": "execute_result"
    },
    {
     "data": {
      "image/png": "[encoded data removed]",
      "text/plain": [
       "<Figure size 432x288 with 1 Axes>"
      ]
     },
     "metadata": {
      "needs_background": "light"
     },
     "output_type": "display_data"
    }
   ],
   "source": [
    "Tv=np.linspace(0, 1.2, 1000)\n",
    "U=consol_degree(100, Tv)\n",
    "plt.plot(Tv, U)\n",
    "plt.xlabel(r'Time factor $T_v$')\n",
    "plt.ylabel(r'Degree of Consolidation $U$ [%]')"
   ]
  },
  {
   "cell_type": "code",
   "execution_count": 10,
   "metadata": {},
   "outputs": [
    {
     "name": "stdout",
     "output_type": "stream",
     "text": [
      "Tv_50= 0.197\n"
     ]
    }
   ],
   "source": [
    "Tv1=np.interp(50, U, Tv)\n",
    "print('Tv_50= %1.3f' %Tv1)"
   ]
  },
  {
   "cell_type": "code",
   "execution_count": 12,
   "metadata": {},
   "outputs": [
    {
     "name": "stdout",
     "output_type": "stream",
     "text": [
      "Tv_50= 0.848\n"
     ]
    }
   ],
   "source": [
    "Tv2=np.interp(90, U, Tv)\n",
    "print('Tv_50= %1.3f' %Tv2)"
   ]
  },
  {
   "cell_type": "code",
   "execution_count": 13,
   "metadata": {},
   "outputs": [
    {
     "name": "stdout",
     "output_type": "stream",
     "text": [
      "Tv_50= 1.129\n"
     ]
    }
   ],
   "source": [
    "Tv3=np.interp(95, U, Tv)\n",
    "print('Tv_50= %1.3f' %Tv3)"
   ]
  },
  {
   "attachments": {},
   "cell_type": "markdown",
   "metadata": {},
   "source": [
    "## Principles part 3:\n",
    "\n",
    "$T_v= \\cfrac{\\pi}{4}(U/100)^2$ for $U<60\\%$\n",
    "\n",
    "$T_v= 1.781-0.933 \\log(100-U)$ for $U \\geq 60\\%$"
   ]
  },
  {
   "cell_type": "code",
   "execution_count": 16,
   "metadata": {},
   "outputs": [],
   "source": [
    "def Get_approx_Tv(U):\n",
    "    if (U<60):\n",
    "        Tv=0.25*np.pi*(U/100)**2\n",
    "    else:\n",
    "        Tv=1.781-0.933*np.log10(100-U)\n",
    "    return Tv"
   ]
  },
  {
   "cell_type": "code",
   "execution_count": 17,
   "metadata": {},
   "outputs": [
    {
     "name": "stdout",
     "output_type": "stream",
     "text": [
      "Tv_50= 0.196\n"
     ]
    }
   ],
   "source": [
    "Tv1=Get_approx_Tv(50)\n",
    "\n",
    "print('Tv_50= %1.3f' %Tv1)"
   ]
  },
  {
   "cell_type": "code",
   "execution_count": 18,
   "metadata": {},
   "outputs": [
    {
     "name": "stdout",
     "output_type": "stream",
     "text": [
      "Tv_50= 0.848\n"
     ]
    }
   ],
   "source": [
    "Tv1=Get_approx_Tv(90)\n",
    "\n",
    "print('Tv_50= %1.3f' %Tv1)"
   ]
  },
  {
   "cell_type": "code",
   "execution_count": 19,
   "metadata": {},
   "outputs": [
    {
     "name": "stdout",
     "output_type": "stream",
     "text": [
      "Tv_50= 1.129\n"
     ]
    }
   ],
   "source": [
    "Tv1=Get_approx_Tv(95)\n",
    "\n",
    "print('Tv_50= %1.3f' %Tv1)"
   ]
  },
  {
   "cell_type": "code",
   "execution_count": null,
   "metadata": {},
   "outputs": [],
   "source": []
  }
 ],
 "metadata": {
  "kernelspec": {
   "display_name": "base",
   "language": "python",
   "name": "python3"
  },
  "language_info": {
   "codemirror_mode": {
    "name": "ipython",
    "version": 3
   },
   "file_extension": ".py",
   "mimetype": "text/x-python",
   "name": "python",
   "nbconvert_exporter": "python",
   "pygments_lexer": "ipython3",
   "version": "3.8.8"
  },
  "orig_nbformat": 4
 },
 "nbformat": 4,
 "nbformat_minor": 2
}
