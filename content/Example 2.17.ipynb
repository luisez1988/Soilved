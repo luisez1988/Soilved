{
 "cells": [
  {
   "attachments": {},
   "cell_type": "markdown",
   "metadata": {},
   "source": [
    "# Example 2.17\n",
    "\n",
    "Classify the soil of Example 2.7 using the USCS and the AASHTO classification system. What is its rating as a subgrade material? The soil is non-plastic"
   ]
  },
  {
   "attachments": {},
   "cell_type": "markdown",
   "metadata": {},
   "source": [
    "## Data:\n",
    "\n",
    "$G_F=0\\%$\n",
    "\n",
    "$S_F=70\\%$\n",
    "\n",
    "$F_F=30\\%$\n",
    "\n",
    "$C_u=24.2$\n",
    "\n",
    "$C_c=5.57$\n",
    "\n",
    "Non-plastic"
   ]
  },
  {
   "attachments": {},
   "cell_type": "markdown",
   "metadata": {},
   "source": [
    "## Principles\n",
    "\n",
    "$PI=LL-PL$\n",
    "\n",
    "ASTM D2487\n",
    "\n",
    "AASHTO classification chart"
   ]
  },
  {
   "cell_type": "code",
   "execution_count": 1,
   "metadata": {},
   "outputs": [],
   "source": [
    "import Soilved as slv"
   ]
  },
  {
   "cell_type": "code",
   "execution_count": 2,
   "metadata": {},
   "outputs": [],
   "source": [
    "GF=0 #gravel fraction in percent\n",
    "SF=70 #sand fraction in percent\n",
    "FF=30 #Fine fraction in percent"
   ]
  },
  {
   "cell_type": "code",
   "execution_count": 3,
   "metadata": {},
   "outputs": [
    {
     "name": "stdout",
     "output_type": "stream",
     "text": [
      "SM\n",
      "Silty sand\n"
     ]
    }
   ],
   "source": [
    "Group, Name=slv.GetUSCS(GF, SF, FF, Cc=5.57, Cu=24.2) #Programmed USCS in python\n",
    "print(Group)\n",
    "print(Name)"
   ]
  },
  {
   "attachments": {},
   "cell_type": "markdown",
   "metadata": {},
   "source": [
    "For sieve No 10 Interpolate from GSD. I found it to be 92%\n",
    "SOLUTION IS: A-2-4"
   ]
  },
  {
   "cell_type": "code",
   "execution_count": null,
   "metadata": {},
   "outputs": [],
   "source": []
  }
 ],
 "metadata": {
  "kernelspec": {
   "display_name": "base",
   "language": "python",
   "name": "python3"
  },
  "language_info": {
   "codemirror_mode": {
    "name": "ipython",
    "version": 3
   },
   "file_extension": ".py",
   "mimetype": "text/x-python",
   "name": "python",
   "nbconvert_exporter": "python",
   "pygments_lexer": "ipython3",
   "version": "3.9.7"
  },
  "orig_nbformat": 4,
  "vscode": {
   "interpreter": {
    "hash": "ad2bdc8ecc057115af97d19610ffacc2b4e99fae6737bb82f5d7fb13d2f2c186"
   }
  }
 },
 "nbformat": 4,
 "nbformat_minor": 2
}
