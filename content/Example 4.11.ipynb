{
 "cells": [
  {
   "attachments": {},
   "cell_type": "markdown",
   "metadata": {},
   "source": [
    "# Example 4.11\n",
    "\n",
    "A soil permeability device has a chamber of 6 inches of diameter by 12 inches height. If the typical permeability of soil samples tested on this device ranges from $1 \\times 10^{-5}$ cm/s to $1 \\times 10^{-3}$ cm/s, what is the maximum required head difference so that at the end of the test at least 100 gr of water are collected in no more than an hour. "
   ]
  },
  {
   "attachments": {},
   "cell_type": "markdown",
   "metadata": {},
   "source": [
    "## Data:\n",
    "\n",
    "$h_c=12$ in\n",
    "\n",
    "$D_c= 6$ in\n",
    "\n",
    "$k_{min}=1 \\times 10^{-5}$ cm/s\n",
    "\n",
    "$m_{min}= 100$ gr\n",
    "\n",
    "$\\Delta t_{max}=1$ hr"
   ]
  },
  {
   "attachments": {},
   "cell_type": "markdown",
   "metadata": {},
   "source": [
    "## Principles\n",
    "\n",
    "$q=kiA$\n",
    "\n",
    "$k=\\cfrac{QL}{A \\Delta h \\Delta t}$"
   ]
  },
  {
   "cell_type": "code",
   "execution_count": 1,
   "metadata": {},
   "outputs": [],
   "source": [
    "import numpy as np"
   ]
  },
  {
   "cell_type": "code",
   "execution_count": 4,
   "metadata": {},
   "outputs": [
    {
     "name": "stdout",
     "output_type": "stream",
     "text": [
      "A= 182.41 cm^2\n",
      "dh= 46.41 cm\n"
     ]
    }
   ],
   "source": [
    "# Imputing data\n",
    "Q=100 #Volume of water in cm3\n",
    "dt= 1*3600 # time in seconds\n",
    "hc=12*2.54 #height in cm\n",
    "Dc=6*2.54 #diameter in cm\n",
    "k=1e-5 #k in cm/s\n",
    "\n",
    "A=0.25*np.pi*Dc**2 #Cross sectional area in cm^2\n",
    "print('A= %1.2f cm^2' % A)\n",
    "\n",
    "dh=Q*hc/(A*k*dt) #head difference in cm\n",
    "\n",
    "print('dh= %1.2f cm' %dh)\n"
   ]
  },
  {
   "cell_type": "code",
   "execution_count": 6,
   "metadata": {},
   "outputs": [
    {
     "name": "stdout",
     "output_type": "stream",
     "text": [
      "A= 182.41 cm^2\n",
      "dh= 92.83 cm\n"
     ]
    }
   ],
   "source": [
    "# Imputing data\n",
    "Q=100 #Volume of water in cm3\n",
    "dt= 5*3600 # time in seconds\n",
    "hc=12*2.54 #height in cm\n",
    "Dc=6*2.54 #diameter in cm\n",
    "k=1e-5 #k in cm/s\n",
    "\n",
    "A=0.25*np.pi*Dc**2 #Cross sectional area in cm^2\n",
    "print('A= %1.2f cm^2' % A)\n",
    "\n",
    "dh=Q*hc/(A*k*dt) #head difference in cm\n",
    "\n",
    "print('dh= %1.2f cm' %dh)"
   ]
  },
  {
   "cell_type": "code",
   "execution_count": 7,
   "metadata": {},
   "outputs": [
    {
     "name": "stdout",
     "output_type": "stream",
     "text": [
      "A= 182.41 cm^2\n",
      "dh= 4.64 cm\n"
     ]
    }
   ],
   "source": [
    "# Imputing data\n",
    "Q=100 #Volume of water in cm3\n",
    "dt= 1*3600 # time in seconds\n",
    "hc=12*2.54 #height in cm\n",
    "Dc=6*2.54 #diameter in cm\n",
    "k=1e-3 #k in cm/s\n",
    "\n",
    "A=0.25*np.pi*Dc**2 #Cross sectional area in cm^2\n",
    "print('A= %1.2f cm^2' % A)\n",
    "\n",
    "dh=Q*hc/(A*k*dt) #head difference in cm\n",
    "\n",
    "print('dh= %1.2f cm' %dh)"
   ]
  },
  {
   "cell_type": "code",
   "execution_count": 10,
   "metadata": {},
   "outputs": [
    {
     "name": "stdout",
     "output_type": "stream",
     "text": [
      "A= 182.41 cm^2\n",
      "dh= 46.41 cm\n"
     ]
    }
   ],
   "source": [
    "# Imputing data\n",
    "Q=100 #Volume of water in cm3\n",
    "dt= 1000*3600 # time in seconds\n",
    "hc=12*2.54 #height in cm\n",
    "Dc=6*2.54 #diameter in cm\n",
    "k=1e-7 #k in cm/s\n",
    "\n",
    "A=0.25*np.pi*Dc**2 #Cross sectional area in cm^2\n",
    "print('A= %1.2f cm^2' % A)\n",
    "\n",
    "dh=Q*hc/(A*k*dt) #head difference in cm\n",
    "\n",
    "print('dh= %1.2f cm' %dh)"
   ]
  },
  {
   "cell_type": "code",
   "execution_count": null,
   "metadata": {},
   "outputs": [],
   "source": []
  }
 ],
 "metadata": {
  "kernelspec": {
   "display_name": "base",
   "language": "python",
   "name": "python3"
  },
  "language_info": {
   "codemirror_mode": {
    "name": "ipython",
    "version": 3
   },
   "file_extension": ".py",
   "mimetype": "text/x-python",
   "name": "python",
   "nbconvert_exporter": "python",
   "pygments_lexer": "ipython3",
   "version": "3.9.7"
  },
  "orig_nbformat": 4,
  "vscode": {
   "interpreter": {
    "hash": "ad2bdc8ecc057115af97d19610ffacc2b4e99fae6737bb82f5d7fb13d2f2c186"
   }
  }
 },
 "nbformat": 4,
 "nbformat_minor": 2
}
