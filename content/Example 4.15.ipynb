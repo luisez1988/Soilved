{
 "cells": [
  {
   "attachments": {},
   "cell_type": "markdown",
   "metadata": {},
   "source": [
    "# Example 4.15\n",
    "\n",
    "A permeability test was conducted in a sand on a chamber of 6 inches of diameter by 12 inches heigh. The sample was placed between two porous stones of 1/2 inches of diameter with a permeability of $k=1 \\times 10^{-3}$ cm/s. The test lasted 1.5 hr and 2 lt. of water were collected. The total head difference was 1 m. Find the permeability of the sand considering the effect of the porous stones."
   ]
  },
  {
   "attachments": {},
   "cell_type": "markdown",
   "metadata": {},
   "source": [
    "## Data:\n",
    "\n",
    "$k_1=k_3=1 \\times 10^{-3}$ cm/s\n",
    "\n",
    "$L_1+L_2+L_3=12$ in\n",
    "\n",
    "$D=6$ in\n",
    "\n",
    "$L_1=L_3= 0.5$ in\n",
    "\n",
    "$\\Delta t=1.5$ hr\n",
    "\n",
    "$Q=2$ lt\n",
    "\n",
    "$\\Delta H= 1$ m"
   ]
  },
  {
   "attachments": {},
   "cell_type": "markdown",
   "metadata": {},
   "source": [
    "## Principles:\n",
    "\n",
    "$k_{eq}= \\cfrac{L}{\\sum_{i=1}^n L_i/k_i}$\n",
    "\n",
    "$k_{eq}=\\cfrac{QL}{A \\Delta h \\Delta t}$"
   ]
  },
  {
   "cell_type": "code",
   "execution_count": 1,
   "metadata": {},
   "outputs": [],
   "source": [
    "import numpy as np"
   ]
  },
  {
   "cell_type": "code",
   "execution_count": 9,
   "metadata": {},
   "outputs": [
    {
     "name": "stdout",
     "output_type": "stream",
     "text": [
      "L_soil= 27.94 cm\n"
     ]
    }
   ],
   "source": [
    "# input\n",
    "k1=1e-3 # permeability of porous stone in cm/s\n",
    "L1=0.5*2.54 # thickness of porous stones in cm\n",
    "D=6*2.54 #diameter of permeameter in cm\n",
    "L_t=12*2.54 # Length of system in cm\n",
    "dt=1.5*3600 #time in seconds\n",
    "Q=2*1000 # volume of water in cm^3\n",
    "dh=1*100 #difference of head in cm\n",
    "\n",
    "L_soil=L_t-2*L1 #thickness of soil sample\n",
    "print('L_soil= %1.2f cm' % L_soil)"
   ]
  },
  {
   "cell_type": "code",
   "execution_count": 10,
   "metadata": {},
   "outputs": [
    {
     "name": "stdout",
     "output_type": "stream",
     "text": [
      "A= 182.41 cm^2\n",
      "k= 6.19e-04 cm/s\n"
     ]
    }
   ],
   "source": [
    "# We start calculating the permeability of the system\n",
    "A=0.25*np.pi*D**2 # cross sectional area in cm2\n",
    "print('A= %1.2f cm^2' % A)\n",
    "\n",
    "k=Q*L_t/(A * dh * dt) # equivalent permeability in cm/s\n",
    "print('k= %1.2e cm/s' % k)"
   ]
  },
  {
   "attachments": {},
   "cell_type": "markdown",
   "metadata": {},
   "source": [
    "It is worth of solving for $k_{2}$\n",
    "\n",
    "$k_{eq}= \\cfrac{L}{2L_1/k_1 + L_{2}/k_2}$\n",
    "\n",
    "$\\cfrac{L}{k_{eq}}=2L_1/k_1 + L_{2}/k_2$\n",
    "\n",
    "$\\cfrac{L}{k_{eq}}-2L_1/k_1= \\cfrac{L k_1- 2L_1 k_{eq}}{k_{eq}k_1}=L_{2}/k_2$\n",
    "\n",
    "$k_2=\\cfrac{k_{eq}k_1L_2}{L k_1- 2L_1 k_{eq}}$"
   ]
  },
  {
   "cell_type": "code",
   "execution_count": 11,
   "metadata": {},
   "outputs": [
    {
     "name": "stdout",
     "output_type": "stream",
     "text": [
      "k_soil= 5.98e-04 cm/s\n"
     ]
    }
   ],
   "source": [
    "k_soil= k*k1*L_soil/(L_t*k1-2*L1*k) #k2 is k_soil in cm/s\n",
    "print('k_soil= %1.2e cm/s' % k_soil)\n"
   ]
  },
  {
   "cell_type": "code",
   "execution_count": null,
   "metadata": {},
   "outputs": [],
   "source": []
  }
 ],
 "metadata": {
  "kernelspec": {
   "display_name": "base",
   "language": "python",
   "name": "python3"
  },
  "language_info": {
   "codemirror_mode": {
    "name": "ipython",
    "version": 3
   },
   "file_extension": ".py",
   "mimetype": "text/x-python",
   "name": "python",
   "nbconvert_exporter": "python",
   "pygments_lexer": "ipython3",
   "version": "3.9.7"
  },
  "orig_nbformat": 4,
  "vscode": {
   "interpreter": {
    "hash": "ad2bdc8ecc057115af97d19610ffacc2b4e99fae6737bb82f5d7fb13d2f2c186"
   }
  }
 },
 "nbformat": 4,
 "nbformat_minor": 2
}
