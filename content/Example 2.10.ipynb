{
 "cells": [
  {
   "cell_type": "markdown",
   "metadata": {},
   "source": [
    "# Example 2.10\n",
    "\n",
    "A liquid limit test was conducted on a soil and resulted in the data shown below. Find the liquid limit. "
   ]
  },
  {
   "cell_type": "markdown",
   "metadata": {},
   "source": [
    "## Data:\n",
    "\n",
    "Table given"
   ]
  },
  {
   "cell_type": "markdown",
   "metadata": {},
   "source": [
    "## Principles\n",
    "\n",
    "$w=\\cfrac{W_w}{W_s}\\times 100$\n",
    "\n",
    "$LL=$ water content for 25 blows"
   ]
  },
  {
   "cell_type": "code",
   "execution_count": 30,
   "metadata": {},
   "outputs": [],
   "source": [
    "import numpy as np\n",
    "import pandas as pd\n",
    "import Soilved as slv\n",
    "import matplotlib.pyplot as plt"
   ]
  },
  {
   "cell_type": "code",
   "execution_count": 31,
   "metadata": {},
   "outputs": [
    {
     "data": {
      "text/html": [
       "<div>\n",
       "<style scoped>\n",
       "    .dataframe tbody tr th:only-of-type {\n",
       "        vertical-align: middle;\n",
       "    }\n",
       "\n",
       "    .dataframe tbody tr th {\n",
       "        vertical-align: top;\n",
       "    }\n",
       "\n",
       "    .dataframe thead th {\n",
       "        text-align: right;\n",
       "    }\n",
       "</style>\n",
       "<table border=\"1\" class=\"dataframe\">\n",
       "  <thead>\n",
       "    <tr style=\"text-align: right;\">\n",
       "      <th></th>\n",
       "      <th>Test No</th>\n",
       "      <th>\\tWet soil + container</th>\n",
       "      <th>\\tDry soil + container</th>\n",
       "      <th>\\tContainer</th>\n",
       "      <th>\\tN</th>\n",
       "    </tr>\n",
       "  </thead>\n",
       "  <tbody>\n",
       "    <tr>\n",
       "      <th>0</th>\n",
       "      <td>1</td>\n",
       "      <td>17.71</td>\n",
       "      <td>15.27</td>\n",
       "      <td>5.23</td>\n",
       "      <td>32</td>\n",
       "    </tr>\n",
       "    <tr>\n",
       "      <th>1</th>\n",
       "      <td>2</td>\n",
       "      <td>20.08</td>\n",
       "      <td>16.78</td>\n",
       "      <td>5.21</td>\n",
       "      <td>30</td>\n",
       "    </tr>\n",
       "    <tr>\n",
       "      <th>2</th>\n",
       "      <td>3</td>\n",
       "      <td>24.31</td>\n",
       "      <td>19.25</td>\n",
       "      <td>5.10</td>\n",
       "      <td>28</td>\n",
       "    </tr>\n",
       "    <tr>\n",
       "      <th>3</th>\n",
       "      <td>4</td>\n",
       "      <td>16.45</td>\n",
       "      <td>13.20</td>\n",
       "      <td>5.11</td>\n",
       "      <td>26</td>\n",
       "    </tr>\n",
       "    <tr>\n",
       "      <th>4</th>\n",
       "      <td>5</td>\n",
       "      <td>18.35</td>\n",
       "      <td>14.23</td>\n",
       "      <td>5.13</td>\n",
       "      <td>23</td>\n",
       "    </tr>\n",
       "    <tr>\n",
       "      <th>5</th>\n",
       "      <td>6</td>\n",
       "      <td>26.80</td>\n",
       "      <td>19.45</td>\n",
       "      <td>5.11</td>\n",
       "      <td>21</td>\n",
       "    </tr>\n",
       "  </tbody>\n",
       "</table>\n",
       "</div>"
      ],
      "text/plain": [
       "   Test No  \\tWet soil + container  \\tDry soil + container  \\tContainer  \\tN\n",
       "0        1                   17.71                   15.27         5.23   32\n",
       "1        2                   20.08                   16.78         5.21   30\n",
       "2        3                   24.31                   19.25         5.10   28\n",
       "3        4                   16.45                   13.20         5.11   26\n",
       "4        5                   18.35                   14.23         5.13   23\n",
       "5        6                   26.80                   19.45         5.11   21"
      ]
     },
     "execution_count": 31,
     "metadata": {},
     "output_type": "execute_result"
    }
   ],
   "source": [
    "LL_data=pd.read_csv(\"./data/mod2example10.csv\") #open data to variable\n",
    "LL_data # shows data"
   ]
  },
  {
   "cell_type": "code",
   "execution_count": 32,
   "metadata": {},
   "outputs": [
    {
     "name": "stdout",
     "output_type": "stream",
     "text": [
      "0    24.302789\n",
      "1    28.522040\n",
      "2    35.759717\n",
      "3    40.173053\n",
      "4    45.274725\n",
      "5    51.255230\n",
      "dtype: float64\n"
     ]
    }
   ],
   "source": [
    "w=slv.GetWaterContent(LL_data['\\tWet soil + container'], LL_data['\\tDry soil + container'], LL_data['\\tContainer']) #Calculates water contents\n",
    "print(w)"
   ]
  },
  {
   "cell_type": "code",
   "execution_count": 33,
   "metadata": {},
   "outputs": [
    {
     "data": {
      "text/plain": [
       "Text(0, 0.5, 'Water content $w$ [$\\\\%$]')"
      ]
     },
     "execution_count": 33,
     "metadata": {},
     "output_type": "execute_result"
    },
    {
     "data": {
      "image/png": "[encoded data removed]",
      "text/plain": [
       "<Figure size 432x288 with 1 Axes>"
      ]
     },
     "metadata": {
      "needs_background": "light"
     },
     "output_type": "display_data"
    }
   ],
   "source": [
    "plt.plot(LL_data['\\tN'], w, '*') #plots results\n",
    "plt.xscale('log')\n",
    "plt.xlim(10,40)\n",
    "plt.xlabel(r'Blow count $N$')\n",
    "plt.ylabel(r'Water content $w$ [$\\%$]')"
   ]
  },
  {
   "cell_type": "code",
   "execution_count": 34,
   "metadata": {},
   "outputs": [
    {
     "name": "stdout",
     "output_type": "stream",
     "text": [
      "[-144.32436835  242.68937403]\n",
      "LL= 40.9 percent\n"
     ]
    }
   ],
   "source": [
    "# We need to fit a log model\n",
    "fit= np.polyfit(np.log10(LL_data['\\tN']),w, 1)#Fits the model\n",
    "print(fit)#prints coefficients of regression\n",
    "LL=fit[0]*np.log10(25)+fit[1] #use regression to find LL\n",
    "print(\"LL= %1.1f percent\" %LL)"
   ]
  },
  {
   "cell_type": "code",
   "execution_count": 35,
   "metadata": {},
   "outputs": [
    {
     "data": {
      "text/plain": [
       "[<matplotlib.lines.Line2D at 0x1de04cc6580>]"
      ]
     },
     "execution_count": 35,
     "metadata": {},
     "output_type": "execute_result"
    },
    {
     "data": {
      "image/png": "[encoded data removed]",
      "text/plain": [
       "<Figure size 432x288 with 1 Axes>"
      ]
     },
     "metadata": {
      "needs_background": "light"
     },
     "output_type": "display_data"
    }
   ],
   "source": [
    "plt.plot(LL_data['\\tN'], w, '*') #plots results\n",
    "plt.xscale('log')\n",
    "plt.xlim(10,40)\n",
    "plt.ylim(10,60)\n",
    "plt.xlabel(r'Blow count $N$')\n",
    "plt.ylabel(r'Water content $w$ [$\\%$]')\n",
    "\n",
    "x=np.linspace(20,40, 50) #generates 50 values for 20 to 30\n",
    "y=fit[0]*np.log10(x)+fit[1] #uses regression\n",
    "\n",
    "plt.plot(x,y)\n",
    "\n",
    "plt.plot([25,25], [10,LL], '--',color='r') #vert red line\n",
    "plt.plot([10,25], [LL,LL], '--',color='r') #hor red line"
   ]
  },
  {
   "cell_type": "code",
   "execution_count": null,
   "metadata": {},
   "outputs": [],
   "source": []
  }
 ],
 "metadata": {
  "kernelspec": {
   "display_name": "Python 3",
   "language": "python",
   "name": "python3"
  },
  "language_info": {
   "codemirror_mode": {
    "name": "ipython",
    "version": 3
   },
   "file_extension": ".py",
   "mimetype": "text/x-python",
   "name": "python",
   "nbconvert_exporter": "python",
   "pygments_lexer": "ipython3",
   "version": "3.8.8"
  },
  "vscode": {
   "interpreter": {
    "hash": "ad2bdc8ecc057115af97d19610ffacc2b4e99fae6737bb82f5d7fb13d2f2c186"
   }
  }
 },
 "nbformat": 4,
 "nbformat_minor": 2
}
