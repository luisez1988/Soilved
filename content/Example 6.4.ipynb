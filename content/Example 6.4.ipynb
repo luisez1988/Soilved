{
 "cells": [
  {
   "cell_type": "markdown",
   "metadata": {},
   "source": [
    "# Example 6.4\n",
    "\n",
    "For the element in the figure below, find the principal stresses and their orientation using the equations and the Pole's method. Find the stresses acting at the indicated angle."
   ]
  },
  {
   "cell_type": "markdown",
   "metadata": {},
   "source": [
    "## Data:\n",
    "\n",
    "$\\sigma_x=50$ kPa\n",
    "\n",
    "$\\sigma_y=25$ kPa\n",
    "\n",
    "$\\tau_{xy}=-12.5$ kPa\n",
    "\n",
    "$\\alpha=-20$ degrees"
   ]
  },
  {
   "cell_type": "code",
   "execution_count": 1,
   "metadata": {},
   "outputs": [],
   "source": [
    "import numpy as np\n",
    "import matplotlib.pyplot as plt"
   ]
  },
  {
   "cell_type": "code",
   "execution_count": 7,
   "metadata": {},
   "outputs": [],
   "source": [
    "def Get_stress_at_alpha(S_Tensor, alpha):\n",
    "    #alpha in radians\n",
    "    s_m=(S_Tensor[0][0]+S_Tensor[1][1])/2\n",
    "    s_d=S_Tensor[1][1]-S_Tensor[0][0]\n",
    "    sigma_alpha= s_m+ 0.5*s_d*np.cos(2*alpha)+S_Tensor[0][1]*np.sin(2*alpha)\n",
    "    tau_alpha=0.5*s_d*np.sin(2*alpha)-S_Tensor[0][1]*np.cos(2*alpha)\n",
    "    return sigma_alpha, tau_alpha"
   ]
  },
  {
   "cell_type": "code",
   "execution_count": 8,
   "metadata": {},
   "outputs": [],
   "source": [
    "# Set Tau to zero and find principal stresses\n",
    "def Get_principal_stresses(S):\n",
    "    s_d=S[1][1]-S[0][0]\n",
    "    alpha=0.5*np.arctan(2*S[0][1]/s_d)\n",
    "    beta=alpha+0.5*np.pi\n",
    "    s1, _=Get_stress_at_alpha(S, alpha)\n",
    "    s2,_=Get_stress_at_alpha(S, beta)\n",
    "    if (s1>s2):\n",
    "        s_1a=s1\n",
    "        s_2a=s2\n",
    "    else:\n",
    "        s_1a=s2\n",
    "        s_2a=s1\n",
    "    return s_1a, s_2a, alpha, beta"
   ]
  },
  {
   "cell_type": "code",
   "execution_count": 9,
   "metadata": {},
   "outputs": [
    {
     "name": "stdout",
     "output_type": "stream",
     "text": [
      "Sigma_1= 55.18 kPa\n",
      "Sigma_3= 19.82 kPa\n",
      "alpha= 22.50 degrees\n",
      "beta= 112.50 degrees\n"
     ]
    }
   ],
   "source": [
    "S=[[50, -12.5], [12.5, 25]]\n",
    "s1, s2, alpha, beta=Get_principal_stresses(S)\n",
    "print(r'Sigma_1= %1.2f kPa' % s1)\n",
    "print(r'Sigma_3= %1.2f kPa' % s2)\n",
    "print(r'alpha= %1.2f degrees' % (alpha*180/np.pi))\n",
    "print(r'beta= %1.2f degrees' % (beta*180/np.pi))"
   ]
  },
  {
   "cell_type": "code",
   "execution_count": 10,
   "metadata": {},
   "outputs": [
    {
     "name": "stdout",
     "output_type": "stream",
     "text": [
      "sigma_alpha= 35.96 kPa\n",
      "tau_alpha= 17.61 kPa\n"
     ]
    }
   ],
   "source": [
    "alpha=-20*np.pi/180\n",
    "sigma_alpha, tau_alpha=Get_stress_at_alpha(S, alpha)\n",
    "\n",
    "print('sigma_alpha= %1.2f kPa' % sigma_alpha)\n",
    "print('tau_alpha= %1.2f kPa' % tau_alpha)"
   ]
  },
  {
   "cell_type": "code",
   "execution_count": 11,
   "metadata": {},
   "outputs": [
    {
     "data": {
      "image/png": "[encoded data removed]",
      "text/plain": [
       "<Figure size 432x288 with 1 Axes>"
      ]
     },
     "metadata": {
      "needs_background": "light"
     },
     "output_type": "display_data"
    }
   ],
   "source": [
    "alpha=np.linspace(0, np.pi, 180)\n",
    "\n",
    "sigma, tau=Get_stress_at_alpha(S, alpha)\n",
    "\n",
    "plt.plot(sigma, tau)\n",
    "plt.xlabel(r'Normal stress $\\sigma$ [kPa]')\n",
    "plt.ylabel(r'Shear stress $\\tau$ [kPa]')\n",
    "\n",
    "plt.plot([S[0][0], S[1][1]],[S[0][1], S[1][0]] )\n",
    "plt.plot([S[0][0], S[1][1]],[S[0][1], S[1][0]], 'o' )\n",
    "#plt.plot(sigma_alpha, tau_alpha, 'o')\n",
    "plt.gca().axis('equal')\n",
    "plt.gca().grid('True')"
   ]
  },
  {
   "cell_type": "code",
   "execution_count": null,
   "metadata": {},
   "outputs": [],
   "source": []
  }
 ],
 "metadata": {
  "kernelspec": {
   "display_name": "Python 3",
   "language": "python",
   "name": "python3"
  },
  "language_info": {
   "codemirror_mode": {
    "name": "ipython",
    "version": 3
   },
   "file_extension": ".py",
   "mimetype": "text/x-python",
   "name": "python",
   "nbconvert_exporter": "python",
   "pygments_lexer": "ipython3",
   "version": "3.8.8"
  }
 },
 "nbformat": 4,
 "nbformat_minor": 2
}
