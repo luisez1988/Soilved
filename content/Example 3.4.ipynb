{
 "cells": [
  {
   "attachments": {},
   "cell_type": "markdown",
   "metadata": {},
   "source": [
    "# Example 3.4\n",
    "\n",
    "A modified Proctor test is performed on a soil sample, resulting in the data presented in the table below. Determine: (i) the maximum dry density, (ii) the optimum water content, (iii) the void ratio and saturation at the maximum dry density, and (iv) plot the data with the ZAV and a line passing through the saturation at the optimum water content. Assume $G_s=2.67$"
   ]
  },
  {
   "attachments": {},
   "cell_type": "markdown",
   "metadata": {},
   "source": [
    "## Data:\n",
    "\n",
    "$G_s=2.67$\n",
    "\n",
    "Table"
   ]
  },
  {
   "attachments": {},
   "cell_type": "markdown",
   "metadata": {},
   "source": [
    "## Principles part (i) and (ii)\n",
    "\n",
    "We need to plot $\\gamma_d$ Vs $w$"
   ]
  },
  {
   "cell_type": "code",
   "execution_count": 1,
   "metadata": {},
   "outputs": [],
   "source": [
    "import pandas as pd\n",
    "import numpy as np\n",
    "import matplotlib.pyplot as plt\n",
    "import Soilved as slv"
   ]
  },
  {
   "cell_type": "code",
   "execution_count": 2,
   "metadata": {},
   "outputs": [
    {
     "data": {
      "text/html": [
       "<div>\n",
       "<style scoped>\n",
       "    .dataframe tbody tr th:only-of-type {\n",
       "        vertical-align: middle;\n",
       "    }\n",
       "\n",
       "    .dataframe tbody tr th {\n",
       "        vertical-align: top;\n",
       "    }\n",
       "\n",
       "    .dataframe thead th {\n",
       "        text-align: right;\n",
       "    }\n",
       "</style>\n",
       "<table border=\"1\" class=\"dataframe\">\n",
       "  <thead>\n",
       "    <tr style=\"text-align: right;\">\n",
       "      <th></th>\n",
       "      <th>gamma pcf</th>\n",
       "      <th>w</th>\n",
       "    </tr>\n",
       "  </thead>\n",
       "  <tbody>\n",
       "    <tr>\n",
       "      <th>0</th>\n",
       "      <td>104.0</td>\n",
       "      <td>14</td>\n",
       "    </tr>\n",
       "    <tr>\n",
       "      <th>1</th>\n",
       "      <td>105.5</td>\n",
       "      <td>16</td>\n",
       "    </tr>\n",
       "    <tr>\n",
       "      <th>2</th>\n",
       "      <td>106.0</td>\n",
       "      <td>18</td>\n",
       "    </tr>\n",
       "    <tr>\n",
       "      <th>3</th>\n",
       "      <td>105.0</td>\n",
       "      <td>20</td>\n",
       "    </tr>\n",
       "    <tr>\n",
       "      <th>4</th>\n",
       "      <td>103.5</td>\n",
       "      <td>22</td>\n",
       "    </tr>\n",
       "    <tr>\n",
       "      <th>5</th>\n",
       "      <td>101.0</td>\n",
       "      <td>24</td>\n",
       "    </tr>\n",
       "  </tbody>\n",
       "</table>\n",
       "</div>"
      ],
      "text/plain": [
       "   gamma pcf   w\n",
       "0      104.0  14\n",
       "1      105.5  16\n",
       "2      106.0  18\n",
       "3      105.0  20\n",
       "4      103.5  22\n",
       "5      101.0  24"
      ]
     },
     "execution_count": 2,
     "metadata": {},
     "output_type": "execute_result"
    }
   ],
   "source": [
    "# load the data from csv format\n",
    "\n",
    "Proctor_data=pd.read_csv('./data/mod3example4.csv') # reads data\n",
    "\n",
    "Proctor_data #shows table"
   ]
  },
  {
   "cell_type": "code",
   "execution_count": 3,
   "metadata": {},
   "outputs": [
    {
     "data": {
      "text/plain": [
       "[<matplotlib.lines.Line2D at 0x1509d4be370>]"
      ]
     },
     "execution_count": 3,
     "metadata": {},
     "output_type": "execute_result"
    },
    {
     "data": {
      "image/png": "[encoded data removed]",
      "text/plain": [
       "<Figure size 432x288 with 1 Axes>"
      ]
     },
     "metadata": {
      "needs_background": "light"
     },
     "output_type": "display_data"
    }
   ],
   "source": [
    "# now we can plot the data to visualize it\n",
    "plt.plot(Proctor_data['w'], Proctor_data['gamma pcf'], '*')"
   ]
  },
  {
   "cell_type": "code",
   "execution_count": 6,
   "metadata": {},
   "outputs": [
    {
     "name": "stdout",
     "output_type": "stream",
     "text": [
      "gamma_dmax= 106.03 pcf\n",
      "w_opt= 17.62 percent\n"
     ]
    },
    {
     "data": {
      "text/plain": [
       "[<matplotlib.lines.Line2D at 0x1509d589ac0>]"
      ]
     },
     "execution_count": 6,
     "metadata": {},
     "output_type": "execute_result"
    },
    {
     "data": {
      "image/png": "[encoded data removed]",
      "text/plain": [
       "<Figure size 432x288 with 1 Axes>"
      ]
     },
     "metadata": {
      "needs_background": "light"
     },
     "output_type": "display_data"
    }
   ],
   "source": [
    "# now I'm going to use my function\n",
    "\n",
    "gamma_max, w_opt=slv.ProcessProctor(Proctor_data['w'], Proctor_data['gamma pcf'], units='pcf') #creates a cubic spline\n",
    "\n",
    "print('gamma_dmax= %1.2f pcf' %gamma_max)\n",
    "print('w_opt= %1.2f percent' %w_opt)\n",
    "\n",
    "#Add details to plot\n",
    "plt.plot([w_opt, w_opt, 12], [98, gamma_max, gamma_max], '--', color='r') # interpolation line"
   ]
  },
  {
   "attachments": {},
   "cell_type": "markdown",
   "metadata": {},
   "source": [
    "## Principles part (iii)\n",
    "\n",
    "$\\gamma_{d}=\\gamma_w \\cfrac{G_s}{1+e}$\n",
    "\n",
    "$Se=w G_s$\n",
    "\n",
    "\n",
    "\n"
   ]
  },
  {
   "cell_type": "code",
   "execution_count": 7,
   "metadata": {},
   "outputs": [
    {
     "name": "stdout",
     "output_type": "stream",
     "text": [
      "e= 0.57\n",
      "S= 82.33 percent\n"
     ]
    }
   ],
   "source": [
    "# lets solve e from the first equation\n",
    "\n",
    "Gs=2.67 # specific gravity\n",
    "\n",
    "e=(62.4*Gs/gamma_max)-1 # void ratio\n",
    "print('e= %1.2f' %e)\n",
    "\n",
    "S=w_opt*Gs/e # saturation in percent\n",
    "print('S= %1.2f percent' %S)"
   ]
  },
  {
   "attachments": {},
   "cell_type": "markdown",
   "metadata": {},
   "source": [
    "## Principles part (iv)\n",
    "\n",
    "$\\gamma_d=\\cfrac{\\gamma_w G_s}{1+w G_s/S}$"
   ]
  },
  {
   "cell_type": "code",
   "execution_count": 14,
   "metadata": {},
   "outputs": [
    {
     "data": {
      "text/plain": [
       "(98.0, 120.0)"
      ]
     },
     "execution_count": 14,
     "metadata": {},
     "output_type": "execute_result"
    },
    {
     "data": {
      "image/png": "[encoded data removed]",
      "text/plain": [
       "<Figure size 432x288 with 1 Axes>"
      ]
     },
     "metadata": {
      "needs_background": "light"
     },
     "output_type": "display_data"
    }
   ],
   "source": [
    "# I'm first defining values of w\n",
    "\n",
    "w=np.linspace(12, 26, 100) # 100 values from 12 to 26 percent\n",
    "\n",
    "#Now I can generate the line using my function\n",
    "\n",
    "ZAV=slv.GetCompactionLines(w,S=100, gamma_w=62.4, Gs=Gs) # ZAV line\n",
    "\n",
    "l_satmax=slv.GetCompactionLines(w, S=S, gamma_w=62.4, Gs=Gs) # line of equal saturation passing at max density\n",
    "\n",
    "#run process proctor to recreate the plot\n",
    "\n",
    "gamma_max, w_opt=slv.ProcessProctor(Proctor_data['w'], Proctor_data['gamma pcf'], units='pcf') #creates a cubic spline\n",
    "\n",
    "#Add details to plot\n",
    "plt.plot([w_opt, w_opt, 12], [98, gamma_max, gamma_max], '--', color='r') # interpolation line\n",
    "plt.plot(w, ZAV, 'b') #ZAV line\n",
    "plt.plot(w, l_satmax, 'orange') #line of equal saturation\n",
    "plt.xlim([12, 26])\n",
    "plt.ylim([98,120])"
   ]
  },
  {
   "cell_type": "code",
   "execution_count": null,
   "metadata": {},
   "outputs": [],
   "source": []
  }
 ],
 "metadata": {
  "kernelspec": {
   "display_name": "base",
   "language": "python",
   "name": "python3"
  },
  "language_info": {
   "codemirror_mode": {
    "name": "ipython",
    "version": 3
   },
   "file_extension": ".py",
   "mimetype": "text/x-python",
   "name": "python",
   "nbconvert_exporter": "python",
   "pygments_lexer": "ipython3",
   "version": "3.9.7"
  },
  "orig_nbformat": 4,
  "vscode": {
   "interpreter": {
    "hash": "ad2bdc8ecc057115af97d19610ffacc2b4e99fae6737bb82f5d7fb13d2f2c186"
   }
  }
 },
 "nbformat": 4,
 "nbformat_minor": 2
}
