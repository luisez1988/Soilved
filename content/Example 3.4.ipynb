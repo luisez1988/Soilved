{
 "cells": [
  {
   "cell_type": "markdown",
   "metadata": {},
   "source": [
    "# Example 3.4\n",
    "\n",
    "A modified Proctor test is performed on a soil sample, resulting in the data presented in the table below. Determine: (i) the maximum dry density, (ii) the optimum water content, (iii) the void ratio and saturation at the maximum dry density, and (iv) plot the data with the ZAV and a line passing through the saturation at the optimum water content. Assume $G_s=2.67$"
   ]
  },
  {
   "cell_type": "markdown",
   "metadata": {},
   "source": [
    "## Data:\n",
    "\n",
    "$G_s=2.67$\n",
    "\n",
    "Table"
   ]
  },
  {
   "cell_type": "markdown",
   "metadata": {},
   "source": [
    "## Principles part (i) and (ii)\n",
    "\n",
    "We need to plot $\\gamma_d$ Vs $w$"
   ]
  },
  {
   "cell_type": "code",
   "execution_count": 1,
   "metadata": {},
   "outputs": [],
   "source": [
    "import pandas as pd\n",
    "import numpy as np\n",
    "import matplotlib.pyplot as plt\n",
    "import Soilved as slv"
   ]
  },
  {
   "cell_type": "code",
   "execution_count": 2,
   "metadata": {},
   "outputs": [
    {
     "data": {
      "text/html": [
       "<div>\n",
       "<style scoped>\n",
       "    .dataframe tbody tr th:only-of-type {\n",
       "        vertical-align: middle;\n",
       "    }\n",
       "\n",
       "    .dataframe tbody tr th {\n",
       "        vertical-align: top;\n",
       "    }\n",
       "\n",
       "    .dataframe thead th {\n",
       "        text-align: right;\n",
       "    }\n",
       "</style>\n",
       "<table border=\"1\" class=\"dataframe\">\n",
       "  <thead>\n",
       "    <tr style=\"text-align: right;\">\n",
       "      <th></th>\n",
       "      <th>gamma pcf</th>\n",
       "      <th>w</th>\n",
       "    </tr>\n",
       "  </thead>\n",
       "  <tbody>\n",
       "    <tr>\n",
       "      <th>0</th>\n",
       "      <td>104.0</td>\n",
       "      <td>14</td>\n",
       "    </tr>\n",
       "    <tr>\n",
       "      <th>1</th>\n",
       "      <td>105.5</td>\n",
       "      <td>16</td>\n",
       "    </tr>\n",
       "    <tr>\n",
       "      <th>2</th>\n",
       "      <td>106.0</td>\n",
       "      <td>18</td>\n",
       "    </tr>\n",
       "    <tr>\n",
       "      <th>3</th>\n",
       "      <td>105.0</td>\n",
       "      <td>20</td>\n",
       "    </tr>\n",
       "    <tr>\n",
       "      <th>4</th>\n",
       "      <td>103.5</td>\n",
       "      <td>22</td>\n",
       "    </tr>\n",
       "    <tr>\n",
       "      <th>5</th>\n",
       "      <td>101.0</td>\n",
       "      <td>24</td>\n",
       "    </tr>\n",
       "  </tbody>\n",
       "</table>\n",
       "</div>"
      ],
      "text/plain": [
       "   gamma pcf   w\n",
       "0      104.0  14\n",
       "1      105.5  16\n",
       "2      106.0  18\n",
       "3      105.0  20\n",
       "4      103.5  22\n",
       "5      101.0  24"
      ]
     },
     "execution_count": 2,
     "metadata": {},
     "output_type": "execute_result"
    }
   ],
   "source": [
    "# load the data from csv format\n",
    "\n",
    "Proctor_data=pd.read_csv('./data/mod3example4.csv') # reads data\n",
    "\n",
    "Proctor_data #shows table"
   ]
  },
  {
   "cell_type": "code",
   "execution_count": 3,
   "metadata": {},
   "outputs": [
    {
     "data": {
      "text/plain": [
       "[<matplotlib.lines.Line2D at 0x1c94fefb490>]"
      ]
     },
     "execution_count": 3,
     "metadata": {},
     "output_type": "execute_result"
    },
    {
     "data": {
      "image/png": "[encoded data removed]",
      "text/plain": [
       "<Figure size 432x288 with 1 Axes>"
      ]
     },
     "metadata": {
      "needs_background": "light"
     },
     "output_type": "display_data"
    }
   ],
   "source": [
    "# now we can plot the data to visualize it\n",
    "plt.plot(Proctor_data['w'], Proctor_data['gamma pcf'], '*')"
   ]
  },
  {
   "cell_type": "code",
   "execution_count": 4,
   "metadata": {},
   "outputs": [
    {
     "name": "stdout",
     "output_type": "stream",
     "text": [
      "gamma_dmax= 106.03 pcf\n",
      "w_opt= 17.62 percent\n"
     ]
    },
    {
     "data": {
      "text/plain": [
       "[<matplotlib.lines.Line2D at 0x1c950001250>]"
      ]
     },
     "execution_count": 4,
     "metadata": {},
     "output_type": "execute_result"
    },
    {
     "data": {
      "image/png": "[encoded data removed]",
      "text/plain": [
       "<Figure size 432x288 with 1 Axes>"
      ]
     },
     "metadata": {
      "needs_background": "light"
     },
     "output_type": "display_data"
    }
   ],
   "source": [
    "# now I'm going to use my function\n",
    "\n",
    "gamma_max, w_opt, Gamma, ws=slv.ProcessProctor(Proctor_data['w'], Proctor_data['gamma pcf'], units='pcf') #creates a cubic spline\n",
    "\n",
    "print('gamma_dmax= %1.2f pcf' %gamma_max)\n",
    "print('w_opt= %1.2f percent' %w_opt)\n",
    "\n",
    "#Add details to plot\n",
    "plt.plot([w_opt, w_opt, 12], [98, gamma_max, gamma_max], '--', color='r') # interpolation line"
   ]
  },
  {
   "cell_type": "markdown",
   "metadata": {},
   "source": [
    "## Principles part (iii)\n",
    "\n",
    "$\\gamma_{d}=\\gamma_w \\cfrac{G_s}{1+e}$\n",
    "\n",
    "$Se=w G_s$\n",
    "\n",
    "\n",
    "\n"
   ]
  },
  {
   "cell_type": "code",
   "execution_count": 5,
   "metadata": {},
   "outputs": [
    {
     "name": "stdout",
     "output_type": "stream",
     "text": [
      "e= 0.57\n",
      "S= 82.33 percent\n"
     ]
    }
   ],
   "source": [
    "# lets solve e from the first equation\n",
    "\n",
    "Gs=2.67 # specific gravity\n",
    "\n",
    "e=(62.4*Gs/gamma_max)-1 # void ratio\n",
    "print('e= %1.2f' %e)\n",
    "\n",
    "S=w_opt*Gs/e # saturation in percent\n",
    "print('S= %1.2f percent' %S)"
   ]
  },
  {
   "cell_type": "markdown",
   "metadata": {},
   "source": [
    "## Principles part (iv)\n",
    "\n",
    "$\\gamma_d=\\cfrac{\\gamma_w G_s}{1+w G_s/S}$"
   ]
  },
  {
   "cell_type": "code",
   "execution_count": 6,
   "metadata": {},
   "outputs": [
    {
     "data": {
      "text/plain": [
       "(98.0, 120.0)"
      ]
     },
     "execution_count": 6,
     "metadata": {},
     "output_type": "execute_result"
    },
    {
     "data": {
      "image/png": "[encoded data removed]",
      "text/plain": [
       "<Figure size 432x288 with 1 Axes>"
      ]
     },
     "metadata": {
      "needs_background": "light"
     },
     "output_type": "display_data"
    }
   ],
   "source": [
    "# I'm first defining values of w\n",
    "\n",
    "w=np.linspace(12, 26, 100) # 100 values from 12 to 26 percent\n",
    "\n",
    "#Now I can generate the line using my function\n",
    "\n",
    "ZAV=slv.GetCompactionLines(w,S=100, gamma_w=62.4, Gs=Gs) # ZAV line\n",
    "\n",
    "l_satmax=slv.GetCompactionLines(w, S=S, gamma_w=62.4, Gs=Gs) # line of equal saturation passing at max density\n",
    "\n",
    "#run process proctor to recreate the plot\n",
    "\n",
    "gamma_max, w_opt, _, _=slv.ProcessProctor(Proctor_data['w'], Proctor_data['gamma pcf'], units='pcf') #creates a cubic spline\n",
    "\n",
    "#Add details to plot\n",
    "plt.plot([w_opt, w_opt, 12], [98, gamma_max, gamma_max], '--', color='r') # interpolation line\n",
    "plt.plot(w, ZAV, 'b') #ZAV line\n",
    "plt.plot(w, l_satmax, 'orange') #line of equal saturation\n",
    "plt.xlim([12, 26])\n",
    "plt.ylim([98,120])"
   ]
  },
  {
   "cell_type": "markdown",
   "metadata": {},
   "source": [
    "# Example 3.5\n",
    "\n",
    "The construction of an earth embankment is designed in lifts of 6 inches with the same soil studied in Example 3.4. What are the minimum dry density and the range of water contents that the soil could be compacted with in the field if the relative compaction specified is: (i) 98%, (ii) 95%, (iii) 90%?"
   ]
  },
  {
   "cell_type": "markdown",
   "metadata": {},
   "source": [
    "## Data:\n",
    "\n",
    "Table from problem 3.4\n",
    "\n",
    "$RC=98$%\n",
    "\n",
    "$RC=95$%\n",
    "\n",
    "$RC=90$%"
   ]
  },
  {
   "cell_type": "markdown",
   "metadata": {},
   "source": [
    "## Principles\n",
    "\n",
    "$RC=\\cfrac{\\gamma_{d \\ \\mathrm{field}}}{\\gamma_{d,max}} \\times 100$"
   ]
  },
  {
   "cell_type": "code",
   "execution_count": 7,
   "metadata": {},
   "outputs": [
    {
     "name": "stdout",
     "output_type": "stream",
     "text": [
      "min gamma_d= 103.91 pcf at 98 percent\n"
     ]
    }
   ],
   "source": [
    "RC=98\n",
    "gamma_field=RC*gamma_max/100 #minimum density that soil can be compacted in the field\n",
    "print('min gamma_d= %1.2f pcf at %s percent' %(gamma_field, RC))"
   ]
  },
  {
   "cell_type": "code",
   "execution_count": 8,
   "metadata": {},
   "outputs": [
    {
     "name": "stdout",
     "output_type": "stream",
     "text": [
      "Compact with 13.85 <=w<= 21.52 percent\n"
     ]
    }
   ],
   "source": [
    "w_range=ws[np.argwhere(np.diff(np.sign(gamma_field-Gamma))).flatten()] #finds intersections on interpolation data\n",
    "print('Compact with %1.2f <=w<= %1.2f percent' %(w_range[0], w_range[1]))"
   ]
  },
  {
   "cell_type": "code",
   "execution_count": 10,
   "metadata": {},
   "outputs": [
    {
     "name": "stdout",
     "output_type": "stream",
     "text": [
      "min gamma_d= 100.73 pcf at 95 percent\n",
      "Compact with 24.17 <=w<= 24.17 percent\n"
     ]
    }
   ],
   "source": [
    "# for the other points I created a function\n",
    "RC=95\n",
    "gamma_field, w_range=slv.GetSpecifcationsFor(RC,Gamma,ws)# Returns specification values\n",
    "print('min gamma_d= %1.2f pcf at %s percent' %(gamma_field, RC))\n",
    "print('Compact with %1.2f <=w<= %1.2f percent' %(w_range, w_range))"
   ]
  },
  {
   "cell_type": "code",
   "execution_count": 11,
   "metadata": {},
   "outputs": [
    {
     "name": "stdout",
     "output_type": "stream",
     "text": [
      "min gamma_d= 95.43 pcf at 90 percent\n"
     ]
    }
   ],
   "source": [
    "RC=90\n",
    "gamma_field=RC*gamma_max/100 #minimum density that soil can be compacted in the field\n",
    "print('min gamma_d= %1.2f pcf at %s percent' %(gamma_field, RC))"
   ]
  },
  {
   "cell_type": "markdown",
   "metadata": {},
   "source": [
    "# Example 3.6\n",
    "\n",
    "A balloon densimeter test was conducted in the embankment of Example 3.5. The reading on the densimeter indicates that the carved volume is 0.03 ft<sup>3</sup>. The extracted sample weights 3.8 lb wet and 3.1 lb dry. Calculate the following:\n",
    "<ol>\n",
    "\t<li>The in-situ dry unit weight, water content, saturation, and void ratio</li>\n",
    "\t<li>Would this site pass a QC inspection? </li>\n",
    "</ol>"
   ]
  },
  {
   "cell_type": "markdown",
   "metadata": {},
   "source": [
    "## Data:\n",
    "\n",
    "$V_t=0.03$ ft^3\n",
    "\n",
    "$W_t=3.8$ lb\n",
    "\n",
    "$W_s=3.1$ lb\n",
    "\n",
    "$G_s=2.66$ From example 3.4\n",
    "\n",
    "$\\gamma_{d,max}=106.03$ pcf"
   ]
  },
  {
   "cell_type": "markdown",
   "metadata": {},
   "source": [
    "## Principles for part 1\n",
    "\n",
    "$w=\\cfrac{W_w}{W_s}\\times 100$\n",
    "\n",
    "$\\gamma_t=\\gamma_d(1+w/100)$\n",
    "\n",
    "$\\gamma_d=\\gamma_s \\cfrac{G_s}{1+e}$\n",
    "\n",
    "$Se=wG_s$"
   ]
  },
  {
   "cell_type": "code",
   "execution_count": 12,
   "metadata": {},
   "outputs": [
    {
     "name": "stdout",
     "output_type": "stream",
     "text": [
      "w_field= 22.58 percent\n"
     ]
    }
   ],
   "source": [
    "Wt=3.8 # total weight in lb\n",
    "Ws=3.1 # dry weight in lb\n",
    "\n",
    "w_field=slv.GetWaterContent(Wt, Ws, 0)#get water content\n",
    "print('w_field= %1.2f percent' %w_field)"
   ]
  },
  {
   "cell_type": "code",
   "execution_count": 13,
   "metadata": {},
   "outputs": [
    {
     "name": "stdout",
     "output_type": "stream",
     "text": [
      "gamma_t= 126.67 pcf\n"
     ]
    }
   ],
   "source": [
    "Vt=0.03 # total volume in ft^3\n",
    "gamma_t=Wt/Vt #total unit weight in pcf\n",
    "print('gamma_t= %1.2f pcf' %gamma_t)"
   ]
  },
  {
   "cell_type": "code",
   "execution_count": 14,
   "metadata": {},
   "outputs": [
    {
     "name": "stdout",
     "output_type": "stream",
     "text": [
      "gamma_dfield= 103.33 pcf\n"
     ]
    }
   ],
   "source": [
    "gamma_dfield=gamma_t/(1+0.01*w_field) #dry unit weight at field\n",
    "print('gamma_dfield= %1.2f pcf' %gamma_dfield)"
   ]
  },
  {
   "cell_type": "code",
   "execution_count": 15,
   "metadata": {},
   "outputs": [
    {
     "name": "stdout",
     "output_type": "stream",
     "text": [
      "RC= 97.46 percent\n"
     ]
    }
   ],
   "source": [
    "RC=100*gamma_dfield/gamma_max # relative compaction\n",
    "print('RC= %1.2f percent' %RC)"
   ]
  },
  {
   "cell_type": "code",
   "execution_count": 16,
   "metadata": {},
   "outputs": [
    {
     "name": "stdout",
     "output_type": "stream",
     "text": [
      "e= 0.61\n",
      "S= 99.4 percent\n"
     ]
    }
   ],
   "source": [
    "e=(62.4*2.66/gamma_dfield)-1 #void ratio solved from equation in principles\n",
    "S=w_field*Gs/e #saturation in percent\n",
    "print('e= %1.2f' %e)\n",
    "print('S= %1.1f percent' %S)"
   ]
  },
  {
   "cell_type": "markdown",
   "metadata": {},
   "source": [
    "Soil passes compaction control and was compacted on the wet side to the optimum water content."
   ]
  },
  {
   "cell_type": "code",
   "execution_count": null,
   "metadata": {},
   "outputs": [],
   "source": []
  }
 ],
 "metadata": {
  "kernelspec": {
   "display_name": "Python 3",
   "language": "python",
   "name": "python3"
  },
  "language_info": {
   "codemirror_mode": {
    "name": "ipython",
    "version": 3
   },
   "file_extension": ".py",
   "mimetype": "text/x-python",
   "name": "python",
   "nbconvert_exporter": "python",
   "pygments_lexer": "ipython3",
   "version": "3.8.8"
  },
  "vscode": {
   "interpreter": {
    "hash": "ad2bdc8ecc057115af97d19610ffacc2b4e99fae6737bb82f5d7fb13d2f2c186"
   }
  }
 },
 "nbformat": 4,
 "nbformat_minor": 2
}
