{
 "cells": [
  {
   "attachments": {},
   "cell_type": "markdown",
   "metadata": {},
   "source": [
    "# Example 5.1"
   ]
  },
  {
   "attachments": {},
   "cell_type": "markdown",
   "metadata": {},
   "source": [
    "Find $C_c$, $C_r$, and $\\sigma'_c$ for the consolidation test results shown in the figure below"
   ]
  },
  {
   "cell_type": "code",
   "execution_count": 4,
   "metadata": {},
   "outputs": [],
   "source": [
    "import numpy as np\n",
    "import pandas as pd\n",
    "import matplotlib.pyplot as plt"
   ]
  },
  {
   "cell_type": "code",
   "execution_count": 3,
   "metadata": {},
   "outputs": [
    {
     "data": {
      "text/html": [
       "<div>\n",
       "<style scoped>\n",
       "    .dataframe tbody tr th:only-of-type {\n",
       "        vertical-align: middle;\n",
       "    }\n",
       "\n",
       "    .dataframe tbody tr th {\n",
       "        vertical-align: top;\n",
       "    }\n",
       "\n",
       "    .dataframe thead th {\n",
       "        text-align: right;\n",
       "    }\n",
       "</style>\n",
       "<table border=\"1\" class=\"dataframe\">\n",
       "  <thead>\n",
       "    <tr style=\"text-align: right;\">\n",
       "      <th></th>\n",
       "      <th>sigma</th>\n",
       "      <th>e</th>\n",
       "    </tr>\n",
       "  </thead>\n",
       "  <tbody>\n",
       "    <tr>\n",
       "      <th>0</th>\n",
       "      <td>14.032222</td>\n",
       "      <td>1.104636</td>\n",
       "    </tr>\n",
       "    <tr>\n",
       "      <th>1</th>\n",
       "      <td>28.446117</td>\n",
       "      <td>1.063576</td>\n",
       "    </tr>\n",
       "    <tr>\n",
       "      <th>2</th>\n",
       "      <td>53.973913</td>\n",
       "      <td>0.999338</td>\n",
       "    </tr>\n",
       "    <tr>\n",
       "      <th>3</th>\n",
       "      <td>106.558036</td>\n",
       "      <td>0.895364</td>\n",
       "    </tr>\n",
       "    <tr>\n",
       "      <th>4</th>\n",
       "      <td>215.886377</td>\n",
       "      <td>0.742023</td>\n",
       "    </tr>\n",
       "    <tr>\n",
       "      <th>5</th>\n",
       "      <td>435.592566</td>\n",
       "      <td>0.555629</td>\n",
       "    </tr>\n",
       "    <tr>\n",
       "      <th>6</th>\n",
       "      <td>864.533067</td>\n",
       "      <td>0.368212</td>\n",
       "    </tr>\n",
       "    <tr>\n",
       "      <th>7</th>\n",
       "      <td>435.592566</td>\n",
       "      <td>0.378146</td>\n",
       "    </tr>\n",
       "    <tr>\n",
       "      <th>8</th>\n",
       "      <td>107.977516</td>\n",
       "      <td>0.407285</td>\n",
       "    </tr>\n",
       "    <tr>\n",
       "      <th>9</th>\n",
       "      <td>54.116953</td>\n",
       "      <td>0.431788</td>\n",
       "    </tr>\n",
       "    <tr>\n",
       "      <th>10</th>\n",
       "      <td>28.446117</td>\n",
       "      <td>0.450331</td>\n",
       "    </tr>\n",
       "  </tbody>\n",
       "</table>\n",
       "</div>"
      ],
      "text/plain": [
       "         sigma         e\n",
       "0    14.032222  1.104636\n",
       "1    28.446117  1.063576\n",
       "2    53.973913  0.999338\n",
       "3   106.558036  0.895364\n",
       "4   215.886377  0.742023\n",
       "5   435.592566  0.555629\n",
       "6   864.533067  0.368212\n",
       "7   435.592566  0.378146\n",
       "8   107.977516  0.407285\n",
       "9    54.116953  0.431788\n",
       "10   28.446117  0.450331"
      ]
     },
     "execution_count": 3,
     "metadata": {},
     "output_type": "execute_result"
    }
   ],
   "source": [
    "# First I digitized the data and loaded using read csv\n",
    "consol_data=pd.read_csv('./data/consol_5.1.csv')\n",
    "consol_data"
   ]
  },
  {
   "cell_type": "code",
   "execution_count": 9,
   "metadata": {},
   "outputs": [
    {
     "data": {
      "text/plain": [
       "Text(0, 0.5, 'Void ratio $e$ [-]')"
      ]
     },
     "execution_count": 9,
     "metadata": {},
     "output_type": "execute_result"
    },
    {
     "data": {
      "image/png": "[encoded data removed]",
      "text/plain": [
       "<Figure size 432x288 with 1 Axes>"
      ]
     },
     "metadata": {
      "needs_background": "light"
     },
     "output_type": "display_data"
    }
   ],
   "source": [
    "plt.plot(consol_data['sigma'],consol_data['e'] , '-+')\n",
    "\n",
    "plt.xlabel(r'Effective stress $\\sigma^{,} [kPa]$')\n",
    "plt.ylabel(r'Void ratio $e$ [-]')"
   ]
  },
  {
   "cell_type": "code",
   "execution_count": 10,
   "metadata": {},
   "outputs": [
    {
     "data": {
      "image/png": "[encoded data removed]",
      "text/plain": [
       "<Figure size 432x288 with 1 Axes>"
      ]
     },
     "metadata": {
      "needs_background": "light"
     },
     "output_type": "display_data"
    }
   ],
   "source": [
    "plt.plot(consol_data['sigma'],consol_data['e'] , '-+')\n",
    "\n",
    "plt.xlabel(r'Effective stress $\\sigma^{,} [kPa]$')\n",
    "plt.ylabel(r'Void ratio $e$ [-]')\n",
    "plt.xscale('log')"
   ]
  },
  {
   "cell_type": "code",
   "execution_count": 12,
   "metadata": {},
   "outputs": [
    {
     "name": "stdout",
     "output_type": "stream",
     "text": [
      "C_c= 0.595\n"
     ]
    }
   ],
   "source": [
    "# Using a log cycle\n",
    "\n",
    "Cc=-(0.3364-0.9311)\n",
    "print('C_c= %1.3f' % Cc)"
   ]
  },
  {
   "cell_type": "code",
   "execution_count": 17,
   "metadata": {},
   "outputs": [
    {
     "name": "stdout",
     "output_type": "stream",
     "text": [
      "C_c= 0.620\n"
     ]
    }
   ],
   "source": [
    "# Using the first three data points\n",
    "\n",
    "model=np.polyfit(np.log10(consol_data['sigma'][4:7]), consol_data['e'][4:7], 1) # linear regression with three data points\n",
    "\n",
    "Cc=-model[0] #slope\n",
    "print('C_c= %1.3f' % Cc)\n",
    "\n"
   ]
  },
  {
   "cell_type": "code",
   "execution_count": 18,
   "metadata": {},
   "outputs": [
    {
     "name": "stdout",
     "output_type": "stream",
     "text": [
      "C_r= 0.043\n"
     ]
    }
   ],
   "source": [
    "# Using a log cycle\n",
    "\n",
    "Cr=(0.4086-0.3656)\n",
    "print('C_r= %1.3f' % Cr)"
   ]
  },
  {
   "cell_type": "code",
   "execution_count": 19,
   "metadata": {},
   "outputs": [
    {
     "name": "stdout",
     "output_type": "stream",
     "text": [
      "C_r= 0.056\n"
     ]
    }
   ],
   "source": [
    "# using the whole reloading data\n",
    "\n",
    "model=np.polyfit(np.log10(consol_data['sigma'][6:]), consol_data['e'][6:], 1) \n",
    "\n",
    "Cr=-model[0]\n",
    "print('C_r= %1.3f' % Cr)"
   ]
  },
  {
   "cell_type": "code",
   "execution_count": 25,
   "metadata": {},
   "outputs": [
    {
     "data": {
      "text/plain": [
       "[<matplotlib.lines.Line2D at 0x15209fb2d30>]"
      ]
     },
     "execution_count": 25,
     "metadata": {},
     "output_type": "execute_result"
    },
    {
     "data": {
      "image/png": "[encoded data removed]",
      "text/plain": [
       "<Figure size 432x288 with 1 Axes>"
      ]
     },
     "metadata": {
      "needs_background": "light"
     },
     "output_type": "display_data"
    }
   ],
   "source": [
    "# I will find the point of maximum curvature numerically\n",
    "consol_data['logsig']=np.log10(consol_data['sigma'])\n",
    "dydx=np.gradient(consol_data['e'][0:7], consol_data['logsig'][0:7]) # first derivative\n",
    "d2ydx2=np.gradient(dydx, consol_data['logsig'][0:7]) #second derivative\n",
    "\n",
    "max_curvature_idx=np.argmax(np.abs(d2ydx2)) # gets the id of point\n",
    "\n",
    "\n",
    "plt.plot(consol_data['sigma'],consol_data['e'] , '-+')\n",
    "\n",
    "plt.plot(consol_data['sigma'][max_curvature_idx], consol_data['e'][max_curvature_idx], 'o', color='r')\n",
    "\n",
    "plt.xlabel(r'Effective stress $\\sigma^{,} [kPa]$')\n",
    "plt.ylabel(r'Void ratio $e$ [-]')\n",
    "plt.xscale('log')\n",
    "\n",
    "\n",
    "#draw a horizontal line\n",
    "x=[consol_data['sigma'][max_curvature_idx], 1000]\n",
    "y=[consol_data['e'][max_curvature_idx], consol_data['e'][max_curvature_idx]]\n",
    "plt.plot(x, y, 'r')\n",
    "\n",
    "#draw a slope that passes trough the point od max curvature\n",
    "\n",
    "max_sig=1000\n",
    "x=np.array([consol_data['sigma'][max_curvature_idx]**2/max_sig, max_sig])\n",
    "y=dydx[max_curvature_idx]*np.log10(x/consol_data['sigma'][max_curvature_idx])+consol_data['e'][max_curvature_idx]\n",
    "\n",
    "plt.plot(x, y, 'b')\n",
    "\n",
    "#draw a bisector\n",
    "x=np.array([consol_data['sigma'][max_curvature_idx], max_sig])\n",
    "y=0.5*dydx[max_curvature_idx]*np.log10(x/consol_data['sigma'][max_curvature_idx])+consol_data['e'][max_curvature_idx]\n",
    "\n",
    "plt.plot(x, y, 'g')\n",
    "\n",
    "#Extend the virgin curve\n",
    "x=[max_sig/10, max_sig]\n",
    "y=-Cc*np.log10(x/consol_data['sigma'][6])+consol_data['e'][6]\n",
    "\n",
    "plt.plot(x, y, 'y')\n"
   ]
  },
  {
   "attachments": {},
   "cell_type": "markdown",
   "metadata": {},
   "source": [
    "From the figure $\\sigma'_c=110$ kPa"
   ]
  },
  {
   "cell_type": "code",
   "execution_count": 28,
   "metadata": {},
   "outputs": [
    {
     "name": "stdout",
     "output_type": "stream",
     "text": [
      "sigma_c= 131.20 kPa\n"
     ]
    }
   ],
   "source": [
    "logsig=(consol_data['e'][6]-consol_data['e'][max_curvature_idx]+0.5*dydx[max_curvature_idx]*np.log10(consol_data['sigma'][max_curvature_idx])+Cc*np.log10(consol_data['sigma'][6]))/(0.5*dydx[max_curvature_idx]+Cc)\n",
    "\n",
    "sigma_c=10**(logsig)\n",
    "sigma_c\n",
    "\n",
    "print('sigma_c= %1.2f kPa' % sigma_c)"
   ]
  },
  {
   "cell_type": "code",
   "execution_count": null,
   "metadata": {},
   "outputs": [],
   "source": [
    "# From fig"
   ]
  }
 ],
 "metadata": {
  "kernelspec": {
   "display_name": "base",
   "language": "python",
   "name": "python3"
  },
  "language_info": {
   "codemirror_mode": {
    "name": "ipython",
    "version": 3
   },
   "file_extension": ".py",
   "mimetype": "text/x-python",
   "name": "python",
   "nbconvert_exporter": "python",
   "pygments_lexer": "ipython3",
   "version": "3.8.8"
  },
  "orig_nbformat": 4
 },
 "nbformat": 4,
 "nbformat_minor": 2
}
