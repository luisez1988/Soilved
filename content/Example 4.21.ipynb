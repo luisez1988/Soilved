{
 "cells": [
  {
   "cell_type": "markdown",
   "metadata": {},
   "source": [
    "# Example 4.21\n",
    "\n",
    "For the example in the figure, determine the factor of safety against piping knowing $G_s=2.65$ and $\\gamma_{sat}=15.2$ kN/m"
   ]
  },
  {
   "cell_type": "markdown",
   "metadata": {},
   "source": [
    "## Data:\n",
    "\n",
    "Flow net\n",
    "\n",
    "$G_s=2.65$\n",
    "\n",
    "$\\gamma_{sat}=15.2$ kN/m^3"
   ]
  },
  {
   "cell_type": "markdown",
   "metadata": {},
   "source": [
    "## Principles\n",
    "\n",
    "$i_{max}=\\Delta h_d/ L_{min}$\n",
    "\n",
    "$i_{crit}=\\gamma'/\\gamma_w=\\cfrac{G_s-1}{1+e}$\n",
    "\n",
    "$FS_p=i_{crit}/i_{max}$"
   ]
  },
  {
   "cell_type": "code",
   "execution_count": 1,
   "metadata": {},
   "outputs": [
    {
     "name": "stdout",
     "output_type": "stream",
     "text": [
      "gamma_b= 5.39 kN/m^3\n"
     ]
    }
   ],
   "source": [
    "Gs=2.65 #specific gravity\n",
    "\n",
    "gamma_sat=15.2 #kN/m3\n",
    "\n",
    "#I can find gamma bouyant\n",
    "\n",
    "gamma_b=gamma_sat-9.81\n",
    "\n",
    "print('gamma_b= %1.2f kN/m^3' %gamma_b)"
   ]
  },
  {
   "cell_type": "code",
   "execution_count": 2,
   "metadata": {},
   "outputs": [
    {
     "name": "stdout",
     "output_type": "stream",
     "text": [
      "i_crit= 0.35\n"
     ]
    }
   ],
   "source": [
    "# now I can determine i_crit\n",
    "\n",
    "i_crit=gamma_b/gamma_sat\n",
    "\n",
    "print('i_crit= %1.2f' %i_crit)"
   ]
  },
  {
   "cell_type": "code",
   "execution_count": 5,
   "metadata": {},
   "outputs": [
    {
     "name": "stdout",
     "output_type": "stream",
     "text": [
      "L_min= 3.38 m\n",
      "dh= 0.88 m\n",
      "i_max= 0.26\n"
     ]
    }
   ],
   "source": [
    "# Now from the flo net we can measure the element lenght and fin i_max\n",
    "\n",
    "L_min=0.9*15/4 #minimum length in m\n",
    "\n",
    "print('L_min= %1.2f m' % L_min)\n",
    "\n",
    "dH=7 #hydraulic head difference in m\n",
    "\n",
    "Nd=8\n",
    "\n",
    "dh=dH/Nd #head drop per element\n",
    "\n",
    "print('dh= %1.2f m' % dh)\n",
    "\n",
    "i_max=dh/L_min #max hydraulic head\n",
    "\n",
    "print('i_max= %1.2f' % i_max)\n",
    "\n"
   ]
  },
  {
   "cell_type": "code",
   "execution_count": 6,
   "metadata": {},
   "outputs": [
    {
     "name": "stdout",
     "output_type": "stream",
     "text": [
      "FS= 1.37\n"
     ]
    }
   ],
   "source": [
    "# Finally the factor of safety can be calculated using:\n",
    "\n",
    "FS=i_crit/i_max\n",
    "\n",
    "print('FS= %1.2f' % FS)"
   ]
  },
  {
   "cell_type": "code",
   "execution_count": null,
   "metadata": {},
   "outputs": [],
   "source": []
  }
 ],
 "metadata": {
  "kernelspec": {
   "display_name": "Python 3",
   "language": "python",
   "name": "python3"
  },
  "language_info": {
   "codemirror_mode": {
    "name": "ipython",
    "version": 3
   },
   "file_extension": ".py",
   "mimetype": "text/x-python",
   "name": "python",
   "nbconvert_exporter": "python",
   "pygments_lexer": "ipython3",
   "version": "3.8.8"
  }
 },
 "nbformat": 4,
 "nbformat_minor": 2
}
