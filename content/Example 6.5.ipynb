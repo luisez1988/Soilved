{
 "cells": [
  {
   "attachments": {},
   "cell_type": "markdown",
   "metadata": {},
   "source": [
    "# Example 6.5\n",
    "\n",
    "Find the stresses acting on the plane defined by angle using the pole method"
   ]
  },
  {
   "attachments": {},
   "cell_type": "markdown",
   "metadata": {},
   "source": [
    "## Data:\n",
    "\n",
    "$\\sigma_1=\\sigma_y=52$ kPa\n",
    "\n",
    "$\\sigma_3=\\sigma_x=12$ kPa\n",
    "\n",
    "$\\alpha= 35$ degrees"
   ]
  },
  {
   "cell_type": "code",
   "execution_count": 1,
   "metadata": {},
   "outputs": [],
   "source": [
    "import numpy as np\n",
    "import matplotlib.pyplot as plt"
   ]
  },
  {
   "cell_type": "code",
   "execution_count": 2,
   "metadata": {},
   "outputs": [],
   "source": [
    "def Get_stress_at_alpha(S_Tensor, alpha):\n",
    "    #alpha in radians\n",
    "    s_m=(S_Tensor[0][0]+S_Tensor[1][1])/2\n",
    "    s_d=S_Tensor[1][1]-S_Tensor[0][0]\n",
    "    sigma_alpha= s_m+ 0.5*s_d*np.cos(2*alpha)+S_Tensor[0][1]*np.sin(2*alpha)\n",
    "    tau_alpha=0.5*s_d*np.sin(2*alpha)-S_Tensor[0][1]*np.cos(2*alpha)\n",
    "    return sigma_alpha, tau_alpha"
   ]
  },
  {
   "cell_type": "code",
   "execution_count": 3,
   "metadata": {},
   "outputs": [],
   "source": [
    "# Set Tau to zero and find principal stresses\n",
    "def Get_principal_stresses(S):\n",
    "    s_d=S[1][1]-S[0][0]\n",
    "    alpha=0.5*np.arctan(2*S[0][1]/s_d)\n",
    "    beta=alpha+0.5*np.pi\n",
    "    s1, _=Get_stress_at_alpha(S, alpha)\n",
    "    s2,_=Get_stress_at_alpha(S, beta)\n",
    "    if (s1>s2):\n",
    "        s_1a=s1\n",
    "        s_2a=s2\n",
    "    else:\n",
    "        s_1a=s2\n",
    "        s_2a=s1\n",
    "    return s_1a, s_2a, alpha, beta"
   ]
  },
  {
   "cell_type": "code",
   "execution_count": 4,
   "metadata": {},
   "outputs": [
    {
     "name": "stdout",
     "output_type": "stream",
     "text": [
      "sigma_alpha= 38.84 kPa\n",
      "tau_alpha= 18.79 kPa\n"
     ]
    }
   ],
   "source": [
    "S=[[12, 0], [0, 52]]\n",
    "alpha=35*np.pi/180\n",
    "sigma_alpha, tau_alpha=Get_stress_at_alpha(S, alpha)\n",
    "\n",
    "print('sigma_alpha= %1.2f kPa' % sigma_alpha)\n",
    "print('tau_alpha= %1.2f kPa' % tau_alpha)"
   ]
  },
  {
   "cell_type": "code",
   "execution_count": 6,
   "metadata": {},
   "outputs": [
    {
     "data": {
      "image/png": "[encoded data removed]",
      "text/plain": [
       "<Figure size 432x288 with 1 Axes>"
      ]
     },
     "metadata": {
      "needs_background": "light"
     },
     "output_type": "display_data"
    }
   ],
   "source": [
    "alpha=np.linspace(0, np.pi, 180)\n",
    "\n",
    "sigma, tau=Get_stress_at_alpha(S, alpha)\n",
    "\n",
    "plt.plot(sigma, tau)\n",
    "plt.xlabel(r'Normal stress $\\sigma$ [kPa]')\n",
    "plt.ylabel(r'Shear stress $\\tau$ [kPa]')\n",
    "\n",
    "plt.plot([S[0][0], S[1][1]],[S[0][1], S[1][0]] )\n",
    "plt.plot([S[0][0], S[1][1]],[S[0][1], S[1][0]], 'o' )\n",
    "plt.plot(sigma_alpha, tau_alpha, 'o')\n",
    "plt.gca().axis('equal')\n",
    "plt.gca().grid('True')"
   ]
  },
  {
   "cell_type": "code",
   "execution_count": null,
   "metadata": {},
   "outputs": [],
   "source": []
  }
 ],
 "metadata": {
  "kernelspec": {
   "display_name": "base",
   "language": "python",
   "name": "python3"
  },
  "language_info": {
   "codemirror_mode": {
    "name": "ipython",
    "version": 3
   },
   "file_extension": ".py",
   "mimetype": "text/x-python",
   "name": "python",
   "nbconvert_exporter": "python",
   "pygments_lexer": "ipython3",
   "version": "3.8.8"
  },
  "orig_nbformat": 4
 },
 "nbformat": 4,
 "nbformat_minor": 2
}
