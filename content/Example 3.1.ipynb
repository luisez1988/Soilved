{
 "cells": [
  {
   "attachments": {},
   "cell_type": "markdown",
   "metadata": {},
   "source": [
    "# Example 3.1\n",
    "\n",
    "Calculate the relative density of perfectly spherical particles when the porosity is 0.5. What is the maximum and minimum densities of soil with uniform spherical particles? Assume $G_s=2.65$"
   ]
  },
  {
   "attachments": {},
   "cell_type": "markdown",
   "metadata": {},
   "source": [
    "## Data:\n",
    "\n",
    "$n_{min}= 0.26$\n",
    "\n",
    "$n_{max}=0.476$\n",
    "\n",
    "$G_s=2.65$"
   ]
  },
  {
   "attachments": {},
   "cell_type": "markdown",
   "metadata": {},
   "source": [
    "## Principles:\n",
    "\n",
    "$n=e/(e+1)$\n",
    "\n",
    "$D_r=\\cfrac{e_{max}-e}{e_{max}-e_{min}} \\times 100$\n",
    "\n",
    "$\\gamma_d=\\gamma_w G_s/ (1+e)$"
   ]
  },
  {
   "cell_type": "code",
   "execution_count": 1,
   "metadata": {},
   "outputs": [],
   "source": [
    "import numpy as np \n",
    "import Soilved as slv"
   ]
  },
  {
   "cell_type": "code",
   "execution_count": 2,
   "metadata": {},
   "outputs": [
    {
     "name": "stdout",
     "output_type": "stream",
     "text": [
      "e_min= 0.35\n",
      "e_max= 0.91\n"
     ]
    }
   ],
   "source": [
    "# First calculate the void ratios\n",
    "#e=n/(1-n)\n",
    "e_min=0.26/(1-0.26) # minimum void ratio\n",
    "e_max=0.476/(1-0.476) #maximun void ratio\n",
    "print(\"e_min= %1.2f\" %e_min) # print value\n",
    "print(\"e_max= %1.2f\" %e_max) # print value"
   ]
  },
  {
   "cell_type": "code",
   "execution_count": 4,
   "metadata": {},
   "outputs": [
    {
     "name": "stdout",
     "output_type": "stream",
     "text": [
      "D_r= 73.3 percent\n"
     ]
    }
   ],
   "source": [
    "#current void ratio\n",
    "e=0.5\n",
    "#relative density\n",
    "D_r=100*(e_max-e)/(e_max-e_min)\n",
    "print(\"D_r= %1.1f percent\" %D_r)"
   ]
  },
  {
   "cell_type": "code",
   "execution_count": 6,
   "metadata": {},
   "outputs": [
    {
     "name": "stdout",
     "output_type": "stream",
     "text": [
      "gamma_dmax= 19.24 kN/m^3\n"
     ]
    }
   ],
   "source": [
    "# Now we can find the densities\n",
    "Gs=2.65\n",
    "gamma_dmax=slv.GetTotalUWeight(Gs,0,e_min) #calculated the dry density\n",
    "print(\"gamma_dmax= %1.2f kN/m^3\" %gamma_dmax)\n"
   ]
  },
  {
   "cell_type": "code",
   "execution_count": 7,
   "metadata": {},
   "outputs": [
    {
     "name": "stdout",
     "output_type": "stream",
     "text": [
      "gamma_dmin= 13.62 kN/m^3\n"
     ]
    }
   ],
   "source": [
    "gamma_dmin=slv.GetTotalUWeight(Gs,0,e_max) #calculated the dry density\n",
    "print(\"gamma_dmin= %1.2f kN/m^3\" %gamma_dmin)"
   ]
  },
  {
   "cell_type": "code",
   "execution_count": 8,
   "metadata": {},
   "outputs": [
    {
     "name": "stdout",
     "output_type": "stream",
     "text": [
      "gamma_d= 17.33 kN/m^3\n"
     ]
    }
   ],
   "source": [
    "gamma_d=slv.GetTotalUWeight(Gs,0,e) #calculated the dry density\n",
    "print(\"gamma_d= %1.2f kN/m^3\" %gamma_d)"
   ]
  },
  {
   "cell_type": "code",
   "execution_count": null,
   "metadata": {},
   "outputs": [],
   "source": []
  }
 ],
 "metadata": {
  "kernelspec": {
   "display_name": "base",
   "language": "python",
   "name": "python3"
  },
  "language_info": {
   "codemirror_mode": {
    "name": "ipython",
    "version": 3
   },
   "file_extension": ".py",
   "mimetype": "text/x-python",
   "name": "python",
   "nbconvert_exporter": "python",
   "pygments_lexer": "ipython3",
   "version": "3.9.7"
  },
  "orig_nbformat": 4,
  "vscode": {
   "interpreter": {
    "hash": "ad2bdc8ecc057115af97d19610ffacc2b4e99fae6737bb82f5d7fb13d2f2c186"
   }
  }
 },
 "nbformat": 4,
 "nbformat_minor": 2
}
