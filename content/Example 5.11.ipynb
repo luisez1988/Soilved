{
 "cells": [
  {
   "attachments": {},
   "cell_type": "markdown",
   "metadata": {},
   "source": [
    "# Example 5.11\n",
    "\n",
    "For problem 5.2. Determine the time required to obtain 95% degree of consolidation if the clay's coefficient of consolidation is 15 m^2/yr (Boston's blue clay) or 0.4 m^2/yr (Mexico City clay). In both cases plot settlement vs. time."
   ]
  },
  {
   "attachments": {},
   "cell_type": "markdown",
   "metadata": {},
   "source": [
    "## Data:\n",
    "\n",
    "$U=95\\%$\n",
    "\n",
    "$C_v=15 \\mathrm{m}^2/\\mathrm{s}$\n",
    "\n",
    "$C_v=0.4 \\mathrm{m}^2/\\mathrm{s}$"
   ]
  },
  {
   "attachments": {},
   "cell_type": "markdown",
   "metadata": {},
   "source": [
    "## Find:\n",
    "\n",
    "$t_{95}$"
   ]
  },
  {
   "attachments": {},
   "cell_type": "markdown",
   "metadata": {},
   "source": [
    "## Principles:\n",
    "\n",
    "$Tv=\\cfrac{C_v t}{H_{dr}^2}$"
   ]
  },
  {
   "cell_type": "code",
   "execution_count": 1,
   "metadata": {},
   "outputs": [],
   "source": [
    "import numpy as np\n",
    "import matplotlib.pyplot as plt"
   ]
  },
  {
   "cell_type": "code",
   "execution_count": 2,
   "metadata": {},
   "outputs": [],
   "source": [
    "def Get_approx_Tv(U):\n",
    "    if (U<60):\n",
    "        Tv=0.25*np.pi*(U/100)**2\n",
    "    else:\n",
    "        Tv=1.781-0.933*np.log10(100-U)\n",
    "    return Tv"
   ]
  },
  {
   "cell_type": "code",
   "execution_count": 3,
   "metadata": {},
   "outputs": [
    {
     "name": "stdout",
     "output_type": "stream",
     "text": [
      "Tv= 1.129\n"
     ]
    }
   ],
   "source": [
    "# First find Tv for 95 consol\n",
    "\n",
    "Tv=Get_approx_Tv(95)\n",
    "print('Tv= %1.3f' % Tv)"
   ]
  },
  {
   "cell_type": "code",
   "execution_count": 4,
   "metadata": {},
   "outputs": [
    {
     "name": "stdout",
     "output_type": "stream",
     "text": [
      "t= 1.88 yr\n"
     ]
    }
   ],
   "source": [
    "# first assuming Boston Blue Clay properties\n",
    "\n",
    "Hdr=5\n",
    "Cv=15\n",
    "\n",
    "t=Tv*Hdr**2 /Cv\n",
    "\n",
    "print('t= %1.2f yr' %t)\n"
   ]
  },
  {
   "cell_type": "code",
   "execution_count": 5,
   "metadata": {},
   "outputs": [
    {
     "name": "stdout",
     "output_type": "stream",
     "text": [
      "t= 70.55 yr\n"
     ]
    }
   ],
   "source": [
    "# Now assuming Mexico City clay properties\n",
    "\n",
    "Hdr=5\n",
    "Cv=0.4\n",
    "\n",
    "t=Tv*Hdr**2 /Cv\n",
    "\n",
    "print('t= %1.2f yr' %t)"
   ]
  },
  {
   "cell_type": "code",
   "execution_count": 11,
   "metadata": {},
   "outputs": [
    {
     "data": {
      "text/plain": [
       "Text(0, 0.5, 'Settlement (m)')"
      ]
     },
     "execution_count": 11,
     "metadata": {},
     "output_type": "execute_result"
    },
    {
     "data": {
      "image/png": "[encoded data removed]",
      "text/plain": [
       "<Figure size 432x288 with 1 Axes>"
      ]
     },
     "metadata": {
      "needs_background": "light"
     },
     "output_type": "display_data"
    }
   ],
   "source": [
    "# For the second part\n",
    "\n",
    "Spc= 0.48 # from example\n",
    "\n",
    "#Define an array of U from 0 to 95 percent consol\n",
    "\n",
    "U=np.linspace(0,98,200)\n",
    "\n",
    "#Now find Tv for each\n",
    "\n",
    "Tv=np.zeros(200)\n",
    "for i in range(200):\n",
    "    Tv[i]=Get_approx_Tv(U[i])\n",
    "\n",
    "#now find the real time\n",
    "t1=Tv*Hdr**2 /15 # Boston blue clay properties\n",
    "\n",
    "t2=Tv*Hdr**2 / 0.4 # Mexico City clay properties\n",
    "\n",
    "S=0.48*U/100\n",
    "\n",
    "plt.plot(t1, S)\n",
    "plt.plot(t2, S)\n",
    "\n",
    "plt.gca().invert_yaxis()\n",
    "plt.xscale('LOG')\n",
    "\n",
    "plt.xlabel(r'Time (yr)')\n",
    "plt.ylabel(r'Settlement (m)')\n"
   ]
  },
  {
   "cell_type": "code",
   "execution_count": null,
   "metadata": {},
   "outputs": [],
   "source": []
  }
 ],
 "metadata": {
  "kernelspec": {
   "display_name": "base",
   "language": "python",
   "name": "python3"
  },
  "language_info": {
   "codemirror_mode": {
    "name": "ipython",
    "version": 3
   },
   "file_extension": ".py",
   "mimetype": "text/x-python",
   "name": "python",
   "nbconvert_exporter": "python",
   "pygments_lexer": "ipython3",
   "version": "3.8.8"
  },
  "orig_nbformat": 4
 },
 "nbformat": 4,
 "nbformat_minor": 2
}
