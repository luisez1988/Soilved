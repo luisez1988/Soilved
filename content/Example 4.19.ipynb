{
 "cells": [
  {
   "attachments": {},
   "cell_type": "markdown",
   "metadata": {},
   "source": [
    "# Example 4.19\n",
    "\n",
    "Determine the flow below the sheet pile, the total head and the pore pressure at point A. "
   ]
  },
  {
   "attachments": {},
   "cell_type": "markdown",
   "metadata": {},
   "source": [
    "## Data:\n",
    "\n",
    "$H_1= 10$ m\n",
    "\n",
    "$H_2= 3$ m\n",
    "\n",
    "$z_A= 12$ m\n",
    "\n",
    "$k= 1.5 \\times 10^{-7}$ m/s\n",
    "\n",
    "$x_A= 10$ m\n"
   ]
  },
  {
   "attachments": {},
   "cell_type": "markdown",
   "metadata": {},
   "source": [
    "## Principles:\n",
    "\n",
    "$q=\\Delta H k \\cfrac{N_f}{N_d}$\n",
    "\n",
    "$h=z+u/\\gamma_w$"
   ]
  },
  {
   "cell_type": "code",
   "execution_count": 2,
   "metadata": {},
   "outputs": [],
   "source": [
    "# First I'm inputting the data in consistent units\n",
    "\n",
    "dH=10-3 # head difference in m\n",
    "\n",
    "z_A=12 # elevation of point A in m\n",
    "\n",
    "k=1.5e-7 #permeability in m/s\n",
    "\n",
    "Nf=4 #number of flow channels\n",
    "\n",
    "Nd=7 # number of head drops\n"
   ]
  },
  {
   "cell_type": "code",
   "execution_count": 3,
   "metadata": {},
   "outputs": [
    {
     "name": "stdout",
     "output_type": "stream",
     "text": [
      "q= 6.00e-07 m^3/s/m\n"
     ]
    }
   ],
   "source": [
    "# Now we can calculate the flow in the cross section\n",
    "\n",
    "q=dH*k*Nf/Nd #flow below the sheet pile in m3/s/m\n",
    "\n",
    "print('q= %1.2e m^3/s/m' % q)"
   ]
  },
  {
   "cell_type": "code",
   "execution_count": 4,
   "metadata": {},
   "outputs": [
    {
     "name": "stdout",
     "output_type": "stream",
     "text": [
      "u= 222.69 kPa\n"
     ]
    }
   ],
   "source": [
    "# The total head at point A is calculated using the flow net\n",
    "\n",
    "h_A=34.7 #Approximated head at point A\n",
    "\n",
    "u=(h_A-z_A)*9.81 #pore pressure at point A in kPa\n",
    "\n",
    "print('u= %1.2f kPa' %u)"
   ]
  },
  {
   "cell_type": "code",
   "execution_count": null,
   "metadata": {},
   "outputs": [],
   "source": []
  }
 ],
 "metadata": {
  "kernelspec": {
   "display_name": "base",
   "language": "python",
   "name": "python3"
  },
  "language_info": {
   "codemirror_mode": {
    "name": "ipython",
    "version": 3
   },
   "file_extension": ".py",
   "mimetype": "text/x-python",
   "name": "python",
   "nbconvert_exporter": "python",
   "pygments_lexer": "ipython3",
   "version": "3.9.7"
  },
  "orig_nbformat": 4
 },
 "nbformat": 4,
 "nbformat_minor": 2
}
