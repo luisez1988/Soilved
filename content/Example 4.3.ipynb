{
 "cells": [
  {
   "attachments": {},
   "cell_type": "markdown",
   "metadata": {},
   "source": [
    "# Example 4.3\n",
    "\n",
    "Determine how the frost susceptibility of the soil in Example 2.7."
   ]
  },
  {
   "attachments": {},
   "cell_type": "markdown",
   "metadata": {},
   "source": [
    "## Data:\n",
    "\n",
    "Results from example 2.7"
   ]
  },
  {
   "attachments": {},
   "cell_type": "markdown",
   "metadata": {},
   "source": [
    "## Principles\n",
    "\n",
    "Armstrong and Csathy (1963) chart"
   ]
  },
  {
   "cell_type": "code",
   "execution_count": 1,
   "metadata": {},
   "outputs": [],
   "source": [
    "import pandas as pd\n",
    "import matplotlib.pyplot as plt\n",
    "import numpy as np\n",
    "import Soilved as slv"
   ]
  },
  {
   "cell_type": "code",
   "execution_count": 4,
   "metadata": {},
   "outputs": [
    {
     "data": {
      "text/html": [
       "<div>\n",
       "<style scoped>\n",
       "    .dataframe tbody tr th:only-of-type {\n",
       "        vertical-align: middle;\n",
       "    }\n",
       "\n",
       "    .dataframe tbody tr th {\n",
       "        vertical-align: top;\n",
       "    }\n",
       "\n",
       "    .dataframe thead th {\n",
       "        text-align: right;\n",
       "    }\n",
       "</style>\n",
       "<table border=\"1\" class=\"dataframe\">\n",
       "  <thead>\n",
       "    <tr style=\"text-align: right;\">\n",
       "      <th></th>\n",
       "      <th>d</th>\n",
       "      <th>Ws (gr)</th>\n",
       "      <th>Weight retained</th>\n",
       "      <th>Retained</th>\n",
       "      <th>Passing</th>\n",
       "    </tr>\n",
       "  </thead>\n",
       "  <tbody>\n",
       "    <tr>\n",
       "      <th>0</th>\n",
       "      <td>4.7500</td>\n",
       "      <td>0.00</td>\n",
       "      <td>0.00</td>\n",
       "      <td>0.000000</td>\n",
       "      <td>100.000000</td>\n",
       "    </tr>\n",
       "    <tr>\n",
       "      <th>1</th>\n",
       "      <td>0.8500</td>\n",
       "      <td>25.36</td>\n",
       "      <td>37.48</td>\n",
       "      <td>11.204783</td>\n",
       "      <td>88.795217</td>\n",
       "    </tr>\n",
       "    <tr>\n",
       "      <th>2</th>\n",
       "      <td>0.4250</td>\n",
       "      <td>32.15</td>\n",
       "      <td>69.63</td>\n",
       "      <td>20.816143</td>\n",
       "      <td>79.183857</td>\n",
       "    </tr>\n",
       "    <tr>\n",
       "      <th>3</th>\n",
       "      <td>0.2500</td>\n",
       "      <td>33.14</td>\n",
       "      <td>102.77</td>\n",
       "      <td>30.723468</td>\n",
       "      <td>69.276532</td>\n",
       "    </tr>\n",
       "    <tr>\n",
       "      <th>4</th>\n",
       "      <td>0.1500</td>\n",
       "      <td>33.78</td>\n",
       "      <td>136.55</td>\n",
       "      <td>40.822123</td>\n",
       "      <td>59.177877</td>\n",
       "    </tr>\n",
       "    <tr>\n",
       "      <th>5</th>\n",
       "      <td>0.1060</td>\n",
       "      <td>47.56</td>\n",
       "      <td>184.11</td>\n",
       "      <td>55.040359</td>\n",
       "      <td>44.959641</td>\n",
       "    </tr>\n",
       "    <tr>\n",
       "      <th>6</th>\n",
       "      <td>0.0750</td>\n",
       "      <td>50.14</td>\n",
       "      <td>234.25</td>\n",
       "      <td>70.029895</td>\n",
       "      <td>29.970105</td>\n",
       "    </tr>\n",
       "    <tr>\n",
       "      <th>7</th>\n",
       "      <td>0.0660</td>\n",
       "      <td>NaN</td>\n",
       "      <td>NaN</td>\n",
       "      <td>NaN</td>\n",
       "      <td>25.474589</td>\n",
       "    </tr>\n",
       "    <tr>\n",
       "      <th>8</th>\n",
       "      <td>0.0450</td>\n",
       "      <td>NaN</td>\n",
       "      <td>NaN</td>\n",
       "      <td>NaN</td>\n",
       "      <td>22.177877</td>\n",
       "    </tr>\n",
       "    <tr>\n",
       "      <th>9</th>\n",
       "      <td>0.0360</td>\n",
       "      <td>NaN</td>\n",
       "      <td>NaN</td>\n",
       "      <td>NaN</td>\n",
       "      <td>20.379671</td>\n",
       "    </tr>\n",
       "    <tr>\n",
       "      <th>10</th>\n",
       "      <td>0.0250</td>\n",
       "      <td>NaN</td>\n",
       "      <td>NaN</td>\n",
       "      <td>NaN</td>\n",
       "      <td>17.382661</td>\n",
       "    </tr>\n",
       "    <tr>\n",
       "      <th>11</th>\n",
       "      <td>0.0150</td>\n",
       "      <td>NaN</td>\n",
       "      <td>NaN</td>\n",
       "      <td>NaN</td>\n",
       "      <td>14.385650</td>\n",
       "    </tr>\n",
       "    <tr>\n",
       "      <th>12</th>\n",
       "      <td>0.0110</td>\n",
       "      <td>NaN</td>\n",
       "      <td>NaN</td>\n",
       "      <td>NaN</td>\n",
       "      <td>12.587444</td>\n",
       "    </tr>\n",
       "    <tr>\n",
       "      <th>13</th>\n",
       "      <td>0.0070</td>\n",
       "      <td>NaN</td>\n",
       "      <td>NaN</td>\n",
       "      <td>NaN</td>\n",
       "      <td>10.489537</td>\n",
       "    </tr>\n",
       "    <tr>\n",
       "      <th>14</th>\n",
       "      <td>0.0050</td>\n",
       "      <td>NaN</td>\n",
       "      <td>NaN</td>\n",
       "      <td>NaN</td>\n",
       "      <td>8.391629</td>\n",
       "    </tr>\n",
       "    <tr>\n",
       "      <th>15</th>\n",
       "      <td>0.0040</td>\n",
       "      <td>NaN</td>\n",
       "      <td>NaN</td>\n",
       "      <td>NaN</td>\n",
       "      <td>7.192825</td>\n",
       "    </tr>\n",
       "    <tr>\n",
       "      <th>16</th>\n",
       "      <td>0.0030</td>\n",
       "      <td>NaN</td>\n",
       "      <td>NaN</td>\n",
       "      <td>NaN</td>\n",
       "      <td>5.994021</td>\n",
       "    </tr>\n",
       "    <tr>\n",
       "      <th>17</th>\n",
       "      <td>0.0018</td>\n",
       "      <td>NaN</td>\n",
       "      <td>NaN</td>\n",
       "      <td>NaN</td>\n",
       "      <td>4.795217</td>\n",
       "    </tr>\n",
       "    <tr>\n",
       "      <th>18</th>\n",
       "      <td>0.0012</td>\n",
       "      <td>NaN</td>\n",
       "      <td>NaN</td>\n",
       "      <td>NaN</td>\n",
       "      <td>3.596413</td>\n",
       "    </tr>\n",
       "  </tbody>\n",
       "</table>\n",
       "</div>"
      ],
      "text/plain": [
       "         d  Ws (gr)  Weight retained   Retained     Passing\n",
       "0   4.7500     0.00             0.00   0.000000  100.000000\n",
       "1   0.8500    25.36            37.48  11.204783   88.795217\n",
       "2   0.4250    32.15            69.63  20.816143   79.183857\n",
       "3   0.2500    33.14           102.77  30.723468   69.276532\n",
       "4   0.1500    33.78           136.55  40.822123   59.177877\n",
       "5   0.1060    47.56           184.11  55.040359   44.959641\n",
       "6   0.0750    50.14           234.25  70.029895   29.970105\n",
       "7   0.0660      NaN              NaN        NaN   25.474589\n",
       "8   0.0450      NaN              NaN        NaN   22.177877\n",
       "9   0.0360      NaN              NaN        NaN   20.379671\n",
       "10  0.0250      NaN              NaN        NaN   17.382661\n",
       "11  0.0150      NaN              NaN        NaN   14.385650\n",
       "12  0.0110      NaN              NaN        NaN   12.587444\n",
       "13  0.0070      NaN              NaN        NaN   10.489537\n",
       "14  0.0050      NaN              NaN        NaN    8.391629\n",
       "15  0.0040      NaN              NaN        NaN    7.192825\n",
       "16  0.0030      NaN              NaN        NaN    5.994021\n",
       "17  0.0018      NaN              NaN        NaN    4.795217\n",
       "18  0.0012      NaN              NaN        NaN    3.596413"
      ]
     },
     "execution_count": 4,
     "metadata": {},
     "output_type": "execute_result"
    }
   ],
   "source": [
    "# I saved the results of 2.7 as csv and removed the indices column and now I'm loading it back on this notebook\n",
    "GSD_data=pd.read_csv(\"./data/Example2.7.csv\") #reads csv data\n",
    "\n",
    "GSD_data #shows table"
   ]
  },
  {
   "cell_type": "code",
   "execution_count": 5,
   "metadata": {},
   "outputs": [
    {
     "data": {
      "image/png": "[encoded data removed]",
      "text/plain": [
       "<Figure size 432x288 with 2 Axes>"
      ]
     },
     "metadata": {
      "needs_background": "light"
     },
     "output_type": "display_data"
    }
   ],
   "source": [
    "# Now I can use a function that plots the GSD with Armstrong and Csathy limits\n",
    "slv.GetSoilFrostLimits(GSD_data) #I'm passing example 2.7 GSD"
   ]
  },
  {
   "attachments": {},
   "cell_type": "markdown",
   "metadata": {},
   "source": [
    "From the Figure the silty sand (SM) has around 30% of material in the area of \"some frost susceptibility\" and almost all fines are in the area of \"frost susceptibility\". This soil is therefore Frost susceptible."
   ]
  },
  {
   "attachments": {},
   "cell_type": "markdown",
   "metadata": {},
   "source": [
    "## Summary:\n",
    "\n",
    "We have worked with Example 2.7 and have determined GSD, Atterberg limits, and Activity. From these simple parameters we found that this soil is a silty sand (SM) with good bearing capacity for highway construction and negligible welling potential. However, this soil is frost susceptible and care should be taken if using this soil for design of pavements or other earthen structure. We got all this **valuable** information just with a bunch of index tests.\n",
    "\n",
    "What can we do:\n",
    "* Remove it if possible.\n",
    "* Build foundations below the maximum frost penetration depth\n",
    "* Stabilize the soil to make it non-frost susceptible (e.g., using a cementitious binder)."
   ]
  },
  {
   "cell_type": "code",
   "execution_count": null,
   "metadata": {},
   "outputs": [],
   "source": []
  }
 ],
 "metadata": {
  "kernelspec": {
   "display_name": "base",
   "language": "python",
   "name": "python3"
  },
  "language_info": {
   "codemirror_mode": {
    "name": "ipython",
    "version": 3
   },
   "file_extension": ".py",
   "mimetype": "text/x-python",
   "name": "python",
   "nbconvert_exporter": "python",
   "pygments_lexer": "ipython3",
   "version": "3.9.7"
  },
  "orig_nbformat": 4,
  "vscode": {
   "interpreter": {
    "hash": "ad2bdc8ecc057115af97d19610ffacc2b4e99fae6737bb82f5d7fb13d2f2c186"
   }
  }
 },
 "nbformat": 4,
 "nbformat_minor": 2
}
