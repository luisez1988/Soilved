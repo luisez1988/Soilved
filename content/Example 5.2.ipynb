{
 "cells": [
  {
   "attachments": {},
   "cell_type": "markdown",
   "metadata": {},
   "source": [
    "# Example 5.2\n",
    "\n",
    "The soil profile at a site for a proposed office building consists of a layer of yne sand 10.4 m thick above a layer of soft, normally consolidated clay 10 m thick. Below the soft clay is a deposit of coarse sand. The groundwater table was observed at 3 m below ground level. The void ratio of the sand is 0.76 and the water content of the clay is 43%. The building will impose a vertical stress increase of 200 kPa at the middle of the clay layer. Estimate the primary consolidation settlement of the clay. Assume the soil above the water table to be saturated, Cc = 0.3, and Gs = 2.7."
   ]
  },
  {
   "attachments": {},
   "cell_type": "markdown",
   "metadata": {},
   "source": [
    "## Data:\n",
    "\n",
    "$H_0=10$ m\n",
    "\n",
    "$e_{sand}=0.76$\n",
    "\n",
    "$w_{clay}=43$ %\n",
    "\n",
    "$C_c=0.3$\n",
    "\n",
    "$G_s=2.7$\n",
    "\n",
    "$\\Delta \\sigma_v=200$ kPa\n"
   ]
  },
  {
   "attachments": {},
   "cell_type": "markdown",
   "metadata": {},
   "source": [
    "## Principles:\n",
    "\n",
    "$\\Delta H= \\cfrac{C_c H_0}{1+e_0} \\log(\\sigma'f/\\sigma'_0)$"
   ]
  },
  {
   "cell_type": "code",
   "execution_count": 5,
   "metadata": {},
   "outputs": [],
   "source": [
    "import numpy as np\n",
    "import Soilved as slv\n",
    "import pandas as pd"
   ]
  },
  {
   "cell_type": "code",
   "execution_count": 2,
   "metadata": {},
   "outputs": [
    {
     "name": "stdout",
     "output_type": "stream",
     "text": [
      "gamma_sand= 19.29 kN/m^3\n"
     ]
    }
   ],
   "source": [
    "# first let's calculate the unit weights of the soils\n",
    "\n",
    "# We will assume all soils are fully saturated\n",
    "Gs=2.7\n",
    "\n",
    "gamma_sand=slv.GetTotalUWeight(Gs, 1, 0.76)\n",
    "\n",
    "print('gamma_sand= %1.2f kN/m^3' % gamma_sand)"
   ]
  },
  {
   "cell_type": "code",
   "execution_count": 4,
   "metadata": {},
   "outputs": [
    {
     "name": "stdout",
     "output_type": "stream",
     "text": [
      "e_clay= 1.16\n",
      "gamma_clay= 17.53 kN/m^3\n"
     ]
    }
   ],
   "source": [
    "# For the clay\n",
    "\n",
    "#Let's find the void ratio first\n",
    "e=Gs*43/100 \n",
    "\n",
    "print('e_clay= %1.2f' % e)\n",
    "\n",
    "# Now find he unit weight\n",
    "\n",
    "gamma_clay=slv.GetTotalUWeight(Gs, 1, e)\n",
    "\n",
    "print('gamma_clay= %1.2f kN/m^3' % gamma_clay)"
   ]
  },
  {
   "cell_type": "code",
   "execution_count": 6,
   "metadata": {},
   "outputs": [
    {
     "data": {
      "text/html": [
       "<div>\n",
       "<style scoped>\n",
       "    .dataframe tbody tr th:only-of-type {\n",
       "        vertical-align: middle;\n",
       "    }\n",
       "\n",
       "    .dataframe tbody tr th {\n",
       "        vertical-align: top;\n",
       "    }\n",
       "\n",
       "    .dataframe thead th {\n",
       "        text-align: right;\n",
       "    }\n",
       "</style>\n",
       "<table border=\"1\" class=\"dataframe\">\n",
       "  <thead>\n",
       "    <tr style=\"text-align: right;\">\n",
       "      <th></th>\n",
       "      <th>z_b</th>\n",
       "      <th>t</th>\n",
       "      <th>gamma_t</th>\n",
       "      <th>K0</th>\n",
       "    </tr>\n",
       "  </thead>\n",
       "  <tbody>\n",
       "    <tr>\n",
       "      <th>0</th>\n",
       "      <td>3.0</td>\n",
       "      <td>3.0</td>\n",
       "      <td>19.285568</td>\n",
       "      <td>1</td>\n",
       "    </tr>\n",
       "    <tr>\n",
       "      <th>1</th>\n",
       "      <td>10.4</td>\n",
       "      <td>7.4</td>\n",
       "      <td>19.285568</td>\n",
       "      <td>1</td>\n",
       "    </tr>\n",
       "    <tr>\n",
       "      <th>2</th>\n",
       "      <td>20.4</td>\n",
       "      <td>10.0</td>\n",
       "      <td>17.527261</td>\n",
       "      <td>1</td>\n",
       "    </tr>\n",
       "  </tbody>\n",
       "</table>\n",
       "</div>"
      ],
      "text/plain": [
       "    z_b     t    gamma_t  K0\n",
       "0   3.0   3.0  19.285568   1\n",
       "1  10.4   7.4  19.285568   1\n",
       "2  20.4  10.0  17.527261   1"
      ]
     },
     "execution_count": 6,
     "metadata": {},
     "output_type": "execute_result"
    }
   ],
   "source": [
    "# Now we need the in-situ effective stress\n",
    "\n",
    "Soil_profile={'z_b': [3, 10.4, 20.4], 't': [3, 7.4, 10], 'gamma_t':[gamma_sand, gamma_sand, gamma_clay], 'K0':[1,1,1]}\n",
    "\n",
    "Soil_profile=pd.DataFrame(Soil_profile) #creates pandas dataframe\n",
    "\n",
    "Soil_profile #shows data table with headers"
   ]
  },
  {
   "cell_type": "code",
   "execution_count": 8,
   "metadata": {},
   "outputs": [
    {
     "name": "stdout",
     "output_type": "stream",
     "text": [
      "sigma_t= 288.21 kPa\n",
      "u= 121.64 kPa\n",
      "sigma_eff= 166.56 kPa\n"
     ]
    }
   ],
   "source": [
    "z_pointA=15.4 # depth at midpoint of layer\n",
    "z_w=3 #depth to water table\n",
    "sigma_t, sigma_eff, u, _, _=slv.GetK0Stresses(z_pointA, z_w, Soil_profile) #calculates pressure at depth z with water table depth z_w\n",
    "print(\"sigma_t= %1.2f kPa\" %sigma_t)\n",
    "print(\"u= %1.2f kPa\" %u)\n",
    "print(\"sigma_eff= %1.2f kPa\" %sigma_eff)"
   ]
  },
  {
   "cell_type": "code",
   "execution_count": 9,
   "metadata": {},
   "outputs": [
    {
     "name": "stdout",
     "output_type": "stream",
     "text": [
      "sigma_f= 366.56 kPa\n"
     ]
    }
   ],
   "source": [
    "# the final effective stress is:\n",
    "sigma_f= sigma_eff+200\n",
    "\n",
    "print('sigma_f= %1.2f kPa' % sigma_f)"
   ]
  },
  {
   "cell_type": "code",
   "execution_count": 10,
   "metadata": {},
   "outputs": [
    {
     "name": "stdout",
     "output_type": "stream",
     "text": [
      "S=0.48 m\n"
     ]
    }
   ],
   "source": [
    "# Finally we can compute the primary consolidation settlement\n",
    "\n",
    "S=10*0.3*np.log10(sigma_f/sigma_eff)/(1+e)\n",
    "\n",
    "print('S=%1.2f m' % S)"
   ]
  },
  {
   "attachments": {},
   "cell_type": "markdown",
   "metadata": {},
   "source": [
    "# Example 5.2\n",
    "\n",
    "Solve problem 5.2 but assuming $OCR=4$, $w=38$ %, and C_r=0.05. All other soil values given in Example 5.2 remain unchanged. Note that the unit weight of sand is unchanged, only the clay unit weight is changed"
   ]
  },
  {
   "cell_type": "code",
   "execution_count": 11,
   "metadata": {},
   "outputs": [
    {
     "name": "stdout",
     "output_type": "stream",
     "text": [
      "e_clay= 1.03\n",
      "gamma_clay= 18.04 kN/m^3\n"
     ]
    }
   ],
   "source": [
    "# First let's recalculate the void ratio\n",
    "\n",
    "# For the clay\n",
    "\n",
    "#Let's find the void ratio first\n",
    "e=Gs*38/100 \n",
    "\n",
    "print('e_clay= %1.2f' % e)\n",
    "\n",
    "# Now find he unit weight\n",
    "\n",
    "gamma_clay=slv.GetTotalUWeight(Gs, 1, e)\n",
    "\n",
    "print('gamma_clay= %1.2f kN/m^3' % gamma_clay)"
   ]
  },
  {
   "cell_type": "code",
   "execution_count": 12,
   "metadata": {},
   "outputs": [
    {
     "data": {
      "text/html": [
       "<div>\n",
       "<style scoped>\n",
       "    .dataframe tbody tr th:only-of-type {\n",
       "        vertical-align: middle;\n",
       "    }\n",
       "\n",
       "    .dataframe tbody tr th {\n",
       "        vertical-align: top;\n",
       "    }\n",
       "\n",
       "    .dataframe thead th {\n",
       "        text-align: right;\n",
       "    }\n",
       "</style>\n",
       "<table border=\"1\" class=\"dataframe\">\n",
       "  <thead>\n",
       "    <tr style=\"text-align: right;\">\n",
       "      <th></th>\n",
       "      <th>z_b</th>\n",
       "      <th>t</th>\n",
       "      <th>gamma_t</th>\n",
       "      <th>K0</th>\n",
       "    </tr>\n",
       "  </thead>\n",
       "  <tbody>\n",
       "    <tr>\n",
       "      <th>0</th>\n",
       "      <td>3.0</td>\n",
       "      <td>3.0</td>\n",
       "      <td>19.285568</td>\n",
       "      <td>1</td>\n",
       "    </tr>\n",
       "    <tr>\n",
       "      <th>1</th>\n",
       "      <td>10.4</td>\n",
       "      <td>7.4</td>\n",
       "      <td>19.285568</td>\n",
       "      <td>1</td>\n",
       "    </tr>\n",
       "    <tr>\n",
       "      <th>2</th>\n",
       "      <td>20.4</td>\n",
       "      <td>10.0</td>\n",
       "      <td>18.041491</td>\n",
       "      <td>1</td>\n",
       "    </tr>\n",
       "  </tbody>\n",
       "</table>\n",
       "</div>"
      ],
      "text/plain": [
       "    z_b     t    gamma_t  K0\n",
       "0   3.0   3.0  19.285568   1\n",
       "1  10.4   7.4  19.285568   1\n",
       "2  20.4  10.0  18.041491   1"
      ]
     },
     "execution_count": 12,
     "metadata": {},
     "output_type": "execute_result"
    }
   ],
   "source": [
    "# Now we need the in-situ effective stress\n",
    "\n",
    "Soil_profile={'z_b': [3, 10.4, 20.4], 't': [3, 7.4, 10], 'gamma_t':[gamma_sand, gamma_sand, gamma_clay], 'K0':[1,1,1]}\n",
    "\n",
    "Soil_profile=pd.DataFrame(Soil_profile) #creates pandas dataframe\n",
    "\n",
    "Soil_profile #shows data table with headers"
   ]
  },
  {
   "cell_type": "code",
   "execution_count": 13,
   "metadata": {},
   "outputs": [
    {
     "name": "stdout",
     "output_type": "stream",
     "text": [
      "sigma_t= 290.78 kPa\n",
      "u= 121.64 kPa\n",
      "sigma_eff= 169.13 kPa\n"
     ]
    }
   ],
   "source": [
    "z_pointA=15.4 # depth at midpoint of layer\n",
    "z_w=3 #depth to water table\n",
    "sigma_t, sigma_eff, u, _, _=slv.GetK0Stresses(z_pointA, z_w, Soil_profile) #calculates pressure at depth z with water table depth z_w\n",
    "print(\"sigma_t= %1.2f kPa\" %sigma_t)\n",
    "print(\"u= %1.2f kPa\" %u)\n",
    "print(\"sigma_eff= %1.2f kPa\" %sigma_eff)"
   ]
  },
  {
   "cell_type": "code",
   "execution_count": 14,
   "metadata": {},
   "outputs": [
    {
     "name": "stdout",
     "output_type": "stream",
     "text": [
      "sigma_f= 369.13 kPa\n"
     ]
    }
   ],
   "source": [
    "# the final effective stress is:\n",
    "sigma_f= sigma_eff+200\n",
    "\n",
    "print('sigma_f= %1.2f kPa' % sigma_f)"
   ]
  },
  {
   "cell_type": "code",
   "execution_count": 15,
   "metadata": {},
   "outputs": [
    {
     "name": "stdout",
     "output_type": "stream",
     "text": [
      "sigma_c= 676.53 kPa\n"
     ]
    }
   ],
   "source": [
    "# We can now calculate the preconsolidation pressure\n",
    "\n",
    "sigma_c= 4*sigma_eff\n",
    "\n",
    "print('sigma_c= %1.2f kPa' % sigma_c)"
   ]
  },
  {
   "cell_type": "code",
   "execution_count": 16,
   "metadata": {},
   "outputs": [
    {
     "name": "stdout",
     "output_type": "stream",
     "text": [
      "S=0.08 m\n"
     ]
    }
   ],
   "source": [
    "# Finally we can compute the primary consolidation settlement\n",
    "\n",
    "S=10*0.05*np.log10(sigma_f/sigma_eff)/(1+e)\n",
    "\n",
    "print('S=%1.2f m' % S)"
   ]
  },
  {
   "attachments": {},
   "cell_type": "markdown",
   "metadata": {},
   "source": [
    "# Example 5.4\n",
    "\n",
    "Solve problem 5.3 assuming . Determine the primary consolidation settlement"
   ]
  },
  {
   "cell_type": "code",
   "execution_count": 17,
   "metadata": {},
   "outputs": [
    {
     "name": "stdout",
     "output_type": "stream",
     "text": [
      "sigma_c= 202.96 kPa\n"
     ]
    }
   ],
   "source": [
    "# We can now calculate the preconsolidation pressure\n",
    "\n",
    "sigma_c= 1.2*sigma_eff\n",
    "\n",
    "print('sigma_c= %1.2f kPa' % sigma_c)"
   ]
  },
  {
   "cell_type": "code",
   "execution_count": 18,
   "metadata": {},
   "outputs": [
    {
     "name": "stdout",
     "output_type": "stream",
     "text": [
      "S=0.40 m\n"
     ]
    }
   ],
   "source": [
    "# Finally we can compute the primary consolidation settlement\n",
    "\n",
    "S1=10*0.05*np.log10(1.2)/(1+e)\n",
    "\n",
    "S2=10*0.3*np.log10(sigma_f/sigma_c)/(1+e)\n",
    "\n",
    "S=S1+S2\n",
    "\n",
    "print('S=%1.2f m' % S)"
   ]
  },
  {
   "attachments": {},
   "cell_type": "markdown",
   "metadata": {},
   "source": [
    "# Example 5.5\n",
    "\n",
    "Solve problem 5.2 subdividing the clay layer into 3 sublayers. How does the result compares with solution of problem 5.2?"
   ]
  },
  {
   "cell_type": "code",
   "execution_count": 20,
   "metadata": {},
   "outputs": [
    {
     "name": "stdout",
     "output_type": "stream",
     "text": [
      "e_clay= 1.16\n",
      "gamma_clay= 17.53 kN/m^3\n"
     ]
    }
   ],
   "source": [
    "# First let's recalculate the void ratio\n",
    "\n",
    "# For the clay\n",
    "\n",
    "#Let's find the void ratio first\n",
    "e=Gs*43/100 \n",
    "\n",
    "print('e_clay= %1.2f' % e)\n",
    "\n",
    "# Now find he unit weight\n",
    "\n",
    "gamma_clay=slv.GetTotalUWeight(Gs, 1, e)\n",
    "\n",
    "print('gamma_clay= %1.2f kN/m^3' % gamma_clay)"
   ]
  },
  {
   "cell_type": "code",
   "execution_count": 21,
   "metadata": {},
   "outputs": [
    {
     "data": {
      "text/html": [
       "<div>\n",
       "<style scoped>\n",
       "    .dataframe tbody tr th:only-of-type {\n",
       "        vertical-align: middle;\n",
       "    }\n",
       "\n",
       "    .dataframe tbody tr th {\n",
       "        vertical-align: top;\n",
       "    }\n",
       "\n",
       "    .dataframe thead th {\n",
       "        text-align: right;\n",
       "    }\n",
       "</style>\n",
       "<table border=\"1\" class=\"dataframe\">\n",
       "  <thead>\n",
       "    <tr style=\"text-align: right;\">\n",
       "      <th></th>\n",
       "      <th>z_b</th>\n",
       "      <th>t</th>\n",
       "      <th>gamma_t</th>\n",
       "      <th>K0</th>\n",
       "    </tr>\n",
       "  </thead>\n",
       "  <tbody>\n",
       "    <tr>\n",
       "      <th>0</th>\n",
       "      <td>3.0</td>\n",
       "      <td>3.0</td>\n",
       "      <td>19.285568</td>\n",
       "      <td>1</td>\n",
       "    </tr>\n",
       "    <tr>\n",
       "      <th>1</th>\n",
       "      <td>10.4</td>\n",
       "      <td>7.4</td>\n",
       "      <td>19.285568</td>\n",
       "      <td>1</td>\n",
       "    </tr>\n",
       "    <tr>\n",
       "      <th>2</th>\n",
       "      <td>20.4</td>\n",
       "      <td>10.0</td>\n",
       "      <td>17.527261</td>\n",
       "      <td>1</td>\n",
       "    </tr>\n",
       "  </tbody>\n",
       "</table>\n",
       "</div>"
      ],
      "text/plain": [
       "    z_b     t    gamma_t  K0\n",
       "0   3.0   3.0  19.285568   1\n",
       "1  10.4   7.4  19.285568   1\n",
       "2  20.4  10.0  17.527261   1"
      ]
     },
     "execution_count": 21,
     "metadata": {},
     "output_type": "execute_result"
    }
   ],
   "source": [
    "# Now we need the in-situ effective stress\n",
    "\n",
    "Soil_profile={'z_b': [3, 10.4, 20.4], 't': [3, 7.4, 10], 'gamma_t':[gamma_sand, gamma_sand, gamma_clay], 'K0':[1,1,1]}\n",
    "\n",
    "Soil_profile=pd.DataFrame(Soil_profile) #creates pandas dataframe\n",
    "\n",
    "Soil_profile #shows data table with headers"
   ]
  },
  {
   "cell_type": "code",
   "execution_count": 24,
   "metadata": {},
   "outputs": [
    {
     "data": {
      "text/plain": [
       "[12.066666666666666, 15.4, 18.733333333333334]"
      ]
     },
     "execution_count": 24,
     "metadata": {},
     "output_type": "execute_result"
    }
   ],
   "source": [
    "# Now we define the midpoints of the three sublayers\n",
    "t=10/3\n",
    "x=[10.4+t*i+t/2 for i in range(3)]\n",
    "x"
   ]
  },
  {
   "cell_type": "code",
   "execution_count": 26,
   "metadata": {},
   "outputs": [
    {
     "name": "stdout",
     "output_type": "stream",
     "text": [
      "sigma_t= 229.78 kPa\n",
      "u= 88.94 kPa\n",
      "sigma_eff= 140.84 kPa\n",
      "sigma_t= 288.21 kPa\n",
      "u= 121.64 kPa\n",
      "sigma_eff= 166.56 kPa\n",
      "sigma_t= 346.63 kPa\n",
      "u= 154.34 kPa\n",
      "sigma_eff= 192.29 kPa\n"
     ]
    },
    {
     "data": {
      "text/html": [
       "<div>\n",
       "<style scoped>\n",
       "    .dataframe tbody tr th:only-of-type {\n",
       "        vertical-align: middle;\n",
       "    }\n",
       "\n",
       "    .dataframe tbody tr th {\n",
       "        vertical-align: top;\n",
       "    }\n",
       "\n",
       "    .dataframe thead th {\n",
       "        text-align: right;\n",
       "    }\n",
       "</style>\n",
       "<table border=\"1\" class=\"dataframe\">\n",
       "  <thead>\n",
       "    <tr style=\"text-align: right;\">\n",
       "      <th></th>\n",
       "      <th>Ho</th>\n",
       "      <th>z</th>\n",
       "      <th>s_eff</th>\n",
       "      <th>s_final</th>\n",
       "      <th>S_p</th>\n",
       "    </tr>\n",
       "  </thead>\n",
       "  <tbody>\n",
       "    <tr>\n",
       "      <th>0</th>\n",
       "      <td>3.333333</td>\n",
       "      <td>12.066667</td>\n",
       "      <td>140.838010</td>\n",
       "      <td>340.838010</td>\n",
       "      <td>0.177616</td>\n",
       "    </tr>\n",
       "    <tr>\n",
       "      <th>1</th>\n",
       "      <td>3.333333</td>\n",
       "      <td>15.400000</td>\n",
       "      <td>166.562212</td>\n",
       "      <td>366.562212</td>\n",
       "      <td>0.158524</td>\n",
       "    </tr>\n",
       "    <tr>\n",
       "      <th>2</th>\n",
       "      <td>3.333333</td>\n",
       "      <td>18.733333</td>\n",
       "      <td>192.286413</td>\n",
       "      <td>392.286413</td>\n",
       "      <td>0.143292</td>\n",
       "    </tr>\n",
       "  </tbody>\n",
       "</table>\n",
       "</div>"
      ],
      "text/plain": [
       "         Ho          z       s_eff     s_final       S_p\n",
       "0  3.333333  12.066667  140.838010  340.838010  0.177616\n",
       "1  3.333333  15.400000  166.562212  366.562212  0.158524\n",
       "2  3.333333  18.733333  192.286413  392.286413  0.143292"
      ]
     },
     "execution_count": 26,
     "metadata": {},
     "output_type": "execute_result"
    }
   ],
   "source": [
    "sigma_eff=np.zeros(3)\n",
    "sigma_f=np.zeros(3)\n",
    "S_p=np.zeros(3)\n",
    "\n",
    "for i in range(3):\n",
    "    sigma_t, sigma_eff[i], u, _, _=slv.GetK0Stresses(x[i], z_w, Soil_profile) #calculates pressure at depth z with water table depth z_w\n",
    "    print(\"sigma_t= %1.2f kPa\" %sigma_t)\n",
    "    print(\"u= %1.2f kPa\" %u)\n",
    "    print(\"sigma_eff= %1.2f kPa\" %sigma_eff[i])\n",
    "    sigma_f[i]=sigma_eff[i]+200\n",
    "    S_p[i]=t*0.3*np.log10(sigma_f[i]/sigma_eff[i])/(1+e)\n",
    "\n",
    "data_consol={'Ho': [t, t, t],'z': x,'s_eff': sigma_eff, 's_final': sigma_f, 'S_p': S_p}\n",
    "\n",
    "data_consol=pd.DataFrame(data=data_consol)\n",
    "\n",
    "data_consol\n",
    "\n"
   ]
  },
  {
   "cell_type": "code",
   "execution_count": 27,
   "metadata": {},
   "outputs": [
    {
     "name": "stdout",
     "output_type": "stream",
     "text": [
      "S= 0.48 m\n"
     ]
    }
   ],
   "source": [
    "S=sum(S_p)\n",
    "\n",
    "print('S= %1.2f m' % S)"
   ]
  },
  {
   "cell_type": "code",
   "execution_count": null,
   "metadata": {},
   "outputs": [],
   "source": []
  }
 ],
 "metadata": {
  "kernelspec": {
   "display_name": "base",
   "language": "python",
   "name": "python3"
  },
  "language_info": {
   "codemirror_mode": {
    "name": "ipython",
    "version": 3
   },
   "file_extension": ".py",
   "mimetype": "text/x-python",
   "name": "python",
   "nbconvert_exporter": "python",
   "pygments_lexer": "ipython3",
   "version": "3.8.8"
  },
  "orig_nbformat": 4
 },
 "nbformat": 4,
 "nbformat_minor": 2
}
