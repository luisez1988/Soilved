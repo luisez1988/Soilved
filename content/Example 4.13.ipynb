{
 "cells": [
  {
   "attachments": {},
   "cell_type": "markdown",
   "metadata": {},
   "source": [
    "# Example 4.13\n",
    "\n",
    "For the soil in Example 2.7 estimate its permeability using empirical correlations when $e=0.4$ and $e=0.87$ . Assume the particles are spherical."
   ]
  },
  {
   "attachments": {},
   "cell_type": "markdown",
   "metadata": {},
   "source": [
    "## Data:\n",
    "\n",
    "$D_{10}= 6.47 \\times 10^{-3}$ mm\n",
    "\n",
    "$D_{50}=1.2 \\times 10^{-1}$ mm\n",
    "\n",
    "$e_d=0.4$\n",
    "\n",
    "$e_l=0.87$"
   ]
  },
  {
   "attachments": {},
   "cell_type": "markdown",
   "metadata": {},
   "source": [
    "## Principles:\n",
    "\n",
    "$k[cm/s]=C D_{10}^2$ D in mm\n",
    "\n",
    "$k[cm/s]=2.4622 \\left( D_{10}^2 \\cfrac{e^3}{1+e}\\right)$\n",
    "\n",
    "$k[cm/s]= \\cfrac{\\gamma_w}{\\eta_w} \\cfrac{1}{C_{k-c} S_s^2 }\\cfrac{e^3}{1+e}$\n",
    "\n",
    "$S_s= A_s/V$"
   ]
  },
  {
   "cell_type": "code",
   "execution_count": 6,
   "metadata": {},
   "outputs": [],
   "source": [
    "import numpy as np\n",
    "import Soilved as slv"
   ]
  },
  {
   "cell_type": "code",
   "execution_count": 5,
   "metadata": {},
   "outputs": [
    {
     "name": "stdout",
     "output_type": "stream",
     "text": [
      "As= 4.52e-02 mm^2\n",
      "Vs= 9.05e-04 mm^3\n",
      "Ss= 5.00e+01 1/mm\n",
      "Ss= 5.00e+02 1/cm\n"
     ]
    }
   ],
   "source": [
    "# input \n",
    "D_10=6.47e-3 # d10 in mm\n",
    "D_50=1.2e-1 # d 50 in mm\n",
    "e_d=0.4\n",
    "e_l=0.87\n",
    "\n",
    "#calculating the Ss\n",
    "As=np.pi*D_50**2 # area of sphere in mm2 Note: I'm using D_50 as a representative particle size\n",
    "\n",
    "print('As= %1.2e mm^2' %As)\n",
    "\n",
    "Vs=4*np.pi*(D_50)**3/(3* 2**3) # volume of the sphere in mm3\n",
    "\n",
    "print('Vs= %1.2e mm^3' %Vs)\n",
    "\n",
    "Ss=As/Vs # specific surface\n",
    "print('Ss= %1.2e 1/mm' % Ss)\n",
    "print('Ss= %1.2e 1/cm' % (Ss*10))"
   ]
  },
  {
   "cell_type": "code",
   "execution_count": 13,
   "metadata": {},
   "outputs": [
    {
     "name": "stdout",
     "output_type": "stream",
     "text": [
      "k_hanzen= 4.19e-05 cm/s\n",
      "k_chap_l= 3.63e-05 cm/s\n",
      "k_chap_d= 4.71e-06 cm/s\n",
      "k_kc_l= 1.38e-02 cm/s\n",
      "k_kc_d= 1.79e-03 cm/s\n"
     ]
    }
   ],
   "source": [
    "# now we use the correlations taking care of units\n",
    "\n",
    "k_hanzen=slv.Getk_Hazen(D_10) #returns k in cm/s\n",
    "print('k_hanzen= %1.2e cm/s' % k_hanzen)\n",
    "\n",
    "k_chap_l=slv.Getk_Chapuis(D_10, e_l) #returns k in cm/s\n",
    "print('k_chap_l= %1.2e cm/s' % k_chap_l)\n",
    "\n",
    "k_chap_d=slv.Getk_Chapuis(D_10, e_d) #returns k in cm/s\n",
    "print('k_chap_d= %1.2e cm/s' % k_chap_d)\n",
    "\n",
    "k_kc_l=slv.Getk_KC(e_l, Ss*10) #returns k in cm/s\n",
    "print('k_kc_l= %1.2e cm/s' % k_kc_l)\n",
    "\n",
    "k_kc_d=slv.Getk_KC(e_d, Ss*10) #returns k in cm/s\n",
    "print('k_kc_d= %1.2e cm/s' % k_kc_d)\n"
   ]
  },
  {
   "cell_type": "code",
   "execution_count": null,
   "metadata": {},
   "outputs": [],
   "source": []
  }
 ],
 "metadata": {
  "kernelspec": {
   "display_name": "base",
   "language": "python",
   "name": "python3"
  },
  "language_info": {
   "codemirror_mode": {
    "name": "ipython",
    "version": 3
   },
   "file_extension": ".py",
   "mimetype": "text/x-python",
   "name": "python",
   "nbconvert_exporter": "python",
   "pygments_lexer": "ipython3",
   "version": "3.9.7"
  },
  "orig_nbformat": 4,
  "vscode": {
   "interpreter": {
    "hash": "ad2bdc8ecc057115af97d19610ffacc2b4e99fae6737bb82f5d7fb13d2f2c186"
   }
  }
 },
 "nbformat": 4,
 "nbformat_minor": 2
}
