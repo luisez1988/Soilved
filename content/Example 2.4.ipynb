{
 "cells": [
  {
   "cell_type": "markdown",
   "id": "a990bd40",
   "metadata": {},
   "source": [
    "# Example 2.4\n",
    "<p>A sample of fully saturated clay with \\( G_s=2.66 \\) weighs 1350 g in its natural state and 975 g after drying. Solve:</p>\n",
    "\t\t<ol>\n",
    "\t\t\t<li>The natural water content.</li>\n",
    "\t\t\t<li>Void ratio and porosity.</li>\n",
    "\t\t\t<li>Total or wet unit weight.</li>\n",
    "\t\t\t<li>Dry unit weight.</li>\n",
    "\t\t</ol>"
   ]
  },
  {
   "attachments": {},
   "cell_type": "markdown",
   "id": "791692b0",
   "metadata": {},
   "source": [
    "## Data:\n",
    "\n",
    "$G_s$=2.66\n",
    "\n",
    "$W_t=$ 1350 [gr] * g\n",
    "\n",
    "$W_s=$ 975 [gr] * g\n",
    "\n",
    "$S=100\\%$"
   ]
  },
  {
   "cell_type": "markdown",
   "id": "e093854f",
   "metadata": {},
   "source": [
    "## Part 1: Principles\n",
    "\n",
    "$w[\\%]= \\cfrac{W_w}{W_s} \\times 100$\n",
    "\n",
    "$W_t=W_s+W_w$"
   ]
  },
  {
   "cell_type": "code",
   "execution_count": 1,
   "id": "c0a88788",
   "metadata": {},
   "outputs": [],
   "source": [
    "Gs=2.6 #specific gravity\n",
    "Wt=1350 #weight in grams\n",
    "Ws=975 #weight in grams"
   ]
  },
  {
   "cell_type": "code",
   "execution_count": 2,
   "id": "be139570",
   "metadata": {},
   "outputs": [],
   "source": [
    "import Soilved as slv #imported my python file with functions"
   ]
  },
  {
   "cell_type": "code",
   "execution_count": 3,
   "id": "d2a49b5d",
   "metadata": {},
   "outputs": [
    {
     "name": "stdout",
     "output_type": "stream",
     "text": [
      "w= 38.46 percent\n"
     ]
    }
   ],
   "source": [
    "w=slv.GetWaterContent(Wt,Ws,0)\n",
    "print(\"w= %1.2f percent\" %w)"
   ]
  },
  {
   "attachments": {},
   "cell_type": "markdown",
   "id": "befe9481",
   "metadata": {},
   "source": [
    "## Part 2: Principles\n",
    "\n",
    "$e=V_v/V_s$\n",
    "\n",
    "$n=V_v/V_t$\n",
    "\n",
    "$\\gamma=W/V$\n",
    "\n",
    "$Se=w Gs$\n",
    "\n",
    "$n=e/(1+e)$"
   ]
  },
  {
   "cell_type": "code",
   "execution_count": 4,
   "id": "d6dec495",
   "metadata": {},
   "outputs": [
    {
     "name": "stdout",
     "output_type": "stream",
     "text": [
      "e= 1.00\n"
     ]
    }
   ],
   "source": [
    "S=100 # saturation in percentage\n",
    "e=w*Gs/S #void ratio (note that w and S must have the same units)\n",
    "print(\"e= %1.2f\" %e)"
   ]
  },
  {
   "cell_type": "code",
   "execution_count": 5,
   "id": "34049be1",
   "metadata": {},
   "outputs": [
    {
     "name": "stdout",
     "output_type": "stream",
     "text": [
      "n= 0.50 [-]\n"
     ]
    }
   ],
   "source": [
    "n=e/(1+e) #porosity [-]\n",
    "print(\"n= %1.2f [-]\" %n)"
   ]
  },
  {
   "attachments": {},
   "cell_type": "markdown",
   "id": "e583fa55",
   "metadata": {},
   "source": [
    "## Part 3: Principles\n",
    "$\\gamma_t=W_t/V_t$\n",
    "\n",
    "$\\gamma_t=\\gamma_w \\cfrac{(G_s+S e)}{1+e}$"
   ]
  },
  {
   "cell_type": "code",
   "execution_count": 7,
   "id": "edf0d87c",
   "metadata": {},
   "outputs": [
    {
     "name": "stdout",
     "output_type": "stream",
     "text": [
      "gamma_t= 17.66 [kN/m^3]\n",
      "gamma_t= 112.32 [pcf]\n"
     ]
    }
   ],
   "source": [
    "gamma_t=slv.GetTotalUWeight(Gs,S/100,e) # Total u. weight kN/m^3\n",
    "print(\"gamma_t= %1.2f [kN/m^3]\" %gamma_t)\n",
    "gamma_t=slv.GetTotalUWeight(Gs,S/100,e,gamma_w=62.4)# Total u. weight pcf\n",
    "print(\"gamma_t= %1.2f [pcf]\" %gamma_t)"
   ]
  },
  {
   "attachments": {},
   "cell_type": "markdown",
   "id": "718bd000",
   "metadata": {},
   "source": [
    "## Part 4: Principles\n",
    "\n",
    "$\\gamma_d=W_s/V_t$\n",
    "\n",
    "$\\gamma_d=\\gamma_w \\cfrac{G_s}{1+e}$"
   ]
  },
  {
   "cell_type": "code",
   "execution_count": 9,
   "id": "ce4e06a5",
   "metadata": {},
   "outputs": [
    {
     "name": "stdout",
     "output_type": "stream",
     "text": [
      "gamma_d= 12.75 [kN/m^3]\n",
      "gamma_d= 81.12 [pcf]\n"
     ]
    }
   ],
   "source": [
    "gamma_d=slv.GetTotalUWeight(Gs,0,e) # dry unit weight (S=0) kN/m^3\n",
    "print(\"gamma_d= %1.2f [kN/m^3]\" %gamma_d)\n",
    "gamma_d=slv.GetTotalUWeight(Gs,0,e,gamma_w=62.4) # dry unit weight (S=0) pcf\n",
    "print(\"gamma_d= %1.2f [pcf]\" %gamma_d)\n"
   ]
  },
  {
   "cell_type": "code",
   "execution_count": null,
   "id": "53da44fc",
   "metadata": {},
   "outputs": [],
   "source": []
  }
 ],
 "metadata": {
  "kernelspec": {
   "display_name": "base",
   "language": "python",
   "name": "python3"
  },
  "language_info": {
   "codemirror_mode": {
    "name": "ipython",
    "version": 3
   },
   "file_extension": ".py",
   "mimetype": "text/x-python",
   "name": "python",
   "nbconvert_exporter": "python",
   "pygments_lexer": "ipython3",
   "version": "3.8.8"
  },
  "vscode": {
   "interpreter": {
    "hash": "ad2bdc8ecc057115af97d19610ffacc2b4e99fae6737bb82f5d7fb13d2f2c186"
   }
  }
 },
 "nbformat": 4,
 "nbformat_minor": 5
}
