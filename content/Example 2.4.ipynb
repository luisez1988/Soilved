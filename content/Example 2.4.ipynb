{
 "cells": [
  {
   "cell_type": "markdown",
   "id": "a990bd40",
   "metadata": {},
   "source": [
    "# Example 2.4\n",
    "<p>A sample of fully saturated clay with \\( G_s=2.66 \\) weighs 1350 g in its natural state and 975 g after drying. Solve:</p>\n",
    "\t\t<ol>\n",
    "\t\t\t<li>The natural water content.</li>\n",
    "\t\t\t<li>Void ratio and porosity.</li>\n",
    "\t\t\t<li>Total or wet unit weight.</li>\n",
    "\t\t\t<li>Dry unit weight.</li>\n",
    "\t\t</ol>"
   ]
  },
  {
   "cell_type": "markdown",
   "id": "791692b0",
   "metadata": {},
   "source": [
    "## Data:\n",
    "\n",
    "$G_s$=2.66\n",
    "\n",
    "$W_t=$ 1350 [gr] * g\n",
    "\n",
    "$W_s=$ 975 [gr] * g"
   ]
  },
  {
   "cell_type": "markdown",
   "id": "e093854f",
   "metadata": {},
   "source": [
    "## Part 1: Principles\n",
    "\n",
    "$w[\\%]= \\cfrac{W_w}{W_s} \\times 100$\n",
    "\n",
    "$W_t=W_s+W_w$"
   ]
  },
  {
   "cell_type": "markdown",
   "id": "befe9481",
   "metadata": {},
   "source": [
    "## Part 2: Principles\n",
    "\n",
    "$e=V_v/V_s$\n",
    "\n",
    "$n=V_v/V_t$\n",
    "\n",
    "$\\gamma=W/V$"
   ]
  },
  {
   "cell_type": "markdown",
   "id": "e583fa55",
   "metadata": {},
   "source": [
    "## Part 3: Principles\n",
    "$\\gamma_t=W_t/V_t$"
   ]
  },
  {
   "cell_type": "markdown",
   "id": "718bd000",
   "metadata": {},
   "source": [
    "## Part 4: Principles\n",
    "\n",
    "$\\gamma_d=W_s/V_t$"
   ]
  },
  {
   "cell_type": "code",
   "execution_count": null,
   "id": "ce4e06a5",
   "metadata": {},
   "outputs": [],
   "source": []
  }
 ],
 "metadata": {
  "kernelspec": {
   "display_name": "Python 3 (ipykernel)",
   "language": "python",
   "name": "python3"
  },
  "language_info": {
   "codemirror_mode": {
    "name": "ipython",
    "version": 3
   },
   "file_extension": ".py",
   "mimetype": "text/x-python",
   "name": "python",
   "nbconvert_exporter": "python",
   "pygments_lexer": "ipython3",
   "version": "3.9.7"
  }
 },
 "nbformat": 4,
 "nbformat_minor": 5
}
