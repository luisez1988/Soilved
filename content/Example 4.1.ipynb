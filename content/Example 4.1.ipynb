{
 "cells": [
  {
   "attachments": {},
   "cell_type": "markdown",
   "metadata": {},
   "source": [
    "# Example 4.1\n",
    "\n",
    "Using the tube analogy what will be the capillary rise in a uniform loose sand with $d=0.15 \\mathrm{mm}$ and in a clay with $D_{10}=1.5\\mu \\mathrm{m}$. Assume the pore size is 20% of $D_{10}$."
   ]
  },
  {
   "attachments": {},
   "cell_type": "markdown",
   "metadata": {},
   "source": [
    "## Data:\n",
    "\n",
    "$d=0.15 \\mathrm{mm}$\n",
    "\n",
    "$D_{10}=1.5\\mu \\mathrm{m}$\n",
    "\n",
    "$T=0.07275 \\mathrm{N/m}$ Water surface tension at 20 deg C"
   ]
  },
  {
   "attachments": {},
   "cell_type": "markdown",
   "metadata": {},
   "source": [
    "## Principles\n",
    "\n",
    "$h_c=-\\cfrac{4T}{\\gamma_w d_t}$\n",
    "\n",
    "$d_t \\approx 0.2 D_{10}$"
   ]
  },
  {
   "cell_type": "code",
   "execution_count": 4,
   "metadata": {},
   "outputs": [],
   "source": [
    "import numpy as np"
   ]
  },
  {
   "cell_type": "code",
   "execution_count": 5,
   "metadata": {},
   "outputs": [],
   "source": [
    "# I first put everything in consistent units\n",
    "d_clay=1.5e-6 #clay D10 in m\n",
    "d_sand=1.5e-4 #sand particle size in m\n",
    "dt=[d_sand, 0.2*d_clay] #I only use 0.2 factor for the clay because the sand is uniform particles"
   ]
  },
  {
   "cell_type": "code",
   "execution_count": 10,
   "metadata": {},
   "outputs": [
    {
     "name": "stdout",
     "output_type": "stream",
     "text": [
      "Sand hc= -0.20 m\n",
      "Clay hc= -98.88 m\n"
     ]
    }
   ],
   "source": [
    "T=0.07275/1000 # water tension in kN/m\n",
    "hc=-4*T/(9.81*np.array(dt)) #capillary rise\n",
    "print(\"Sand hc= %1.2f m\" %hc[0])\n",
    "print(\"Clay hc= %1.2f m\" %hc[1])\n"
   ]
  },
  {
   "attachments": {},
   "cell_type": "markdown",
   "metadata": {},
   "source": [
    "# Example 4.2\n",
    "\n",
    "Calculate the capillarity water pressure for the same soils of Example 4.1."
   ]
  },
  {
   "attachments": {},
   "cell_type": "markdown",
   "metadata": {},
   "source": [
    "## Data:\n",
    "\n",
    "Clay $h_c=98.88$ m\n",
    "\n",
    "Sand $h_c=0.20$ m"
   ]
  },
  {
   "attachments": {},
   "cell_type": "markdown",
   "metadata": {},
   "source": [
    "## Principles\n",
    "\n",
    "$u_c=-h_c \\gamma_w$"
   ]
  },
  {
   "cell_type": "code",
   "execution_count": 12,
   "metadata": {},
   "outputs": [
    {
     "name": "stdout",
     "output_type": "stream",
     "text": [
      "Sand uc= -1.94 kPa\n",
      "Clay uc= -970.00 kPa\n"
     ]
    }
   ],
   "source": [
    "uc=hc*9.81 # calculates the pressure\n",
    "print(\"Sand uc= %1.2f kPa\" %uc[0])\n",
    "print(\"Clay uc= %1.2f kPa\" %uc[1])"
   ]
  },
  {
   "cell_type": "code",
   "execution_count": null,
   "metadata": {},
   "outputs": [],
   "source": []
  }
 ],
 "metadata": {
  "kernelspec": {
   "display_name": "base",
   "language": "python",
   "name": "python3"
  },
  "language_info": {
   "codemirror_mode": {
    "name": "ipython",
    "version": 3
   },
   "file_extension": ".py",
   "mimetype": "text/x-python",
   "name": "python",
   "nbconvert_exporter": "python",
   "pygments_lexer": "ipython3",
   "version": "3.9.7"
  },
  "orig_nbformat": 4,
  "vscode": {
   "interpreter": {
    "hash": "ad2bdc8ecc057115af97d19610ffacc2b4e99fae6737bb82f5d7fb13d2f2c186"
   }
  }
 },
 "nbformat": 4,
 "nbformat_minor": 2
}
