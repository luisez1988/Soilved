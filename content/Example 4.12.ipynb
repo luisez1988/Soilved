{
 "cells": [
  {
   "attachments": {},
   "cell_type": "markdown",
   "metadata": {},
   "source": [
    "# Example 4.12\n",
    "\n",
    "A soil permeability device chamber is 1 inch of diameter and 1 inch heigh. What is the burette size required to conduct a permeability test in a soil sample with permeability $1 \\times 10^{-8}$ cm/s in one day. The initial height of water above the soil specimen is 100 cm and the water in the burette must be read with at least 1 cm of accuracy."
   ]
  },
  {
   "attachments": {},
   "cell_type": "markdown",
   "metadata": {},
   "source": [
    "# Data:\n",
    "\n",
    "$h_c=1$ in\n",
    "\n",
    "$D=1$ in\n",
    "\n",
    "$k=1 \\times 10 ^{-8}$ cm/s\n",
    "\n",
    "$H_0=100$ cm\n",
    "\n",
    "$\\Delta H=1$ cm"
   ]
  },
  {
   "attachments": {},
   "cell_type": "markdown",
   "metadata": {},
   "source": [
    "## Principles:\n",
    "\n",
    "$k=\\cfrac{a}{A} \\cfrac{L}{\\Delta t} \\ln \\left(\\cfrac{H_1}{H_1-\\Delta H} \\right)$"
   ]
  },
  {
   "cell_type": "code",
   "execution_count": 1,
   "metadata": {},
   "outputs": [],
   "source": [
    "import numpy as np"
   ]
  },
  {
   "cell_type": "code",
   "execution_count": 11,
   "metadata": {},
   "outputs": [
    {
     "name": "stdout",
     "output_type": "stream",
     "text": [
      "a_ratio= 3.38e-02\n",
      "d_b= 1.84e-01 in\n"
     ]
    }
   ],
   "source": [
    "H1=100 # initial head in cm\n",
    "dH=1 # change of head in cm\n",
    "dt=24*3600 #1 day in seconds\n",
    "L=1*2.54 # Length of sample in cm\n",
    "k=1e-8 # permeability in cm/s\n",
    "D=1 # diameter of sample in in\n",
    "a_ratio=k*dt/(L*np.log(H1/(H1-dH))) # ratio of areas of sample and burette\n",
    "\n",
    "print('a_ratio= %1.2e' % a_ratio)\n",
    "\n",
    "d_b=np.sqrt(a_ratio)*D # diameter of burette in inches\n",
    "print('d_b= %1.2e in' %d_b)"
   ]
  },
  {
   "cell_type": "code",
   "execution_count": 15,
   "metadata": {},
   "outputs": [
    {
     "name": "stdout",
     "output_type": "stream",
     "text": [
      "a_ratio= 3.38e-02\n",
      "d_b= 1.84e-01 in\n"
     ]
    }
   ],
   "source": [
    "H1=100 # initial head in cm\n",
    "dH=1 # change of head in cm\n",
    "dt=24*3600 #1 day in seconds\n",
    "L=1*2.54 # Length of sample in cm\n",
    "k=1e-8 # permeability in cm/s\n",
    "D=1 # diameter of sample in in\n",
    "a_ratio=k*dt/(L*np.log(H1/(H1-dH))) # ratio of areas of sample and burette\n",
    "\n",
    "print('a_ratio= %1.2e' % a_ratio)\n",
    "\n",
    "d_b=np.sqrt(a_ratio)*D # diameter of burette in inches\n",
    "print('d_b= %1.2e in' %d_b)"
   ]
  },
  {
   "cell_type": "code",
   "execution_count": null,
   "metadata": {},
   "outputs": [],
   "source": []
  }
 ],
 "metadata": {
  "kernelspec": {
   "display_name": "base",
   "language": "python",
   "name": "python3"
  },
  "language_info": {
   "codemirror_mode": {
    "name": "ipython",
    "version": 3
   },
   "file_extension": ".py",
   "mimetype": "text/x-python",
   "name": "python",
   "nbconvert_exporter": "python",
   "pygments_lexer": "ipython3",
   "version": "3.9.7"
  },
  "orig_nbformat": 4,
  "vscode": {
   "interpreter": {
    "hash": "ad2bdc8ecc057115af97d19610ffacc2b4e99fae6737bb82f5d7fb13d2f2c186"
   }
  }
 },
 "nbformat": 4,
 "nbformat_minor": 2
}
