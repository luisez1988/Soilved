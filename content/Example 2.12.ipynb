{
 "cells": [
  {
   "cell_type": "markdown",
   "metadata": {},
   "source": [
    "# Example 2.12\n",
    "\n",
    "During the determination of the shrinkage limit of a sandy clay, the following laboratory data was obtained:\n",
    "\n",
    "    Wet wt. of soil + dish= 87.85 g\n",
    "    Dry wt. + dish= 76.91 g\n",
    "    Wt. dish = 52.7 g\n",
    "\n",
    "Volumetric determination of soil pat:\n",
    "\n",
    "    Wt. of dish + mercury= 430.8 g\n",
    "    Wt. of dish = 244.62 g\n",
    "\n",
    "calculate the $SL$ assuming $G_s=2.65$. "
   ]
  },
  {
   "cell_type": "markdown",
   "metadata": {},
   "source": [
    "## Data:\n",
    "\n",
    "$W_t+W_d=87.85$ gr\n",
    "\n",
    "$W_s+W_d=76.91$ gr\n",
    "\n",
    "$W_d=52.7$ gr\n",
    "\n",
    "$W_d+W_{Hg}=430.8$ gr\n",
    "\n",
    "$W_d=244.62$ gr\n",
    "\n",
    "$G_s=2.65$\n",
    "\n",
    "$G_{s,Hg}=13.5$"
   ]
  },
  {
   "cell_type": "markdown",
   "metadata": {},
   "source": [
    "## Principles\n",
    "\n",
    "Phase relationships\n",
    "\n",
    "$SL=\\left(\\cfrac{V_{dry} \\gamma_w}{W_s}-\\cfrac{1}{G_s}\\right)\\times 100$"
   ]
  },
  {
   "cell_type": "code",
   "execution_count": 6,
   "metadata": {},
   "outputs": [],
   "source": [
    "import Soilved as slv"
   ]
  },
  {
   "cell_type": "code",
   "execution_count": 3,
   "metadata": {},
   "outputs": [
    {
     "name": "stdout",
     "output_type": "stream",
     "text": [
      "Ws= 2.38E-04 kN\n"
     ]
    }
   ],
   "source": [
    "WtPWd=87.85 #Total weight plus dish in grams\n",
    "WsPWd=76.91 #Weight of solids plus dish in grams\n",
    "Wd=52.7 #weight of dish\n",
    "Ws=(WsPWd-Wd)*9.81/(1000**2) #weight of solids in kN\n",
    "print(\"Ws= %1.2E kN\" %Ws)"
   ]
  },
  {
   "cell_type": "code",
   "execution_count": 4,
   "metadata": {},
   "outputs": [
    {
     "name": "stdout",
     "output_type": "stream",
     "text": [
      "Wmercury= 1.83E-03 kN\n"
     ]
    }
   ],
   "source": [
    "# First get the weight of mercury displaced\n",
    "WdPWmercury=430.8 #weight of dish plus Mercury\n",
    "Wd=244.62 #Weight of dish for Mercury\n",
    "Wmercury=(WdPWmercury-Wd)*9.81/(1000**2) #weight of mercury displaced in kN\n",
    "print(\"Wmercury= %1.2E kN\" %Wmercury)"
   ]
  },
  {
   "cell_type": "code",
   "execution_count": 5,
   "metadata": {},
   "outputs": [
    {
     "name": "stdout",
     "output_type": "stream",
     "text": [
      "V_dry= 1.38E-05 m^3\n"
     ]
    }
   ],
   "source": [
    "# Now transform weight to volume using unit weight\n",
    "gamma_mercury=13.5*9.81 #Unit weight of mercury in kN/m3\n",
    "V_mercury=Wmercury/gamma_mercury #volume of mercury displaced in m3\n",
    "V_dry=V_mercury #This is the volume of the soil pat\n",
    "print(\"V_dry= %1.2E m^3\" %V_dry)"
   ]
  },
  {
   "cell_type": "code",
   "execution_count": 7,
   "metadata": {},
   "outputs": [
    {
     "name": "stdout",
     "output_type": "stream",
     "text": [
      "SL= 19.2 percent\n"
     ]
    }
   ],
   "source": [
    "#Use equation in principles\n",
    "SL=slv.GetSrinkageLimit(V_dry,Ws,Gs=2.65)\n",
    "print(\"SL= %1.1f percent\" %SL)"
   ]
  },
  {
   "cell_type": "code",
   "execution_count": null,
   "metadata": {},
   "outputs": [],
   "source": []
  }
 ],
 "metadata": {
  "kernelspec": {
   "display_name": "Python 3",
   "language": "python",
   "name": "python3"
  },
  "language_info": {
   "codemirror_mode": {
    "name": "ipython",
    "version": 3
   },
   "file_extension": ".py",
   "mimetype": "text/x-python",
   "name": "python",
   "nbconvert_exporter": "python",
   "pygments_lexer": "ipython3",
   "version": "3.8.8"
  },
  "vscode": {
   "interpreter": {
    "hash": "ad2bdc8ecc057115af97d19610ffacc2b4e99fae6737bb82f5d7fb13d2f2c186"
   }
  }
 },
 "nbformat": 4,
 "nbformat_minor": 2
}
