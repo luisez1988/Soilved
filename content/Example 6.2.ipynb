{
 "cells": [
  {
   "attachments": {},
   "cell_type": "markdown",
   "metadata": {},
   "source": [
    "# Example 6.2\n",
    "\n",
    "For the element in the figure below find the principal stresses and their orientation using the analytical solutions."
   ]
  },
  {
   "attachments": {},
   "cell_type": "markdown",
   "metadata": {},
   "source": [
    "## Data:\n",
    "\n",
    "$\\sigma_x= 200$ kPa\n",
    "\n",
    "$\\sigma_y= 300$ kPa\n",
    "\n",
    "$\\tau_{xy}=-75$ kPa\n",
    "\n",
    "$\\alpha=25$ degrees"
   ]
  },
  {
   "cell_type": "code",
   "execution_count": 2,
   "metadata": {},
   "outputs": [],
   "source": [
    "import numpy as np\n",
    "import matplotlib.pyplot as plt"
   ]
  },
  {
   "cell_type": "code",
   "execution_count": 29,
   "metadata": {},
   "outputs": [],
   "source": [
    "def Get_stress_at_alpha(S_Tensor, alpha):\n",
    "    #alpha in radians\n",
    "    s_m=(S_Tensor[0][0]+S_Tensor[1][1])/2\n",
    "    s_d=S_Tensor[1][1]-S_Tensor[0][0]\n",
    "    sigma_alpha= s_m+ 0.5*s_d*np.cos(2*alpha)+S_Tensor[0][1]*np.sin(2*alpha)\n",
    "    tau_alpha=0.5*s_d*np.sin(2*alpha)-S_Tensor[0][1]*np.cos(2*alpha)\n",
    "    return sigma_alpha, tau_alpha"
   ]
  },
  {
   "cell_type": "code",
   "execution_count": 30,
   "metadata": {},
   "outputs": [],
   "source": [
    "# Set Tau to zero and find principal stresses\n",
    "def Get_principal_stresses(S):\n",
    "    s_d=S[1][1]-S[0][0]\n",
    "    alpha=0.5*np.arctan(2*S[0][1]/s_d)\n",
    "    beta=alpha+0.5*np.pi\n",
    "    s1, _=Get_stress_at_alpha(S, alpha)\n",
    "    s2,_=Get_stress_at_alpha(S, beta)\n",
    "    if (s1>s2):\n",
    "        s_1a=s1\n",
    "        s_2a=s2\n",
    "    else:\n",
    "        s_1a=s2\n",
    "        s_2a=s1\n",
    "    return s_1a, s_2a, alpha, beta"
   ]
  },
  {
   "cell_type": "code",
   "execution_count": 31,
   "metadata": {},
   "outputs": [
    {
     "name": "stdout",
     "output_type": "stream",
     "text": [
      "Sigma_1= 340.14 kPa\n",
      "Sigma_3= 159.86 kPa\n",
      "alpha= -28.15 degrees\n",
      "beta= 61.85 degrees\n"
     ]
    }
   ],
   "source": [
    "S=[[200, -75], [75, 300]]\n",
    "s1, s2, alpha, beta=Get_principal_stresses(S)\n",
    "print(r'Sigma_1= %1.2f kPa' % s1)\n",
    "print(r'Sigma_3= %1.2f kPa' % s2)\n",
    "print(r'alpha= %1.2f degrees' % (alpha*180/np.pi))\n",
    "print(r'beta= %1.2f degrees' % (beta*180/np.pi))"
   ]
  },
  {
   "cell_type": "code",
   "execution_count": 32,
   "metadata": {},
   "outputs": [
    {
     "data": {
      "image/png": "[encoded data removed]",
      "text/plain": [
       "<Figure size 432x288 with 1 Axes>"
      ]
     },
     "metadata": {
      "needs_background": "light"
     },
     "output_type": "display_data"
    }
   ],
   "source": [
    "alpha=np.linspace(0, np.pi, 180)\n",
    "\n",
    "sigma, tau=Get_stress_at_alpha(S, alpha)\n",
    "\n",
    "plt.plot(sigma, tau)\n",
    "plt.xlabel(r'Normal stress $\\sigma$ [kPa]')\n",
    "plt.ylabel(r'Shear stress $\\tau$ [kPa]')\n",
    "\n",
    "plt.plot([S[0][0], S[1][1]],[S[0][1], S[1][0]] )\n",
    "plt.plot([S[0][0], S[1][1]],[S[0][1], S[1][0]], 'o' )\n",
    "#plt.plot(sigma_alpha, tau_alpha, 'o')\n",
    "plt.gca().axis('equal')\n",
    "plt.gca().grid('True')"
   ]
  },
  {
   "attachments": {},
   "cell_type": "markdown",
   "metadata": {},
   "source": [
    "# Example 6.3\n",
    "\n",
    "For the same figure in Example 6.2 find: a) the mean and deviator stresses, and b) check the answers of problem 6.2 and 6.3 graphically."
   ]
  },
  {
   "cell_type": "code",
   "execution_count": 33,
   "metadata": {},
   "outputs": [
    {
     "name": "stdout",
     "output_type": "stream",
     "text": [
      "sm= 250.00 kPa\n",
      "sd= 180.28 kPa\n"
     ]
    }
   ],
   "source": [
    "sm= 0.5*(s1+s2)\n",
    "\n",
    "print(r'sm= %1.2f kPa' % sm)\n",
    "\n",
    "sd=s1-s2\n",
    "\n",
    "print(r'sd= %1.2f kPa' % sd)"
   ]
  },
  {
   "cell_type": "code",
   "execution_count": null,
   "metadata": {},
   "outputs": [],
   "source": []
  }
 ],
 "metadata": {
  "kernelspec": {
   "display_name": "base",
   "language": "python",
   "name": "python3"
  },
  "language_info": {
   "codemirror_mode": {
    "name": "ipython",
    "version": 3
   },
   "file_extension": ".py",
   "mimetype": "text/x-python",
   "name": "python",
   "nbconvert_exporter": "python",
   "pygments_lexer": "ipython3",
   "version": "3.8.8"
  },
  "orig_nbformat": 4
 },
 "nbformat": 4,
 "nbformat_minor": 2
}
