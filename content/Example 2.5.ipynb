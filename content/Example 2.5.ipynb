{
 "cells": [
  {
   "attachments": {},
   "cell_type": "markdown",
   "id": "15d37e37",
   "metadata": {},
   "source": [
    "<h1>Example 2.5</h1>\n",
    "\n",
    "<p>A cylinder contains 500 <span>cm<sup>3</span> of loose dry sand which weighs 750 g, and under static load of 200 kPa the volume is reduced 1%, and then by vibration it is reduced 10% of the original volume. Assume the specific gravity of the sand is Gs=2.65. Compute the void ratio, porosity, dry unit weight, and saturated unit weight corresponding to each of the following cases: </p>\n",
    "\t\t<ol>\n",
    "\t\t\t<li>Loose sand.</li>\n",
    "\t\t\t<li>Under static load.</li>\n",
    "\t\t\t<li>Vibrated and loaded sand.</li>\n",
    "\t\t</ol>"
   ]
  },
  {
   "attachments": {},
   "cell_type": "markdown",
   "id": "be0bc4ee",
   "metadata": {},
   "source": [
    "## Data:\n",
    "\n",
    "$V_{t0}=500 \\mathrm{cm}^3$\n",
    "\n",
    "$w=0\\%$\n",
    "\n",
    "$W_t=750 \\mathrm{gr}$\n",
    "\n",
    "$\\Delta V_{t1}/V_{t0}=0.01$\n",
    "\n",
    "$\\Delta V_{t2}/V_{t1}=0.1$\n",
    "\n",
    "$G_s=2.65$"
   ]
  },
  {
   "attachments": {},
   "cell_type": "markdown",
   "id": "0fe1fc48",
   "metadata": {},
   "source": [
    "## Principles part 1:\n",
    "\n",
    "$e=V_v/V_s$\n",
    "\n",
    "$n=e/(1+e)$\n",
    "\n",
    "$\\gamma_d=W_s/V_t$\n",
    "\n",
    "$\\gamma_t=W_t/V_t$\n",
    "\n",
    "$G_s \\gamma_w= W_s/V_s$\n",
    "\n",
    "$V_t=V_v+V_s$"
   ]
  },
  {
   "cell_type": "code",
   "execution_count": 3,
   "id": "e174dc43",
   "metadata": {},
   "outputs": [],
   "source": [
    "# input data\n",
    "Vt0=500/(100**3) # initial volume in m^3\n",
    "w=0 #water content\n",
    "Wt=750*9.81/(1000**2) #weight in kN\n",
    "Ws=Wt #weight of solids\n",
    "Gs=2.65 # specific gravity"
   ]
  },
  {
   "cell_type": "code",
   "execution_count": 6,
   "id": "97a19cb9",
   "metadata": {},
   "outputs": [
    {
     "name": "stdout",
     "output_type": "stream",
     "text": [
      "e= 0.77 [-]\n"
     ]
    }
   ],
   "source": [
    "Vs=Ws/(Gs*9.81) #Volume of solids in m3\n",
    "Vv=Vt0-Vs # volume of voids\n",
    "e=Vv/Vs # void ratio\n",
    "print(\"e= %1.2f [-]\" %e)"
   ]
  },
  {
   "cell_type": "code",
   "execution_count": 7,
   "id": "55667abf",
   "metadata": {},
   "outputs": [],
   "source": [
    "import Soilved as slv"
   ]
  },
  {
   "cell_type": "code",
   "execution_count": 8,
   "id": "820817d8",
   "metadata": {},
   "outputs": [
    {
     "name": "stdout",
     "output_type": "stream",
     "text": [
      "gamma_d= 14.72 [kN/m^3]\n"
     ]
    }
   ],
   "source": [
    "gamma_d=slv.GetTotalUWeight(Gs,0,e)# dry unit weight in [kN/m^3]\n",
    "print(\"gamma_d= %1.2f [kN/m^3]\" %gamma_d)"
   ]
  },
  {
   "cell_type": "code",
   "execution_count": 9,
   "id": "07e6f865",
   "metadata": {},
   "outputs": [
    {
     "name": "stdout",
     "output_type": "stream",
     "text": [
      "gamma_sat= 18.97 [kN/m^3]\n"
     ]
    }
   ],
   "source": [
    "gamma_sat=slv.GetTotalUWeight(Gs,1,e)# sat unit weight in [kN/m^3]\n",
    "print(\"gamma_sat= %1.2f [kN/m^3]\" %gamma_sat)"
   ]
  },
  {
   "attachments": {},
   "cell_type": "markdown",
   "id": "8e3861a9",
   "metadata": {},
   "source": [
    "## Principles part 2:\n",
    "\n",
    "$W_{s0}=W_{s1}$\n",
    "\n",
    "$V_{s0}=V_{s1}$"
   ]
  },
  {
   "cell_type": "code",
   "execution_count": 10,
   "id": "3aa222ad",
   "metadata": {},
   "outputs": [
    {
     "name": "stdout",
     "output_type": "stream",
     "text": [
      "e= 0.75 [-]\n"
     ]
    }
   ],
   "source": [
    "DeltaV1=0.01*Vt0 # change of total volume\n",
    "Vt1=Vt0-DeltaV1 # total volume after compaction\n",
    "Vv=Vt1-Vs # new volume of voids\n",
    "e=Vv/Vs # void ratio\n",
    "print(\"e= %1.2f [-]\" %e)"
   ]
  },
  {
   "cell_type": "code",
   "execution_count": 11,
   "id": "6b6e1a22",
   "metadata": {},
   "outputs": [
    {
     "name": "stdout",
     "output_type": "stream",
     "text": [
      "gamma_d= 14.86 [kN/m^3]\n"
     ]
    }
   ],
   "source": [
    "gamma_d=slv.GetTotalUWeight(Gs,0,e)# dry unit weight in [kN/m^3]\n",
    "print(\"gamma_d= %1.2f [kN/m^3]\" %gamma_d)"
   ]
  },
  {
   "cell_type": "code",
   "execution_count": 12,
   "id": "b92b1d04",
   "metadata": {},
   "outputs": [
    {
     "name": "stdout",
     "output_type": "stream",
     "text": [
      "gamma_sat= 19.06 [kN/m^3]\n"
     ]
    }
   ],
   "source": [
    "gamma_sat=slv.GetTotalUWeight(Gs,1,e)# sat unit weight in [kN/m^3]\n",
    "print(\"gamma_sat= %1.2f [kN/m^3]\" %gamma_sat)"
   ]
  },
  {
   "attachments": {},
   "cell_type": "markdown",
   "id": "d939931c",
   "metadata": {},
   "source": [
    "## Principles part 3:\n",
    "\n",
    "$W_{s1}=W_{s2}$\n",
    "\n",
    "$V_{s1}=V_{s2}$"
   ]
  },
  {
   "cell_type": "markdown",
   "id": "435a3956",
   "metadata": {},
   "source": []
  },
  {
   "cell_type": "code",
   "execution_count": 13,
   "id": "a4a3647c",
   "metadata": {},
   "outputs": [
    {
     "name": "stdout",
     "output_type": "stream",
     "text": [
      "e= 0.57 [-]\n"
     ]
    }
   ],
   "source": [
    "DeltaV2=0.1*Vt1 # change of total volume\n",
    "Vt2=Vt1-DeltaV2 # total volume after compaction\n",
    "Vv=Vt2-Vs # new volume of voids\n",
    "e=Vv/Vs # void ratio\n",
    "print(\"e= %1.2f [-]\" %e)"
   ]
  },
  {
   "cell_type": "code",
   "execution_count": 14,
   "id": "370ca39c",
   "metadata": {},
   "outputs": [
    {
     "name": "stdout",
     "output_type": "stream",
     "text": [
      "gamma_d= 16.52 [kN/m^3]\n"
     ]
    }
   ],
   "source": [
    "gamma_d=slv.GetTotalUWeight(Gs,0,e)# dry unit weight in [kN/m^3]\n",
    "print(\"gamma_d= %1.2f [kN/m^3]\" %gamma_d)"
   ]
  },
  {
   "cell_type": "code",
   "execution_count": 15,
   "id": "70e820ac",
   "metadata": {},
   "outputs": [
    {
     "name": "stdout",
     "output_type": "stream",
     "text": [
      "gamma_sat= 20.09 [kN/m^3]\n"
     ]
    }
   ],
   "source": [
    "gamma_sat=slv.GetTotalUWeight(Gs,1,e)# sat unit weight in [kN/m^3]\n",
    "print(\"gamma_sat= %1.2f [kN/m^3]\" %gamma_sat)"
   ]
  },
  {
   "cell_type": "code",
   "execution_count": null,
   "id": "5963b88a",
   "metadata": {},
   "outputs": [],
   "source": []
  }
 ],
 "metadata": {
  "kernelspec": {
   "display_name": "base",
   "language": "python",
   "name": "python3"
  },
  "language_info": {
   "codemirror_mode": {
    "name": "ipython",
    "version": 3
   },
   "file_extension": ".py",
   "mimetype": "text/x-python",
   "name": "python",
   "nbconvert_exporter": "python",
   "pygments_lexer": "ipython3",
   "version": "3.8.8"
  },
  "vscode": {
   "interpreter": {
    "hash": "ad2bdc8ecc057115af97d19610ffacc2b4e99fae6737bb82f5d7fb13d2f2c186"
   }
  }
 },
 "nbformat": 4,
 "nbformat_minor": 5
}
