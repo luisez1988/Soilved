{
 "cells": [
  {
   "attachments": {},
   "cell_type": "markdown",
   "id": "15d37e37",
   "metadata": {},
   "source": [
    "<h1>Example 2.5</h1>\n",
    "\n",
    "<p>A cylinder contains 500 <span>cm<sup>3</span> of loose dry sand which weighs 750 g, and under static load of 200 kPa the volume is reduced 1%, and then by vibration it is reduced 10% of the original volume. Assume the specific gravity of the sand is Gs=2.65. Compute the void ratio, porosity, dry unit weight, and total unit weight corresponding to each of the following cases: </p>\n",
    "\t\t<ol>\n",
    "\t\t\t<li>Loose sand.</li>\n",
    "\t\t\t<li>Under static load.</li>\n",
    "\t\t\t<li>Vibrated and loaded sand.</li>\n",
    "\t\t</ol>"
   ]
  },
  {
   "attachments": {},
   "cell_type": "markdown",
   "id": "be0bc4ee",
   "metadata": {},
   "source": [
    "## Data:\n",
    "\n",
    "$V_{t0}=500 \\mathrm{cm}^3$\n",
    "\n",
    "$w=0\\%$\n",
    "\n",
    "$W_t=750 \\mathrm{gr}$\n",
    "\n",
    "$\\Delta V_{t1}/V_{t0}=0.01$\n",
    "\n",
    "$\\Delta V_{t2}/V_{t1}=0.1$\n",
    "\n",
    "$G_s=2.65$"
   ]
  },
  {
   "attachments": {},
   "cell_type": "markdown",
   "id": "0fe1fc48",
   "metadata": {},
   "source": [
    "## Principles part 1:\n",
    "\n",
    "$e=V_v/V_s$\n",
    "\n",
    "$n=e/(1+e)$\n",
    "\n",
    "$\\gamma_d=W_s/V_t$\n",
    "\n",
    "$\\gamma_t=W_t/V_t$\n",
    "\n",
    "$G_s \\gamma_w= W_s/V_s$\n",
    "\n",
    "$V_t=V_v+V_s$"
   ]
  },
  {
   "attachments": {},
   "cell_type": "markdown",
   "id": "8e3861a9",
   "metadata": {},
   "source": [
    "## Principles part 2:\n",
    "\n",
    "$W_{s0}=W_{s1}$\n",
    "\n",
    "$V_{s0}=V_{s1}$"
   ]
  },
  {
   "attachments": {},
   "cell_type": "markdown",
   "id": "d939931c",
   "metadata": {},
   "source": [
    "## Principles part 3:\n",
    "\n",
    "$W_{s1}=W_{s2}$\n",
    "\n",
    "$V_{s1}=V_{s2}$"
   ]
  },
  {
   "cell_type": "markdown",
   "id": "435a3956",
   "metadata": {},
   "source": []
  }
 ],
 "metadata": {
  "kernelspec": {
   "display_name": "base",
   "language": "python",
   "name": "python3"
  },
  "language_info": {
   "codemirror_mode": {
    "name": "ipython",
    "version": 3
   },
   "file_extension": ".py",
   "mimetype": "text/x-python",
   "name": "python",
   "nbconvert_exporter": "python",
   "pygments_lexer": "ipython3",
   "version": "3.8.8 (default, Apr 13 2021, 15:08:03) [MSC v.1916 64 bit (AMD64)]"
  },
  "vscode": {
   "interpreter": {
    "hash": "ad2bdc8ecc057115af97d19610ffacc2b4e99fae6737bb82f5d7fb13d2f2c186"
   }
  }
 },
 "nbformat": 4,
 "nbformat_minor": 5
}
