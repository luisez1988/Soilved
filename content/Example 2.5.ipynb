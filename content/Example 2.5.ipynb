{
 "cells": [
  {
   "attachments": {},
   "cell_type": "markdown",
   "id": "15d37e37",
   "metadata": {},
   "source": [
    "<h1>Example 2.5</h1>\n",
    "\n",
    "<p>A cylinder contains 500 <span>cm<sup>3</span> of loose dry sand which weighs 750 g, and under static load of 200 kPa the volume is reduced 1%, and then by vibration it is reduced 10% of the original volume. Assume the specific gravity of the sand is Gs=2.65. Compute the void ratio, porosity, dry unit weight, and total unit weight corresponding to each of the following cases: </p>\n",
    "\t\t<ol>\n",
    "\t\t\t<li>Loose sand.</li>\n",
    "\t\t\t<li>Under static load.</li>\n",
    "\t\t\t<li>Vibrated and loaded sand.</li>\n",
    "\t\t</ol>"
   ]
  },
  {
   "cell_type": "code",
   "execution_count": null,
   "id": "4e4cf483",
   "metadata": {},
   "outputs": [],
   "source": []
  }
 ],
 "metadata": {
  "kernelspec": {
   "display_name": "Python 3 (ipykernel)",
   "language": "python",
   "name": "python3"
  },
  "language_info": {
   "codemirror_mode": {
    "name": "ipython",
    "version": 3
   },
   "file_extension": ".py",
   "mimetype": "text/x-python",
   "name": "python",
   "nbconvert_exporter": "python",
   "pygments_lexer": "ipython3",
   "version": "3.9.7"
  }
 },
 "nbformat": 4,
 "nbformat_minor": 5
}
