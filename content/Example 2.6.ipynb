{
 "cells": [
  {
   "attachments": {},
   "cell_type": "markdown",
   "metadata": {},
   "source": [
    "# Example 2.6\n",
    "A sieve analysis was conducted on a soil producing the data shown in the table below. Calculate (i) the retained weights, (ii) Percentage retained, (iii) Percentage passing, (iv) the gravel, sand, and fine fractions, (v) and plot the grain size distribution."
   ]
  },
  {
   "attachments": {},
   "cell_type": "markdown",
   "metadata": {},
   "source": [
    "## Data:\n",
    "\n",
    "Sieve analysis results given in table"
   ]
  },
  {
   "attachments": {},
   "cell_type": "markdown",
   "metadata": {},
   "source": [
    "## Principles\n",
    "\n",
    "$W_{ri}=\\sum_{k=1}^{k=i}\n",
    "W_k$\n",
    "\n",
    "$P_{Ri}=\\cfrac{W_{ri}}{W_{td}} \\times 100$\n",
    "\n",
    "$P_{Pi}=100-P_{Ri}$\n",
    "\n",
    "$S_F=100-G_F-F_F$"
   ]
  },
  {
   "cell_type": "code",
   "execution_count": 1,
   "metadata": {},
   "outputs": [],
   "source": [
    "# first I will import the packages\n",
    "import pandas as pd #great for managing ordered data (things you would do with excel)\n",
    "import numpy as np\n",
    "import Soilved as slv"
   ]
  },
  {
   "cell_type": "code",
   "execution_count": 2,
   "metadata": {},
   "outputs": [
    {
     "data": {
      "text/html": [
       "<div>\n",
       "<style scoped>\n",
       "    .dataframe tbody tr th:only-of-type {\n",
       "        vertical-align: middle;\n",
       "    }\n",
       "\n",
       "    .dataframe tbody tr th {\n",
       "        vertical-align: top;\n",
       "    }\n",
       "\n",
       "    .dataframe thead th {\n",
       "        text-align: right;\n",
       "    }\n",
       "</style>\n",
       "<table border=\"1\" class=\"dataframe\">\n",
       "  <thead>\n",
       "    <tr style=\"text-align: right;\">\n",
       "      <th></th>\n",
       "      <th>d</th>\n",
       "      <th>Ws (gr)</th>\n",
       "    </tr>\n",
       "  </thead>\n",
       "  <tbody>\n",
       "    <tr>\n",
       "      <th>0</th>\n",
       "      <td>4.75</td>\n",
       "      <td>12.50</td>\n",
       "    </tr>\n",
       "    <tr>\n",
       "      <th>1</th>\n",
       "      <td>2</td>\n",
       "      <td>233.67</td>\n",
       "    </tr>\n",
       "    <tr>\n",
       "      <th>2</th>\n",
       "      <td>0.85</td>\n",
       "      <td>144.13</td>\n",
       "    </tr>\n",
       "    <tr>\n",
       "      <th>3</th>\n",
       "      <td>0.425</td>\n",
       "      <td>75.75</td>\n",
       "    </tr>\n",
       "    <tr>\n",
       "      <th>4</th>\n",
       "      <td>0.25</td>\n",
       "      <td>25.47</td>\n",
       "    </tr>\n",
       "    <tr>\n",
       "      <th>5</th>\n",
       "      <td>0.15</td>\n",
       "      <td>10.14</td>\n",
       "    </tr>\n",
       "    <tr>\n",
       "      <th>6</th>\n",
       "      <td>0.106</td>\n",
       "      <td>5.50</td>\n",
       "    </tr>\n",
       "    <tr>\n",
       "      <th>7</th>\n",
       "      <td>0.075</td>\n",
       "      <td>1.70</td>\n",
       "    </tr>\n",
       "    <tr>\n",
       "      <th>8</th>\n",
       "      <td>Pan</td>\n",
       "      <td>1.00</td>\n",
       "    </tr>\n",
       "    <tr>\n",
       "      <th>9</th>\n",
       "      <td>Total</td>\n",
       "      <td>509.86</td>\n",
       "    </tr>\n",
       "  </tbody>\n",
       "</table>\n",
       "</div>"
      ],
      "text/plain": [
       "       d  Ws (gr)\n",
       "0   4.75    12.50\n",
       "1      2   233.67\n",
       "2   0.85   144.13\n",
       "3  0.425    75.75\n",
       "4   0.25    25.47\n",
       "5   0.15    10.14\n",
       "6  0.106     5.50\n",
       "7  0.075     1.70\n",
       "8    Pan     1.00\n",
       "9  Total   509.86"
      ]
     },
     "execution_count": 2,
     "metadata": {},
     "output_type": "execute_result"
    }
   ],
   "source": [
    "#I need to load my data and we can do than from any type of file \n",
    "# I am using a text delimited by commas or csv file (you can easily make one using excel)\n",
    "\n",
    "GSD_data=pd.read_csv('./data/mod2example6.csv') #reads csv file\n",
    "GSD_data #shows dataframe\n"
   ]
  },
  {
   "attachments": {},
   "cell_type": "markdown",
   "metadata": {},
   "source": [
    "**Note**: The dataset is now a pandas dataframe and has the headers as indices of the columns "
   ]
  },
  {
   "cell_type": "code",
   "execution_count": 3,
   "metadata": {},
   "outputs": [
    {
     "data": {
      "text/plain": [
       "0     4.75\n",
       "1        2\n",
       "2     0.85\n",
       "3    0.425\n",
       "4     0.25\n",
       "5     0.15\n",
       "6    0.106\n",
       "7    0.075\n",
       "8      Pan\n",
       "9    Total\n",
       "Name: d, dtype: object"
      ]
     },
     "execution_count": 3,
     "metadata": {},
     "output_type": "execute_result"
    }
   ],
   "source": [
    "GSD_data['d'] #retrieves the particle size column"
   ]
  },
  {
   "cell_type": "code",
   "execution_count": 4,
   "metadata": {},
   "outputs": [
    {
     "data": {
      "text/plain": [
       "0     4.75\n",
       "1        2\n",
       "2     0.85\n",
       "3    0.425\n",
       "4     0.25\n",
       "5     0.15\n",
       "6    0.106\n",
       "7    0.075\n",
       "Name: d, dtype: object"
      ]
     },
     "execution_count": 4,
     "metadata": {},
     "output_type": "execute_result"
    }
   ],
   "source": [
    "GSD_data['d'][:-2] #removing the two last rows|"
   ]
  },
  {
   "cell_type": "code",
   "execution_count": 5,
   "metadata": {},
   "outputs": [
    {
     "name": "stderr",
     "output_type": "stream",
     "text": [
      "c:\\Users\\$r.984804\\Documents\\GitHub\\soilved\\content\\Soilved.py:36: SettingWithCopyWarning: \n",
      "A value is trying to be set on a copy of a slice from a DataFrame\n",
      "\n",
      "See the caveats in the documentation: https://pandas.pydata.org/pandas-docs/stable/user_guide/indexing.html#returning-a-view-versus-a-copy\n",
      "  GSD_data['Weight retained'][i]=W #writes accumulated weight to dataframe\n",
      "c:\\Users\\$r.984804\\Documents\\GitHub\\soilved\\content\\Soilved.py:37: SettingWithCopyWarning: \n",
      "A value is trying to be set on a copy of a slice from a DataFrame\n",
      "\n",
      "See the caveats in the documentation: https://pandas.pydata.org/pandas-docs/stable/user_guide/indexing.html#returning-a-view-versus-a-copy\n",
      "  GSD_data['Retained'][i]=W*100/Wtd #calculates Percent coarser\n",
      "c:\\Users\\$r.984804\\Documents\\GitHub\\soilved\\content\\Soilved.py:38: SettingWithCopyWarning: \n",
      "A value is trying to be set on a copy of a slice from a DataFrame\n",
      "\n",
      "See the caveats in the documentation: https://pandas.pydata.org/pandas-docs/stable/user_guide/indexing.html#returning-a-view-versus-a-copy\n",
      "  GSD_data['Passing'][i]=100-GSD_data['Retained'][i] #calculates percent finer\n"
     ]
    },
    {
     "data": {
      "text/html": [
       "<div>\n",
       "<style scoped>\n",
       "    .dataframe tbody tr th:only-of-type {\n",
       "        vertical-align: middle;\n",
       "    }\n",
       "\n",
       "    .dataframe tbody tr th {\n",
       "        vertical-align: top;\n",
       "    }\n",
       "\n",
       "    .dataframe thead th {\n",
       "        text-align: right;\n",
       "    }\n",
       "</style>\n",
       "<table border=\"1\" class=\"dataframe\">\n",
       "  <thead>\n",
       "    <tr style=\"text-align: right;\">\n",
       "      <th></th>\n",
       "      <th>d</th>\n",
       "      <th>Ws (gr)</th>\n",
       "      <th>Weight retained</th>\n",
       "      <th>Retained</th>\n",
       "      <th>Passing</th>\n",
       "    </tr>\n",
       "  </thead>\n",
       "  <tbody>\n",
       "    <tr>\n",
       "      <th>0</th>\n",
       "      <td>4.75</td>\n",
       "      <td>12.50</td>\n",
       "      <td>12.50</td>\n",
       "      <td>2.451653</td>\n",
       "      <td>9.754835e+01</td>\n",
       "    </tr>\n",
       "    <tr>\n",
       "      <th>1</th>\n",
       "      <td>2</td>\n",
       "      <td>233.67</td>\n",
       "      <td>246.17</td>\n",
       "      <td>48.281881</td>\n",
       "      <td>5.171812e+01</td>\n",
       "    </tr>\n",
       "    <tr>\n",
       "      <th>2</th>\n",
       "      <td>0.85</td>\n",
       "      <td>144.13</td>\n",
       "      <td>390.30</td>\n",
       "      <td>76.550426</td>\n",
       "      <td>2.344957e+01</td>\n",
       "    </tr>\n",
       "    <tr>\n",
       "      <th>3</th>\n",
       "      <td>0.425</td>\n",
       "      <td>75.75</td>\n",
       "      <td>466.05</td>\n",
       "      <td>91.407445</td>\n",
       "      <td>8.592555e+00</td>\n",
       "    </tr>\n",
       "    <tr>\n",
       "      <th>4</th>\n",
       "      <td>0.25</td>\n",
       "      <td>25.47</td>\n",
       "      <td>491.52</td>\n",
       "      <td>96.402934</td>\n",
       "      <td>3.597066e+00</td>\n",
       "    </tr>\n",
       "    <tr>\n",
       "      <th>5</th>\n",
       "      <td>0.15</td>\n",
       "      <td>10.14</td>\n",
       "      <td>501.66</td>\n",
       "      <td>98.391715</td>\n",
       "      <td>1.608285e+00</td>\n",
       "    </tr>\n",
       "    <tr>\n",
       "      <th>6</th>\n",
       "      <td>0.106</td>\n",
       "      <td>5.50</td>\n",
       "      <td>507.16</td>\n",
       "      <td>99.470443</td>\n",
       "      <td>5.295571e-01</td>\n",
       "    </tr>\n",
       "    <tr>\n",
       "      <th>7</th>\n",
       "      <td>0.075</td>\n",
       "      <td>1.70</td>\n",
       "      <td>508.86</td>\n",
       "      <td>99.803868</td>\n",
       "      <td>1.961323e-01</td>\n",
       "    </tr>\n",
       "    <tr>\n",
       "      <th>8</th>\n",
       "      <td>Pan</td>\n",
       "      <td>1.00</td>\n",
       "      <td>509.86</td>\n",
       "      <td>100.000000</td>\n",
       "      <td>1.421085e-14</td>\n",
       "    </tr>\n",
       "    <tr>\n",
       "      <th>9</th>\n",
       "      <td>Total</td>\n",
       "      <td>509.86</td>\n",
       "      <td>1019.72</td>\n",
       "      <td>200.000000</td>\n",
       "      <td>-1.000000e+02</td>\n",
       "    </tr>\n",
       "  </tbody>\n",
       "</table>\n",
       "</div>"
      ],
      "text/plain": [
       "       d  Ws (gr)  Weight retained    Retained       Passing\n",
       "0   4.75    12.50            12.50    2.451653  9.754835e+01\n",
       "1      2   233.67           246.17   48.281881  5.171812e+01\n",
       "2   0.85   144.13           390.30   76.550426  2.344957e+01\n",
       "3  0.425    75.75           466.05   91.407445  8.592555e+00\n",
       "4   0.25    25.47           491.52   96.402934  3.597066e+00\n",
       "5   0.15    10.14           501.66   98.391715  1.608285e+00\n",
       "6  0.106     5.50           507.16   99.470443  5.295571e-01\n",
       "7  0.075     1.70           508.86   99.803868  1.961323e-01\n",
       "8    Pan     1.00           509.86  100.000000  1.421085e-14\n",
       "9  Total   509.86          1019.72  200.000000 -1.000000e+02"
      ]
     },
     "execution_count": 5,
     "metadata": {},
     "output_type": "execute_result"
    },
    {
     "data": {
      "image/png": "[encoded data removed]",
      "text/plain": [
       "<Figure size 432x288 with 1 Axes>"
      ]
     },
     "metadata": {
      "needs_background": "light"
     },
     "output_type": "display_data"
    }
   ],
   "source": [
    "slv.Process_GSD(GSD_data) #calculates percentage coarser or retained\n",
    "GSD_data"
   ]
  },
  {
   "cell_type": "code",
   "execution_count": 6,
   "metadata": {},
   "outputs": [
    {
     "data": {
      "text/html": [
       "<div>\n",
       "<style scoped>\n",
       "    .dataframe tbody tr th:only-of-type {\n",
       "        vertical-align: middle;\n",
       "    }\n",
       "\n",
       "    .dataframe tbody tr th {\n",
       "        vertical-align: top;\n",
       "    }\n",
       "\n",
       "    .dataframe thead th {\n",
       "        text-align: right;\n",
       "    }\n",
       "</style>\n",
       "<table border=\"1\" class=\"dataframe\">\n",
       "  <thead>\n",
       "    <tr style=\"text-align: right;\">\n",
       "      <th></th>\n",
       "      <th>d</th>\n",
       "      <th>Ws (gr)</th>\n",
       "      <th>Weight retained</th>\n",
       "      <th>Retained</th>\n",
       "      <th>Passing</th>\n",
       "    </tr>\n",
       "  </thead>\n",
       "  <tbody>\n",
       "    <tr>\n",
       "      <th>0</th>\n",
       "      <td>4.75</td>\n",
       "      <td>12.50</td>\n",
       "      <td>12.50</td>\n",
       "      <td>2.451653</td>\n",
       "      <td>9.754835e+01</td>\n",
       "    </tr>\n",
       "    <tr>\n",
       "      <th>1</th>\n",
       "      <td>2</td>\n",
       "      <td>233.67</td>\n",
       "      <td>246.17</td>\n",
       "      <td>48.281881</td>\n",
       "      <td>5.171812e+01</td>\n",
       "    </tr>\n",
       "    <tr>\n",
       "      <th>2</th>\n",
       "      <td>0.85</td>\n",
       "      <td>144.13</td>\n",
       "      <td>390.30</td>\n",
       "      <td>76.550426</td>\n",
       "      <td>2.344957e+01</td>\n",
       "    </tr>\n",
       "    <tr>\n",
       "      <th>3</th>\n",
       "      <td>0.425</td>\n",
       "      <td>75.75</td>\n",
       "      <td>466.05</td>\n",
       "      <td>91.407445</td>\n",
       "      <td>8.592555e+00</td>\n",
       "    </tr>\n",
       "    <tr>\n",
       "      <th>4</th>\n",
       "      <td>0.25</td>\n",
       "      <td>25.47</td>\n",
       "      <td>491.52</td>\n",
       "      <td>96.402934</td>\n",
       "      <td>3.597066e+00</td>\n",
       "    </tr>\n",
       "    <tr>\n",
       "      <th>5</th>\n",
       "      <td>0.15</td>\n",
       "      <td>10.14</td>\n",
       "      <td>501.66</td>\n",
       "      <td>98.391715</td>\n",
       "      <td>1.608285e+00</td>\n",
       "    </tr>\n",
       "    <tr>\n",
       "      <th>6</th>\n",
       "      <td>0.106</td>\n",
       "      <td>5.50</td>\n",
       "      <td>507.16</td>\n",
       "      <td>99.470443</td>\n",
       "      <td>5.295571e-01</td>\n",
       "    </tr>\n",
       "    <tr>\n",
       "      <th>7</th>\n",
       "      <td>0.075</td>\n",
       "      <td>1.70</td>\n",
       "      <td>508.86</td>\n",
       "      <td>99.803868</td>\n",
       "      <td>1.961323e-01</td>\n",
       "    </tr>\n",
       "    <tr>\n",
       "      <th>8</th>\n",
       "      <td>Pan</td>\n",
       "      <td>1.00</td>\n",
       "      <td>509.86</td>\n",
       "      <td>100.000000</td>\n",
       "      <td>1.421085e-14</td>\n",
       "    </tr>\n",
       "    <tr>\n",
       "      <th>9</th>\n",
       "      <td>Total</td>\n",
       "      <td>509.86</td>\n",
       "      <td>1019.72</td>\n",
       "      <td>200.000000</td>\n",
       "      <td>-1.000000e+02</td>\n",
       "    </tr>\n",
       "  </tbody>\n",
       "</table>\n",
       "</div>"
      ],
      "text/plain": [
       "       d  Ws (gr)  Weight retained    Retained       Passing\n",
       "0   4.75    12.50            12.50    2.451653  9.754835e+01\n",
       "1      2   233.67           246.17   48.281881  5.171812e+01\n",
       "2   0.85   144.13           390.30   76.550426  2.344957e+01\n",
       "3  0.425    75.75           466.05   91.407445  8.592555e+00\n",
       "4   0.25    25.47           491.52   96.402934  3.597066e+00\n",
       "5   0.15    10.14           501.66   98.391715  1.608285e+00\n",
       "6  0.106     5.50           507.16   99.470443  5.295571e-01\n",
       "7  0.075     1.70           508.86   99.803868  1.961323e-01\n",
       "8    Pan     1.00           509.86  100.000000  1.421085e-14\n",
       "9  Total   509.86          1019.72  200.000000 -1.000000e+02"
      ]
     },
     "execution_count": 6,
     "metadata": {},
     "output_type": "execute_result"
    }
   ],
   "source": [
    "GSD_data['Passing']=100-GSD_data['Retained'] #Percentage finer\n",
    "GSD_data"
   ]
  },
  {
   "cell_type": "code",
   "execution_count": 7,
   "metadata": {},
   "outputs": [
    {
     "name": "stdout",
     "output_type": "stream",
     "text": [
      "G_F= 2.45 percent\n"
     ]
    }
   ],
   "source": [
    "G_F=GSD_data['Retained'][0] #gravel fraction is the percent coarser than N4\n",
    "print(\"G_F= %1.2f percent\" %G_F)"
   ]
  },
  {
   "cell_type": "code",
   "execution_count": 8,
   "metadata": {},
   "outputs": [
    {
     "name": "stdout",
     "output_type": "stream",
     "text": [
      "F_F= 0.20 percent\n"
     ]
    }
   ],
   "source": [
    "F_F=GSD_data['Passing'][7] #fine fraction is the percent finer than N4\n",
    "print(\"F_F= %1.2f percent\" %F_F)"
   ]
  },
  {
   "cell_type": "code",
   "execution_count": 9,
   "metadata": {},
   "outputs": [
    {
     "name": "stdout",
     "output_type": "stream",
     "text": [
      "S_F= 97.35 percent\n"
     ]
    }
   ],
   "source": [
    "S_F=100-G_F-F_F # Sand fraction in percent\n",
    "print(\"S_F= %1.2f percent\" %S_F) "
   ]
  },
  {
   "cell_type": "code",
   "execution_count": 10,
   "metadata": {},
   "outputs": [],
   "source": [
    "import matplotlib.pyplot as plt #graphic functions library"
   ]
  },
  {
   "cell_type": "code",
   "execution_count": 11,
   "metadata": {},
   "outputs": [
    {
     "name": "stderr",
     "output_type": "stream",
     "text": [
      "<ipython-input-11-38edb275909f>:2: DeprecationWarning: `np.float` is a deprecated alias for the builtin `float`. To silence this warning, use `float` by itself. Doing this will not modify any behavior and is safe. If you specifically wanted the numpy scalar type, use `np.float64` here.\n",
      "Deprecated in NumPy 1.20; for more details and guidance: https://numpy.org/devdocs/release/1.20.0-notes.html#deprecations\n",
      "  plt.plot(D.astype(np.float), GSD_data['Passing'][:-2], '*-') #string array to float\n"
     ]
    },
    {
     "data": {
      "text/plain": [
       "Text(0.5, 0, 'Particle size [mm]')"
      ]
     },
     "execution_count": 11,
     "metadata": {},
     "output_type": "execute_result"
    },
    {
     "data": {
      "image/png": "[encoded data removed]",
      "text/plain": [
       "<Figure size 432x288 with 1 Axes>"
      ]
     },
     "metadata": {
      "needs_background": "light"
     },
     "output_type": "display_data"
    }
   ],
   "source": [
    "D=np.array(GSD_data['d'][:-2]) #transforms strings to array\n",
    "plt.plot(D.astype(np.float), GSD_data['Passing'][:-2], '*-') #string array to float\n",
    "plt.xscale('log')\n",
    "plt.gca().invert_xaxis()\n",
    "plt.ylabel(r'Percent finer [mm]')\n",
    "plt.xlabel(r'Particle size [mm]')"
   ]
  }
 ],
 "metadata": {
  "kernelspec": {
   "display_name": "base",
   "language": "python",
   "name": "python3"
  },
  "language_info": {
   "codemirror_mode": {
    "name": "ipython",
    "version": 3
   },
   "file_extension": ".py",
   "mimetype": "text/x-python",
   "name": "python",
   "nbconvert_exporter": "python",
   "pygments_lexer": "ipython3",
   "version": "3.8.8"
  },
  "orig_nbformat": 4,
  "vscode": {
   "interpreter": {
    "hash": "ad2bdc8ecc057115af97d19610ffacc2b4e99fae6737bb82f5d7fb13d2f2c186"
   }
  }
 },
 "nbformat": 4,
 "nbformat_minor": 2
}
