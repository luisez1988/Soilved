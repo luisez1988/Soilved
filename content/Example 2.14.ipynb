{
 "cells": [
  {
   "cell_type": "markdown",
   "metadata": {},
   "source": [
    "# Example 2.14\n",
    "\n",
    "Classify the soil with data shown in the GSD below."
   ]
  },
  {
   "cell_type": "markdown",
   "metadata": {},
   "source": [
    "## Data:\n",
    "\n",
    "$G_F=4\\%$\n",
    "\n",
    "$S_F=96\\%$\n",
    "\n",
    "$F_F=0\\%$\n",
    "\n",
    "$C_u=1.57$\n",
    "\n",
    "$C_c=1.45$\n",
    "\n",
    "Non-plastic"
   ]
  },
  {
   "cell_type": "markdown",
   "metadata": {},
   "source": [
    "## Principles\n",
    "\n",
    "ASTM D2487"
   ]
  },
  {
   "cell_type": "code",
   "execution_count": 8,
   "metadata": {},
   "outputs": [],
   "source": [
    "import Soilved as slv"
   ]
  },
  {
   "cell_type": "code",
   "execution_count": 9,
   "metadata": {},
   "outputs": [],
   "source": [
    "GF=4 #gravel fraction in percent\n",
    "SF=96 #sand fraction in percent\n",
    "FF=0 #Fine fraction in percent"
   ]
  },
  {
   "cell_type": "code",
   "execution_count": 10,
   "metadata": {},
   "outputs": [
    {
     "name": "stdout",
     "output_type": "stream",
     "text": [
      "SP\n",
      "Poorly-graded sand\n"
     ]
    }
   ],
   "source": [
    "Group, Name=slv.GetUSCS(GF, SF, FF, Cu=1.57, Cc=1.45) #Programmed USCS in python\n",
    "print(Group)\n",
    "print(Name)"
   ]
  },
  {
   "cell_type": "markdown",
   "metadata": {},
   "source": [
    "# Example 2.15\n",
    "\n",
    "Classify the soil with data shown in the GSD below."
   ]
  },
  {
   "cell_type": "markdown",
   "metadata": {},
   "source": [
    "## Data:\n",
    "\n",
    "$G_F=5\\%$\n",
    "\n",
    "$S_F=74\\%$\n",
    "\n",
    "$F_F=21\\%$\n",
    "\n",
    "$C_u=18.9$\n",
    "\n",
    "$C_c=1.14$\n",
    "\n",
    "$LL=13\\%$\n",
    "\n",
    "$PL=5\\%$"
   ]
  },
  {
   "cell_type": "markdown",
   "metadata": {},
   "source": [
    "## Principles\n",
    "\n",
    "$PI=LL-PL$\n",
    "\n",
    "ASTM D2487\n"
   ]
  },
  {
   "cell_type": "code",
   "execution_count": 11,
   "metadata": {},
   "outputs": [],
   "source": [
    "GF=5 #gravel fraction in percent\n",
    "SF=74 #sand fraction in percent\n",
    "FF=21 #Fine fraction in percent\n",
    "LL=13 #Liquid limit in percent\n",
    "PL=5 #plastic limit in percent\n"
   ]
  },
  {
   "cell_type": "code",
   "execution_count": 12,
   "metadata": {},
   "outputs": [
    {
     "name": "stdout",
     "output_type": "stream",
     "text": [
      "SC\n",
      "Clayey sand\n"
     ]
    }
   ],
   "source": [
    "PI=LL-PL # Plasticity index in percent\n",
    "Group, Name=slv.GetUSCS(GF, SF, FF, PI=PI, LL=LL) #Programmed USCS in python\n",
    "print(Group)\n",
    "print(Name)"
   ]
  },
  {
   "cell_type": "markdown",
   "metadata": {},
   "source": [
    "# Example 2.16\n",
    "\n",
    "Classify the soil with data shown in the GSD below."
   ]
  },
  {
   "cell_type": "markdown",
   "metadata": {},
   "source": [
    "## Data:\n",
    "\n",
    "$G_F=32\\%$\n",
    "\n",
    "$S_F=26\\%$\n",
    "\n",
    "$F_F=42\\%$\n",
    "\n",
    "$C_u=493$\n",
    "\n",
    "$C_c=0.012$\n",
    "\n",
    "$LL=60\\%$\n",
    "\n",
    "$PL=21\\%$"
   ]
  },
  {
   "cell_type": "markdown",
   "metadata": {},
   "source": [
    "## Principles\n",
    "\n",
    "$PI=LL-PL$\n",
    "\n",
    "ASTM D2487"
   ]
  },
  {
   "cell_type": "code",
   "execution_count": 13,
   "metadata": {},
   "outputs": [],
   "source": [
    "GF=32 #gravel fraction in percent\n",
    "SF=26 #sand fraction in percent\n",
    "FF=42 #Fine fraction in percent\n",
    "LL=60 #Liquid limit in percent\n",
    "PL=21 #plastic limit in percent"
   ]
  },
  {
   "cell_type": "code",
   "execution_count": 14,
   "metadata": {},
   "outputs": [
    {
     "name": "stdout",
     "output_type": "stream",
     "text": [
      "GC\n",
      "Clayey gravel with sand\n"
     ]
    }
   ],
   "source": [
    "PI=LL-PL # Plasticity index in percent\n",
    "Group, Name=slv.GetUSCS(GF, SF, FF, PI=PI, LL=LL) #Programmed USCS in python\n",
    "print(Group)\n",
    "print(Name)"
   ]
  },
  {
   "cell_type": "code",
   "execution_count": null,
   "metadata": {},
   "outputs": [],
   "source": []
  }
 ],
 "metadata": {
  "kernelspec": {
   "display_name": "Python 3",
   "language": "python",
   "name": "python3"
  },
  "language_info": {
   "codemirror_mode": {
    "name": "ipython",
    "version": 3
   },
   "file_extension": ".py",
   "mimetype": "text/x-python",
   "name": "python",
   "nbconvert_exporter": "python",
   "pygments_lexer": "ipython3",
   "version": "3.8.8"
  },
  "vscode": {
   "interpreter": {
    "hash": "ad2bdc8ecc057115af97d19610ffacc2b4e99fae6737bb82f5d7fb13d2f2c186"
   }
  }
 },
 "nbformat": 4,
 "nbformat_minor": 2
}
