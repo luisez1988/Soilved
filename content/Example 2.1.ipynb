{
 "cells": [
  {
   "cell_type": "markdown",
   "id": "49a5037d",
   "metadata": {},
   "source": [
    "<h1>Example 2.1</h1>\n",
    "<p>A soil sample is put in a container with mass 12.51 gr. The soil plus the container weighs 54.80 gr (mass is measured). The sample was left in the oven overnight at 105\\(^o\\)C and weighed 50.51 gr. <strong style='color:#7abbe6'>Calculate: (i) the weight of solids, (ii) the weight of water, and (iii) the water content in %.</strong> </p>"
   ]
  },
  {
   "attachments": {},
   "cell_type": "markdown",
   "id": "bc29f754",
   "metadata": {},
   "source": [
    "## Data:\n",
    "\n",
    "$W_c=12.51 gr$\n",
    "\n",
    "$W_t+W_c=54.8 gr$\n",
    "\n",
    "$W_s+W_c=50.51 gr$"
   ]
  },
  {
   "attachments": {},
   "cell_type": "markdown",
   "id": "534332d9",
   "metadata": {},
   "source": [
    "## Principles:\n",
    "\n",
    "$W_t=W_s+W_w$\n",
    "\n",
    "$w=\\cfrac{W_w}{W_s} \\times 100$ \n",
    "\n"
   ]
  },
  {
   "cell_type": "code",
   "execution_count": 1,
   "id": "5c2e49c0",
   "metadata": {},
   "outputs": [
    {
     "name": "stdout",
     "output_type": "stream",
     "text": [
      "Ws= 37.59 gr\n"
     ]
    }
   ],
   "source": [
    "Ws=50.1-12.51 #mass of solids in grams\n",
    "print(\"Ws= %1.2f gr\" %Ws) #formats solution with two decimal places"
   ]
  },
  {
   "cell_type": "code",
   "execution_count": 2,
   "id": "ec0cdab3",
   "metadata": {},
   "outputs": [
    {
     "name": "stdout",
     "output_type": "stream",
     "text": [
      "Ww= 4.29 gr\n"
     ]
    }
   ],
   "source": [
    "Ww=54.8-50.51 #weight of water in grams\n",
    "print(\"Ww= %1.2f gr\" %Ww) #formats solution with two decimal places"
   ]
  },
  {
   "cell_type": "code",
   "execution_count": 3,
   "id": "8595adfd",
   "metadata": {},
   "outputs": [
    {
     "name": "stdout",
     "output_type": "stream",
     "text": [
      "w= 11.41 percent\n"
     ]
    }
   ],
   "source": [
    "w=Ww*100/Ws #water content in percentage\n",
    "print(\"w= %1.2f percent\" %w) #formats solution with two decimal places"
   ]
  },
  {
   "cell_type": "markdown",
   "id": "ea24a8d6",
   "metadata": {},
   "source": []
  }
 ],
 "metadata": {
  "kernelspec": {
   "display_name": "base",
   "language": "python",
   "name": "python3"
  },
  "language_info": {
   "codemirror_mode": {
    "name": "ipython",
    "version": 3
   },
   "file_extension": ".py",
   "mimetype": "text/x-python",
   "name": "python",
   "nbconvert_exporter": "python",
   "pygments_lexer": "ipython3",
   "version": "3.8.8"
  },
  "vscode": {
   "interpreter": {
    "hash": "ad2bdc8ecc057115af97d19610ffacc2b4e99fae6737bb82f5d7fb13d2f2c186"
   }
  }
 },
 "nbformat": 4,
 "nbformat_minor": 5
}
