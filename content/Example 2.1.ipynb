{
 "cells": [
  {
   "cell_type": "markdown",
   "id": "49a5037d",
   "metadata": {},
   "source": [
    "<h1>Example 2.1</h1>\n",
    "<p>A soil sample is put in a container with mass 12.51 gr. The soil plus the container weighs 54.80 gr (mass is measured). The sample was left in the oven overnight at 105\\(^o\\)C and weighed 50.51 gr. <strong style='color:#7abbe6'>Calculate: (i) the weight of solids, (ii) the weight of water, and (iii) the water content in %.</strong> </p>"
   ]
  },
  {
   "cell_type": "code",
   "execution_count": null,
   "id": "bc29f754",
   "metadata": {},
   "outputs": [],
   "source": []
  }
 ],
 "metadata": {
  "kernelspec": {
   "display_name": "Python 3 (ipykernel)",
   "language": "python",
   "name": "python3"
  },
  "language_info": {
   "codemirror_mode": {
    "name": "ipython",
    "version": 3
   },
   "file_extension": ".py",
   "mimetype": "text/x-python",
   "name": "python",
   "nbconvert_exporter": "python",
   "pygments_lexer": "ipython3",
   "version": "3.9.7"
  }
 },
 "nbformat": 4,
 "nbformat_minor": 5
}
